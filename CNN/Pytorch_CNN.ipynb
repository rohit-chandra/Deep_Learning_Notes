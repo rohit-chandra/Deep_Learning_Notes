{
 "cells": [
  {
   "cell_type": "code",
   "execution_count": 2,
   "metadata": {
    "ExecuteTime": {
     "end_time": "2022-07-25T03:15:04.430306Z",
     "start_time": "2022-07-25T03:15:04.419321Z"
    },
    "executionInfo": {
     "elapsed": 3410,
     "status": "ok",
     "timestamp": 1647769224337,
     "user": {
      "displayName": "colab0 ineuron",
      "photoUrl": "https://lh3.googleusercontent.com/a/default-user=s64",
      "userId": "16851312232179065356"
     },
     "user_tz": -330
    },
    "id": "aQ0NhoLZp00E"
   },
   "outputs": [],
   "source": [
    "import seaborn as sns\n",
    "import matplotlib.pyplot as plt\n",
    "# ^^^ pyforest auto-imports - don't write above this line\n",
    "import os \n",
    "ROOT = \"D:/Courses/Ineuron/DeepLearningANN_Sachin/Deep_Learning_Notes/CNN\"\n",
    "os.chdir(ROOT)"
   ]
  },
  {
   "cell_type": "code",
   "execution_count": 3,
   "metadata": {
    "ExecuteTime": {
     "end_time": "2022-07-25T03:15:04.648041Z",
     "start_time": "2022-07-25T03:15:04.636039Z"
    },
    "colab": {
     "base_uri": "https://localhost:8080/"
    },
    "executionInfo": {
     "elapsed": 8,
     "status": "ok",
     "timestamp": 1647769224337,
     "user": {
      "displayName": "colab0 ineuron",
      "photoUrl": "https://lh3.googleusercontent.com/a/default-user=s64",
      "userId": "16851312232179065356"
     },
     "user_tz": -330
    },
    "id": "OQ2R1CKlq_KP",
    "outputId": "ef5c7893-1075-419c-9316-1fde1bea9dc3"
   },
   "outputs": [
    {
     "data": {
      "text/plain": [
       "'D:\\\\Courses\\\\Ineuron\\\\DeepLearningANN_Sachin\\\\Deep_Learning_Notes\\\\CNN'"
      ]
     },
     "execution_count": 3,
     "metadata": {},
     "output_type": "execute_result"
    }
   ],
   "source": [
    "pwd"
   ]
  },
  {
   "cell_type": "code",
   "execution_count": 4,
   "metadata": {
    "ExecuteTime": {
     "end_time": "2022-07-25T03:15:04.883231Z",
     "start_time": "2022-07-25T03:15:04.842342Z"
    },
    "colab": {
     "base_uri": "https://localhost:8080/"
    },
    "executionInfo": {
     "elapsed": 496,
     "status": "ok",
     "timestamp": 1647769224830,
     "user": {
      "displayName": "colab0 ineuron",
      "photoUrl": "https://lh3.googleusercontent.com/a/default-user=s64",
      "userId": "16851312232179065356"
     },
     "user_tz": -330
    },
    "id": "ugIvhD3HrAn1",
    "outputId": "88ff002e-6ec9-47dd-8d7e-7a45b996853e"
   },
   "outputs": [
    {
     "name": "stdout",
     "output_type": "stream",
     "text": [
      " Volume in drive D is New Volume\n",
      " Volume Serial Number is A62E-BC19\n",
      "\n",
      " Directory of D:\\Courses\\Ineuron\\DeepLearningANN_Sachin\\Deep_Learning_Notes\\CNN\n",
      "\n",
      "24-07-2022  19:28    <DIR>          .\n",
      "24-07-2022  19:28    <DIR>          ..\n",
      "16-07-2022  20:18    <DIR>          .ipynb_checkpoints\n",
      "23-06-2022  19:26            13,586 car_grayscale.jpeg\n",
      "22-06-2022  16:14             7,647 car1.jpeg\n",
      "22-06-2022  16:14        13,343,790 Day-13_DL_FSDS.pdf\n",
      "24-06-2022  20:11        12,985,063 Day-14_DL_FSDS.pdf\n",
      "24-07-2022  10:57    <DIR>          FashionMNISTDir\n",
      "24-07-2022  10:16           911,676 Image understanding.ipynb\n",
      "24-06-2022  22:03         1,416,328 POC for CNN and pooling.ipynb\n",
      "24-07-2022  19:28           111,252 Pytorch_CNN.ipynb\n",
      "               7 File(s)     28,789,342 bytes\n",
      "               4 Dir(s)  666,541,342,720 bytes free\n"
     ]
    }
   ],
   "source": [
    "ls"
   ]
  },
  {
   "cell_type": "code",
   "execution_count": 5,
   "metadata": {
    "ExecuteTime": {
     "end_time": "2022-07-25T03:15:05.054585Z",
     "start_time": "2022-07-25T03:15:05.042585Z"
    },
    "executionInfo": {
     "elapsed": 6590,
     "status": "ok",
     "timestamp": 1647769231419,
     "user": {
      "displayName": "colab0 ineuron",
      "photoUrl": "https://lh3.googleusercontent.com/a/default-user=s64",
      "userId": "16851312232179065356"
     },
     "user_tz": -330
    },
    "id": "P7a8B9xErCE1"
   },
   "outputs": [],
   "source": [
    "import os\n",
    "import numpy as np\n",
    "import matplotlib.pyplot as plt\n"
   ]
  },
  {
   "cell_type": "code",
   "execution_count": 6,
   "metadata": {
    "ExecuteTime": {
     "end_time": "2022-07-25T03:15:07.656974Z",
     "start_time": "2022-07-25T03:15:05.258760Z"
    }
   },
   "outputs": [],
   "source": [
    "import seaborn as sns\n",
    "import pandas as pd\n",
    "import torch\n",
    "import torch.nn as nn\n",
    "from torch.utils.data import DataLoader\n",
    "from torchvision import transforms, datasets\n",
    "import torch.nn.functional as F\n",
    "from sklearn.metrics import confusion_matrix\n",
    "from tqdm import tqdm"
   ]
  },
  {
   "cell_type": "code",
   "execution_count": 7,
   "metadata": {
    "ExecuteTime": {
     "end_time": "2022-07-25T03:15:07.720946Z",
     "start_time": "2022-07-25T03:15:07.707953Z"
    },
    "colab": {
     "base_uri": "https://localhost:8080/"
    },
    "executionInfo": {
     "elapsed": 5,
     "status": "ok",
     "timestamp": 1647769231420,
     "user": {
      "displayName": "colab0 ineuron",
      "photoUrl": "https://lh3.googleusercontent.com/a/default-user=s64",
      "userId": "16851312232179065356"
     },
     "user_tz": -330
    },
    "id": "HNHLKpORrMS_",
    "outputId": "f0d7822a-9de4-4713-ebe6-6768087b9f8a"
   },
   "outputs": [
    {
     "name": "stdout",
     "output_type": "stream",
     "text": [
      "this notebook is using device: cpu\n"
     ]
    }
   ],
   "source": [
    "class Config:\n",
    "    def __init__(self):\n",
    "        self.ROOT_DATA_DIR = \"FashionMNISTDir\"\n",
    "        self.EPOCH = 10\n",
    "        self.BATCH_SIZE = 32\n",
    "        self.LEARNING_RATE = 0.01\n",
    "        self.IMAGE_SIZE = (28, 28)\n",
    "        self.DEVICE = \"cuda\" if torch.cuda.is_available() else \"cpu\"\n",
    "        print(f\"this notebook is using device: {self.DEVICE}\")\n",
    "        self.SEED = 2022\n",
    "\n",
    "config = Config()"
   ]
  },
  {
   "cell_type": "code",
   "execution_count": 8,
   "metadata": {
    "ExecuteTime": {
     "end_time": "2022-07-25T03:15:07.830625Z",
     "start_time": "2022-07-25T03:15:07.769790Z"
    },
    "executionInfo": {
     "elapsed": 5069,
     "status": "ok",
     "timestamp": 1647769236485,
     "user": {
      "displayName": "colab0 ineuron",
      "photoUrl": "https://lh3.googleusercontent.com/a/default-user=s64",
      "userId": "16851312232179065356"
     },
     "user_tz": -330
    },
    "id": "1WktFbXRrXFe"
   },
   "outputs": [],
   "source": [
    "train_data = datasets.FashionMNIST(\n",
    "    root = config.ROOT_DATA_DIR,\n",
    "    train = True,\n",
    "    download = True,\n",
    "    transform = transforms.ToTensor()\n",
    ")\n",
    "\n",
    "test_data = datasets.FashionMNIST(\n",
    "    root = config.ROOT_DATA_DIR,\n",
    "    train = False,\n",
    "    download = True,\n",
    "    transform = transforms.ToTensor()\n",
    ")"
   ]
  },
  {
   "cell_type": "code",
   "execution_count": 9,
   "metadata": {
    "ExecuteTime": {
     "end_time": "2022-07-25T03:15:07.893457Z",
     "start_time": "2022-07-25T03:15:07.879495Z"
    },
    "colab": {
     "base_uri": "https://localhost:8080/"
    },
    "executionInfo": {
     "elapsed": 29,
     "status": "ok",
     "timestamp": 1647769236486,
     "user": {
      "displayName": "colab0 ineuron",
      "photoUrl": "https://lh3.googleusercontent.com/a/default-user=s64",
      "userId": "16851312232179065356"
     },
     "user_tz": -330
    },
    "id": "pf-XLXqksJpc",
    "outputId": "855a210c-c756-43a9-a39f-67e0ef67465c"
   },
   "outputs": [
    {
     "data": {
      "text/plain": [
       "torch.Size([60000, 28, 28])"
      ]
     },
     "execution_count": 9,
     "metadata": {},
     "output_type": "execute_result"
    }
   ],
   "source": [
    "train_data.data.shape"
   ]
  },
  {
   "cell_type": "code",
   "execution_count": 10,
   "metadata": {
    "ExecuteTime": {
     "end_time": "2022-07-25T03:15:07.954295Z",
     "start_time": "2022-07-25T03:15:07.942327Z"
    },
    "colab": {
     "base_uri": "https://localhost:8080/"
    },
    "executionInfo": {
     "elapsed": 27,
     "status": "ok",
     "timestamp": 1647769236486,
     "user": {
      "displayName": "colab0 ineuron",
      "photoUrl": "https://lh3.googleusercontent.com/a/default-user=s64",
      "userId": "16851312232179065356"
     },
     "user_tz": -330
    },
    "id": "mZiOmW09s-R1",
    "outputId": "03e09f1c-12be-4988-921b-a8102b33d8ca"
   },
   "outputs": [
    {
     "data": {
      "text/plain": [
       "torch.Size([10000, 28, 28])"
      ]
     },
     "execution_count": 10,
     "metadata": {},
     "output_type": "execute_result"
    }
   ],
   "source": [
    "test_data.data.shape\n"
   ]
  },
  {
   "cell_type": "code",
   "execution_count": 11,
   "metadata": {
    "ExecuteTime": {
     "end_time": "2022-07-25T03:15:08.018124Z",
     "start_time": "2022-07-25T03:15:08.005160Z"
    },
    "colab": {
     "base_uri": "https://localhost:8080/"
    },
    "executionInfo": {
     "elapsed": 26,
     "status": "ok",
     "timestamp": 1647769236487,
     "user": {
      "displayName": "colab0 ineuron",
      "photoUrl": "https://lh3.googleusercontent.com/a/default-user=s64",
      "userId": "16851312232179065356"
     },
     "user_tz": -330
    },
    "id": "PE3ZuHv_tApr",
    "outputId": "eeb5a571-6048-4cfa-ee11-a726d8fcb15b"
   },
   "outputs": [
    {
     "data": {
      "text/plain": [
       "{'T-shirt/top': 0,\n",
       " 'Trouser': 1,\n",
       " 'Pullover': 2,\n",
       " 'Dress': 3,\n",
       " 'Coat': 4,\n",
       " 'Sandal': 5,\n",
       " 'Shirt': 6,\n",
       " 'Sneaker': 7,\n",
       " 'Bag': 8,\n",
       " 'Ankle boot': 9}"
      ]
     },
     "execution_count": 11,
     "metadata": {},
     "output_type": "execute_result"
    }
   ],
   "source": [
    "train_data.class_to_idx"
   ]
  },
  {
   "cell_type": "code",
   "execution_count": 12,
   "metadata": {
    "ExecuteTime": {
     "end_time": "2022-07-25T03:15:08.080955Z",
     "start_time": "2022-07-25T03:15:08.066994Z"
    },
    "colab": {
     "base_uri": "https://localhost:8080/"
    },
    "executionInfo": {
     "elapsed": 25,
     "status": "ok",
     "timestamp": 1647769236487,
     "user": {
      "displayName": "colab0 ineuron",
      "photoUrl": "https://lh3.googleusercontent.com/a/default-user=s64",
      "userId": "16851312232179065356"
     },
     "user_tz": -330
    },
    "id": "478ESUkstKRT",
    "outputId": "e0e63cb1-070c-4092-f9e0-d3e9d3548a1d"
   },
   "outputs": [
    {
     "data": {
      "text/plain": [
       "tensor([9, 0, 0,  ..., 3, 0, 5])"
      ]
     },
     "execution_count": 12,
     "metadata": {},
     "output_type": "execute_result"
    }
   ],
   "source": [
    "train_data.targets"
   ]
  },
  {
   "cell_type": "code",
   "execution_count": 13,
   "metadata": {
    "ExecuteTime": {
     "end_time": "2022-07-25T03:15:08.143909Z",
     "start_time": "2022-07-25T03:15:08.129925Z"
    },
    "colab": {
     "base_uri": "https://localhost:8080/"
    },
    "executionInfo": {
     "elapsed": 23,
     "status": "ok",
     "timestamp": 1647769236487,
     "user": {
      "displayName": "colab0 ineuron",
      "photoUrl": "https://lh3.googleusercontent.com/a/default-user=s64",
      "userId": "16851312232179065356"
     },
     "user_tz": -330
    },
    "id": "Gm9t1pcFtRm8",
    "outputId": "8d860303-1b89-4c81-efba-4382c3b1b8fb"
   },
   "outputs": [
    {
     "data": {
      "text/plain": [
       "{'T-shirt/top': 0,\n",
       " 'Trouser': 1,\n",
       " 'Pullover': 2,\n",
       " 'Dress': 3,\n",
       " 'Coat': 4,\n",
       " 'Sandal': 5,\n",
       " 'Shirt': 6,\n",
       " 'Sneaker': 7,\n",
       " 'Bag': 8,\n",
       " 'Ankle boot': 9}"
      ]
     },
     "execution_count": 13,
     "metadata": {},
     "output_type": "execute_result"
    }
   ],
   "source": [
    "# this dist is form value : key. We need to covert it to key:value\n",
    "given_label_map = train_data.class_to_idx\n",
    "given_label_map"
   ]
  },
  {
   "cell_type": "code",
   "execution_count": 14,
   "metadata": {
    "ExecuteTime": {
     "end_time": "2022-07-25T03:15:08.207718Z",
     "start_time": "2022-07-25T03:15:08.194752Z"
    },
    "colab": {
     "base_uri": "https://localhost:8080/"
    },
    "executionInfo": {
     "elapsed": 23,
     "status": "ok",
     "timestamp": 1647769236488,
     "user": {
      "displayName": "colab0 ineuron",
      "photoUrl": "https://lh3.googleusercontent.com/a/default-user=s64",
      "userId": "16851312232179065356"
     },
     "user_tz": -330
    },
    "id": "zg5StYMetoal",
    "outputId": "d7509636-c669-4bb4-d99c-609f3bb38cf9"
   },
   "outputs": [
    {
     "data": {
      "text/plain": [
       "{0: 'T-shirt/top',\n",
       " 1: 'Trouser',\n",
       " 2: 'Pullover',\n",
       " 3: 'Dress',\n",
       " 4: 'Coat',\n",
       " 5: 'Sandal',\n",
       " 6: 'Shirt',\n",
       " 7: 'Sneaker',\n",
       " 8: 'Bag',\n",
       " 9: 'Ankle boot'}"
      ]
     },
     "execution_count": 14,
     "metadata": {},
     "output_type": "execute_result"
    }
   ],
   "source": [
    "# convert the above dict to key:value format\n",
    "label_map = {val: key for key, val in given_label_map.items()}\n",
    "label_map"
   ]
  },
  {
   "cell_type": "markdown",
   "metadata": {
    "id": "ObOyQsE5t8zr"
   },
   "source": [
    "## Visualize one of the samples"
   ]
  },
  {
   "cell_type": "code",
   "execution_count": 15,
   "metadata": {
    "ExecuteTime": {
     "end_time": "2022-07-25T03:15:08.348377Z",
     "start_time": "2022-07-25T03:15:08.257587Z"
    },
    "colab": {
     "base_uri": "https://localhost:8080/",
     "height": 264
    },
    "executionInfo": {
     "elapsed": 22,
     "status": "ok",
     "timestamp": 1647769236488,
     "user": {
      "displayName": "colab0 ineuron",
      "photoUrl": "https://lh3.googleusercontent.com/a/default-user=s64",
      "userId": "16851312232179065356"
     },
     "user_tz": -330
    },
    "id": "bv_rU9cCt3sj",
    "outputId": "7cd1ace2-be8d-4888-be67-708b0fe299dc"
   },
   "outputs": [
    {
     "data": {
      "image/png": "[encoded data removed]",
      "text/plain": [
       "<Figure size 432x288 with 1 Axes>"
      ]
     },
     "metadata": {
      "needs_background": "light"
     },
     "output_type": "display_data"
    }
   ],
   "source": [
    "def view_sample_img(data, idx, label_map):\n",
    "    plt.imshow(data.data[idx], cmap=\"gray\") # grayscale\n",
    "    plt.title(f\"data label: {label_map[data.targets[idx].item()]}\")\n",
    "    plt.axis(\"off\")\n",
    "\n",
    "view_sample_img(train_data, 7, label_map)"
   ]
  },
  {
   "cell_type": "markdown",
   "metadata": {
    "id": "vHkuh8GFvGCi"
   },
   "source": [
    "## Create the dataloader"
   ]
  },
  {
   "cell_type": "code",
   "execution_count": 16,
   "metadata": {
    "ExecuteTime": {
     "end_time": "2022-07-25T03:15:08.412194Z",
     "start_time": "2022-07-25T03:15:08.401233Z"
    },
    "executionInfo": {
     "elapsed": 20,
     "status": "ok",
     "timestamp": 1647769236488,
     "user": {
      "displayName": "colab0 ineuron",
      "photoUrl": "https://lh3.googleusercontent.com/a/default-user=s64",
      "userId": "16851312232179065356"
     },
     "user_tz": -330
    },
    "id": "ZaidkURJuHQL",
    "run_control": {
     "marked": true
    }
   },
   "outputs": [],
   "source": [
    "# dataloader creates a iterator\n",
    "\n",
    "train_data_loader = DataLoader(\n",
    "    dataset = train_data,\n",
    "    batch_size = config.BATCH_SIZE,\n",
    "    shuffle = True\n",
    ")\n",
    "\n",
    "test_data_loader = DataLoader(\n",
    "    dataset = test_data,\n",
    "    batch_size = config.BATCH_SIZE,\n",
    "    shuffle = False\n",
    ")"
   ]
  },
  {
   "cell_type": "code",
   "execution_count": 17,
   "metadata": {
    "ExecuteTime": {
     "end_time": "2022-07-25T03:15:08.522050Z",
     "start_time": "2022-07-25T03:15:08.490169Z"
    },
    "colab": {
     "base_uri": "https://localhost:8080/"
    },
    "executionInfo": {
     "elapsed": 20,
     "status": "ok",
     "timestamp": 1647769236488,
     "user": {
      "displayName": "colab0 ineuron",
      "photoUrl": "https://lh3.googleusercontent.com/a/default-user=s64",
      "userId": "16851312232179065356"
     },
     "user_tz": -330
    },
    "id": "bXnEsD1UveQY",
    "outputId": "edb55533-d9d3-4434-965d-42725034bce5"
   },
   "outputs": [
    {
     "name": "stdout",
     "output_type": "stream",
     "text": [
      "image sahape : torch.Size([32, 1, 28, 28])\n",
      "label shape : torch.Size([32])\n"
     ]
    }
   ],
   "source": [
    "# iterate over train loader\n",
    "for images, labels in train_data_loader:\n",
    "    print(f\"image sahape : {images.shape}\")\n",
    "    print(f\"label shape : {labels.shape}\")\n",
    "    break"
   ]
  },
  {
   "cell_type": "markdown",
   "metadata": {},
   "source": [
    "**Observation:**\n",
    "+ Size = 28 * 28\n",
    "\n",
    "+ channel = 1\n",
    "\n",
    "+ batch size = 32"
   ]
  },
  {
   "cell_type": "code",
   "execution_count": 18,
   "metadata": {
    "ExecuteTime": {
     "end_time": "2022-07-25T03:15:08.990534Z",
     "start_time": "2022-07-25T03:15:08.979565Z"
    },
    "colab": {
     "base_uri": "https://localhost:8080/"
    },
    "executionInfo": {
     "elapsed": 19,
     "status": "ok",
     "timestamp": 1647769236489,
     "user": {
      "displayName": "colab0 ineuron",
      "photoUrl": "https://lh3.googleusercontent.com/a/default-user=s64",
      "userId": "16851312232179065356"
     },
     "user_tz": -330
    },
    "id": "KfCxMOg6vupb",
    "outputId": "405b66de-8654-4c9e-af51-d98308b229f7"
   },
   "outputs": [
    {
     "data": {
      "text/plain": [
       "torch.Size([1, 28, 28])"
      ]
     },
     "execution_count": 18,
     "metadata": {},
     "output_type": "execute_result"
    }
   ],
   "source": [
    "images[0].shape"
   ]
  },
  {
   "cell_type": "code",
   "execution_count": 19,
   "metadata": {
    "ExecuteTime": {
     "end_time": "2022-07-25T03:15:09.240864Z",
     "start_time": "2022-07-25T03:15:09.225906Z"
    },
    "colab": {
     "base_uri": "https://localhost:8080/"
    },
    "executionInfo": {
     "elapsed": 18,
     "status": "ok",
     "timestamp": 1647769236489,
     "user": {
      "displayName": "colab0 ineuron",
      "photoUrl": "https://lh3.googleusercontent.com/a/default-user=s64",
      "userId": "16851312232179065356"
     },
     "user_tz": -330
    },
    "id": "YNPBeELzwOJ6",
    "outputId": "fbe5bdef-afb2-4191-dbfa-1fc665ea29f1"
   },
   "outputs": [
    {
     "data": {
      "text/plain": [
       "torch.Size([28, 28])"
      ]
     },
     "execution_count": 19,
     "metadata": {},
     "output_type": "execute_result"
    }
   ],
   "source": [
    "# removes 1 in torch.Size([1, 28, 28])\n",
    "images[0].squeeze().shape"
   ]
  },
  {
   "cell_type": "code",
   "execution_count": 20,
   "metadata": {
    "ExecuteTime": {
     "end_time": "2022-07-25T03:15:09.446348Z",
     "start_time": "2022-07-25T03:15:09.426397Z"
    },
    "colab": {
     "base_uri": "https://localhost:8080/"
    },
    "executionInfo": {
     "elapsed": 16,
     "status": "ok",
     "timestamp": 1647769236489,
     "user": {
      "displayName": "colab0 ineuron",
      "photoUrl": "https://lh3.googleusercontent.com/a/default-user=s64",
      "userId": "16851312232179065356"
     },
     "user_tz": -330
    },
    "id": "CbobFJhowhW7",
    "outputId": "30569ae8-e028-451b-ab53-ca005e57af5e"
   },
   "outputs": [
    {
     "data": {
      "text/plain": [
       "array([[0.        , 0.        , 0.        , 0.        , 0.        ,\n",
       "        0.        , 0.        , 0.        , 0.        , 0.        ,\n",
       "        0.        , 0.        , 0.        , 0.        , 0.        ,\n",
       "        0.        , 0.        , 0.        , 0.        , 0.        ,\n",
       "        0.        , 0.        , 0.        , 0.        , 0.        ,\n",
       "        0.        , 0.        , 0.        ],\n",
       "       [0.        , 0.        , 0.        , 0.        , 0.        ,\n",
       "        0.        , 0.        , 0.        , 0.        , 0.        ,\n",
       "        0.        , 0.        , 0.        , 0.        , 0.        ,\n",
       "        0.        , 0.        , 0.        , 0.        , 0.        ,\n",
       "        0.        , 0.        , 0.        , 0.        , 0.        ,\n",
       "        0.        , 0.        , 0.        ],\n",
       "       [0.        , 0.        , 0.        , 0.        , 0.        ,\n",
       "        0.        , 0.        , 0.        , 0.        , 0.        ,\n",
       "        0.        , 0.        , 0.        , 0.        , 0.        ,\n",
       "        0.        , 0.        , 0.        , 0.        , 0.        ,\n",
       "        0.        , 0.        , 0.        , 0.        , 0.        ,\n",
       "        0.        , 0.        , 0.        ],\n",
       "       [0.        , 0.        , 0.        , 0.        , 0.        ,\n",
       "        0.        , 0.        , 0.        , 0.        , 0.        ,\n",
       "        0.        , 0.        , 0.        , 0.01568628, 0.00784314,\n",
       "        0.00784314, 0.00784314, 0.00784314, 0.01568628, 0.02745098,\n",
       "        0.00784314, 0.        , 0.        , 0.37254903, 0.34509805,\n",
       "        0.        , 0.        , 0.        ],\n",
       "       [0.        , 0.        , 0.        , 0.        , 0.        ,\n",
       "        0.        , 0.        , 0.        , 0.        , 0.        ,\n",
       "        0.        , 0.        , 0.        , 0.        , 0.        ,\n",
       "        0.        , 0.        , 0.        , 0.        , 0.        ,\n",
       "        0.        , 0.        , 0.25882354, 0.6431373 , 0.54509807,\n",
       "        0.00784314, 0.        , 0.        ],\n",
       "       [0.        , 0.        , 0.        , 0.        , 0.        ,\n",
       "        0.        , 0.        , 0.        , 0.        , 0.        ,\n",
       "        0.        , 0.        , 0.        , 0.        , 0.08627451,\n",
       "        0.08627451, 0.07450981, 0.15294118, 0.24705882, 0.3647059 ,\n",
       "        0.49019608, 0.6431373 , 0.6901961 , 0.49019608, 0.6509804 ,\n",
       "        0.6431373 , 0.        , 0.        ],\n",
       "       [0.        , 0.        , 0.        , 0.        , 0.        ,\n",
       "        0.        , 0.        , 0.        , 0.        , 0.        ,\n",
       "        0.        , 0.00784314, 0.        , 0.26666668, 0.54509807,\n",
       "        0.6509804 , 0.62352943, 0.6313726 , 0.6039216 , 0.58431375,\n",
       "        0.58431375, 0.34509805, 0.13333334, 0.5764706 , 0.5254902 ,\n",
       "        0.8745098 , 0.        , 0.        ],\n",
       "       [0.        , 0.        , 0.        , 0.        , 0.        ,\n",
       "        0.        , 0.        , 0.        , 0.        , 0.00784314,\n",
       "        0.        , 0.00784314, 0.        , 0.19215687, 0.4       ,\n",
       "        0.33333334, 0.3647059 , 0.24705882, 0.14117648, 0.00784314,\n",
       "        0.        , 0.        , 0.        , 0.5764706 , 0.34509805,\n",
       "        0.6627451 , 0.19215687, 0.        ],\n",
       "       [0.        , 0.        , 0.        , 0.        , 0.        ,\n",
       "        0.        , 0.        , 0.        , 0.        , 0.00784314,\n",
       "        0.        , 0.        , 0.        , 0.5176471 , 0.        ,\n",
       "        0.        , 0.        , 0.        , 0.        , 0.        ,\n",
       "        0.        , 0.        , 0.        , 0.70980394, 0.38431373,\n",
       "        0.5372549 , 0.41960785, 0.        ],\n",
       "       [0.        , 0.        , 0.        , 0.        , 0.        ,\n",
       "        0.        , 0.        , 0.        , 0.        , 0.        ,\n",
       "        0.        , 0.        , 0.00784314, 0.4392157 , 0.04705882,\n",
       "        0.03529412, 0.        , 0.        , 0.        , 0.        ,\n",
       "        0.        , 0.        , 0.        , 0.59607846, 0.41960785,\n",
       "        0.39215687, 0.4509804 , 0.        ],\n",
       "       [0.        , 0.        , 0.        , 0.        , 0.        ,\n",
       "        0.        , 0.        , 0.        , 0.        , 0.        ,\n",
       "        0.        , 0.        , 0.4       , 0.68235296, 0.6509804 ,\n",
       "        0.6117647 , 0.47058824, 0.3529412 , 0.2       , 0.18039216,\n",
       "        0.33333334, 0.01568628, 0.01568628, 0.5764706 , 0.29803923,\n",
       "        0.4392157 , 0.41960785, 0.        ],\n",
       "       [0.        , 0.        , 0.        , 0.        , 0.        ,\n",
       "        0.        , 0.        , 0.        , 0.        , 0.        ,\n",
       "        0.        , 0.        , 0.2784314 , 0.5372549 , 0.49019608,\n",
       "        0.5764706 , 0.4       , 0.6313726 , 0.69803923, 0.59607846,\n",
       "        0.7490196 , 0.5647059 , 0.54509807, 0.4117647 , 0.3529412 ,\n",
       "        0.3529412 , 0.5254902 , 0.2       ],\n",
       "       [0.        , 0.        , 0.        , 0.        , 0.        ,\n",
       "        0.        , 0.        , 0.        , 0.        , 0.01568628,\n",
       "        0.        , 0.06666667, 0.34509805, 0.        , 0.        ,\n",
       "        0.        , 0.        , 0.        , 0.        , 0.3254902 ,\n",
       "        0.47843137, 0.6039216 , 0.7490196 , 0.2784314 , 0.37254903,\n",
       "        0.4509804 , 0.45882353, 0.24705882],\n",
       "       [0.        , 0.        , 0.        , 0.        , 0.        ,\n",
       "        0.        , 0.        , 0.        , 0.01568628, 0.01568628,\n",
       "        0.        , 0.4117647 , 0.08627451, 0.        , 0.        ,\n",
       "        0.        , 0.        , 0.        , 0.        , 0.        ,\n",
       "        0.        , 0.2784314 , 0.8745098 , 0.3137255 , 0.5176471 ,\n",
       "        0.4392157 , 0.49019608, 0.23921569],\n",
       "       [0.        , 0.        , 0.        , 0.        , 0.        ,\n",
       "        0.        , 0.        , 0.        , 0.00784314, 0.        ,\n",
       "        0.18039216, 0.67058825, 0.6509804 , 0.18039216, 0.        ,\n",
       "        0.        , 0.        , 0.        , 0.        , 0.00784314,\n",
       "        0.        , 0.8039216 , 0.6313726 , 0.41960785, 0.47843137,\n",
       "        0.41960785, 0.5254902 , 0.12156863],\n",
       "       [0.        , 0.        , 0.        , 0.        , 0.        ,\n",
       "        0.        , 0.        , 0.        , 0.        , 0.        ,\n",
       "        0.3647059 , 0.30588236, 0.70980394, 0.88235295, 0.47058824,\n",
       "        0.        , 0.        , 0.        , 0.        , 0.        ,\n",
       "        0.        , 0.6509804 , 0.5176471 , 0.43137255, 0.5176471 ,\n",
       "        0.58431375, 0.5764706 , 0.        ],\n",
       "       [0.        , 0.        , 0.        , 0.        , 0.01568628,\n",
       "        0.        , 0.        , 0.00784314, 0.        , 0.33333334,\n",
       "        0.23921569, 0.30588236, 0.47843137, 0.58431375, 0.8235294 ,\n",
       "        0.58431375, 0.        , 0.        , 0.        , 0.        ,\n",
       "        0.04705882, 0.43137255, 0.5647059 , 0.5568628 , 0.43137255,\n",
       "        0.47843137, 0.29803923, 0.        ],\n",
       "       [0.        , 0.        , 0.        , 0.        , 0.        ,\n",
       "        0.        , 0.00784314, 0.        , 0.09411765, 0.6039216 ,\n",
       "        0.        , 0.        , 0.22745098, 0.5647059 , 0.5254902 ,\n",
       "        0.70980394, 0.58431375, 0.        , 0.03529412, 0.39215687,\n",
       "        0.7294118 , 0.8745098 , 0.6901961 , 0.54509807, 0.47843137,\n",
       "        0.5254902 , 0.17254902, 0.        ],\n",
       "       [0.        , 0.        , 0.        , 0.        , 0.        ,\n",
       "        0.        , 0.00784314, 0.        , 0.39215687, 0.75686276,\n",
       "        0.8745098 , 0.30588236, 0.        , 0.        , 0.3137255 ,\n",
       "        0.49019608, 0.5647059 , 0.49803922, 0.5372549 , 0.67058825,\n",
       "        0.49803922, 0.        , 0.        , 0.        , 0.68235296,\n",
       "        0.6117647 , 0.01568628, 0.        ],\n",
       "       [0.        , 0.        , 0.        , 0.        , 0.        ,\n",
       "        0.        , 0.        , 0.39215687, 0.25882354, 0.25882354,\n",
       "        0.5058824 , 1.        , 0.6431373 , 0.        , 0.        ,\n",
       "        0.        , 0.4117647 , 0.5764706 , 0.6627451 , 0.24705882,\n",
       "        0.        , 0.        , 0.        , 0.        , 0.5568628 ,\n",
       "        0.62352943, 0.        , 0.        ],\n",
       "       [0.        , 0.        , 0.        , 0.        , 0.        ,\n",
       "        0.        , 0.4392157 , 0.43137255, 0.        , 0.5254902 ,\n",
       "        0.26666668, 0.4117647 , 0.89411765, 0.4117647 , 0.        ,\n",
       "        0.22745098, 0.79607844, 0.6901961 , 0.00784314, 0.        ,\n",
       "        0.00784314, 0.00784314, 0.        , 0.        , 0.6039216 ,\n",
       "        0.4392157 , 0.        , 0.        ],\n",
       "       [0.01568628, 0.00784314, 0.01568628, 0.01568628, 0.        ,\n",
       "        0.04705882, 0.5254902 , 0.6431373 , 0.        , 0.        ,\n",
       "        0.5254902 , 0.6509804 , 0.5372549 , 0.76862746, 0.33333334,\n",
       "        0.8039216 , 0.7490196 , 0.        , 0.        , 0.01568628,\n",
       "        0.        , 0.        , 0.01568628, 0.        , 0.5372549 ,\n",
       "        0.5372549 , 0.        , 0.        ],\n",
       "       [0.        , 0.        , 0.        , 0.        , 0.        ,\n",
       "        0.        , 0.20784314, 0.5647059 , 0.        , 0.        ,\n",
       "        0.        , 0.06666667, 0.5058824 , 0.4509804 , 0.6117647 ,\n",
       "        0.7764706 , 0.        , 0.        , 0.00784314, 0.        ,\n",
       "        0.        , 0.        , 0.01568628, 0.        , 0.4392157 ,\n",
       "        0.54509807, 0.        , 0.        ],\n",
       "       [0.08627451, 0.15294118, 0.07450981, 0.        , 0.        ,\n",
       "        0.        , 0.24705882, 0.6117647 , 0.        , 0.        ,\n",
       "        0.        , 0.        , 0.38431373, 0.62352943, 0.7764706 ,\n",
       "        0.03529412, 0.        , 0.02745098, 0.        , 0.        ,\n",
       "        0.        , 0.        , 0.01568628, 0.        , 0.45882353,\n",
       "        0.45882353, 0.        , 0.        ],\n",
       "       [0.16078432, 0.47058824, 0.54509807, 0.6627451 , 0.6509804 ,\n",
       "        0.49803922, 0.6431373 , 0.70980394, 0.6117647 , 0.5568628 ,\n",
       "        0.54509807, 0.6117647 , 0.84313726, 0.8627451 , 0.01568628,\n",
       "        0.        , 0.01568628, 0.        , 0.        , 0.        ,\n",
       "        0.        , 0.        , 0.04705882, 0.        , 0.3254902 ,\n",
       "        0.54509807, 0.        , 0.        ],\n",
       "       [0.        , 0.        , 0.        , 0.        , 0.04705882,\n",
       "        0.16078432, 0.25882354, 0.3137255 , 0.47058824, 0.54509807,\n",
       "        0.41960785, 0.39215687, 0.15294118, 0.        , 0.        ,\n",
       "        0.01568628, 0.00784314, 0.        , 0.        , 0.        ,\n",
       "        0.        , 0.        , 0.04705882, 0.        , 0.43137255,\n",
       "        0.9411765 , 0.        , 0.        ],\n",
       "       [0.        , 0.        , 0.        , 0.        , 0.        ,\n",
       "        0.        , 0.        , 0.        , 0.        , 0.        ,\n",
       "        0.        , 0.        , 0.        , 0.        , 0.        ,\n",
       "        0.        , 0.        , 0.        , 0.        , 0.        ,\n",
       "        0.        , 0.        , 0.        , 0.        , 0.        ,\n",
       "        0.        , 0.        , 0.        ],\n",
       "       [0.        , 0.        , 0.        , 0.        , 0.        ,\n",
       "        0.        , 0.        , 0.        , 0.        , 0.        ,\n",
       "        0.        , 0.        , 0.        , 0.        , 0.        ,\n",
       "        0.        , 0.        , 0.        , 0.        , 0.        ,\n",
       "        0.        , 0.        , 0.        , 0.        , 0.        ,\n",
       "        0.        , 0.        , 0.        ]], dtype=float32)"
      ]
     },
     "execution_count": 20,
     "metadata": {},
     "output_type": "execute_result"
    }
   ],
   "source": [
    "# covert tensor to numpy\n",
    "images[0].squeeze().numpy()"
   ]
  },
  {
   "cell_type": "code",
   "execution_count": 21,
   "metadata": {
    "ExecuteTime": {
     "end_time": "2022-07-25T03:15:09.774467Z",
     "start_time": "2022-07-25T03:15:09.658750Z"
    },
    "colab": {
     "base_uri": "https://localhost:8080/",
     "height": 282
    },
    "executionInfo": {
     "elapsed": 810,
     "status": "ok",
     "timestamp": 1647769237284,
     "user": {
      "displayName": "colab0 ineuron",
      "photoUrl": "https://lh3.googleusercontent.com/a/default-user=s64",
      "userId": "16851312232179065356"
     },
     "user_tz": -330
    },
    "id": "artpQMtTv8M6",
    "outputId": "112e0f67-1de1-4d87-8c05-49584db9d279"
   },
   "outputs": [
    {
     "data": {
      "text/plain": [
       "<matplotlib.image.AxesImage at 0x23deda80948>"
      ]
     },
     "execution_count": 21,
     "metadata": {},
     "output_type": "execute_result"
    },
    {
     "data": {
      "image/png": "[encoded data removed]",
      "text/plain": [
       "<Figure size 432x288 with 1 Axes>"
      ]
     },
     "metadata": {
      "needs_background": "light"
     },
     "output_type": "display_data"
    }
   ],
   "source": [
    "plt.imshow(images[0].squeeze(), cmap=\"gray\")"
   ]
  },
  {
   "cell_type": "code",
   "execution_count": 22,
   "metadata": {
    "ExecuteTime": {
     "end_time": "2022-07-25T03:15:09.933042Z",
     "start_time": "2022-07-25T03:15:09.922072Z"
    },
    "colab": {
     "base_uri": "https://localhost:8080/"
    },
    "executionInfo": {
     "elapsed": 26,
     "status": "ok",
     "timestamp": 1647769237285,
     "user": {
      "displayName": "colab0 ineuron",
      "photoUrl": "https://lh3.googleusercontent.com/a/default-user=s64",
      "userId": "16851312232179065356"
     },
     "user_tz": -330
    },
    "id": "yYeIWTwGwGfh",
    "outputId": "76abb409-66bf-431c-cf46-789edc73df71"
   },
   "outputs": [
    {
     "data": {
      "text/plain": [
       "(torch.Size([1, 28, 28]), torch.Size([28, 28]), torch.Size([1, 1, 28, 28]))"
      ]
     },
     "execution_count": 22,
     "metadata": {},
     "output_type": "execute_result"
    }
   ],
   "source": [
    "# before and after squeeze\n",
    "\n",
    "images[0].shape, images[0].squeeze().shape, images[0].unsqueeze(dim=1).shape"
   ]
  },
  {
   "cell_type": "code",
   "execution_count": 23,
   "metadata": {
    "ExecuteTime": {
     "end_time": "2022-07-25T03:15:10.171378Z",
     "start_time": "2022-07-25T03:15:10.163401Z"
    },
    "colab": {
     "base_uri": "https://localhost:8080/"
    },
    "executionInfo": {
     "elapsed": 22,
     "status": "ok",
     "timestamp": 1647769237285,
     "user": {
      "displayName": "colab0 ineuron",
      "photoUrl": "https://lh3.googleusercontent.com/a/default-user=s64",
      "userId": "16851312232179065356"
     },
     "user_tz": -330
    },
    "id": "7bjcwdwqw_II",
    "outputId": "0abdcc08-cd00-429c-8d05-8fc3195d8579"
   },
   "outputs": [
    {
     "data": {
      "text/plain": [
       "torch.Size([28, 28])"
      ]
     },
     "execution_count": 23,
     "metadata": {},
     "output_type": "execute_result"
    }
   ],
   "source": [
    "images[0][0].shape"
   ]
  },
  {
   "cell_type": "code",
   "execution_count": 24,
   "metadata": {
    "ExecuteTime": {
     "end_time": "2022-07-25T03:15:10.438663Z",
     "start_time": "2022-07-25T03:15:10.426696Z"
    },
    "colab": {
     "base_uri": "https://localhost:8080/"
    },
    "executionInfo": {
     "elapsed": 19,
     "status": "ok",
     "timestamp": 1647769237285,
     "user": {
      "displayName": "colab0 ineuron",
      "photoUrl": "https://lh3.googleusercontent.com/a/default-user=s64",
      "userId": "16851312232179065356"
     },
     "user_tz": -330
    },
    "id": "Ujzcfrk1w0Bq",
    "outputId": "15dc27e4-f0af-4dc8-ce5b-9b957fddeb64"
   },
   "outputs": [
    {
     "data": {
      "text/plain": [
       "tensor([[0.0000, 0.0000, 0.0000, 0.0000, 0.0000, 0.0000, 0.0000, 0.0000, 0.0000,\n",
       "         0.0000, 0.0000, 0.0000, 0.0000, 0.0000, 0.0000, 0.0000, 0.0000, 0.0000,\n",
       "         0.0000, 0.0000, 0.0000, 0.0000, 0.0000, 0.0000, 0.0000, 0.0000, 0.0000,\n",
       "         0.0000],\n",
       "        [0.0000, 0.0000, 0.0000, 0.0000, 0.0000, 0.0000, 0.0000, 0.0000, 0.0000,\n",
       "         0.0000, 0.0000, 0.0000, 0.0000, 0.0000, 0.0000, 0.0000, 0.0000, 0.0000,\n",
       "         0.0000, 0.0000, 0.0000, 0.0000, 0.0000, 0.0000, 0.0000, 0.0000, 0.0000,\n",
       "         0.0000],\n",
       "        [0.0000, 0.0000, 0.0000, 0.0000, 0.0000, 0.0000, 0.0000, 0.0000, 0.0000,\n",
       "         0.0000, 0.0000, 0.0000, 0.0000, 0.0000, 0.0000, 0.0000, 0.0000, 0.0000,\n",
       "         0.0000, 0.0000, 0.0000, 0.0000, 0.0000, 0.0000, 0.0000, 0.0000, 0.0000,\n",
       "         0.0000],\n",
       "        [0.0000, 0.0000, 0.0000, 0.0000, 0.0000, 0.0000, 0.0000, 0.0000, 0.0000,\n",
       "         0.0000, 0.0000, 0.0000, 0.0000, 0.0157, 0.0078, 0.0078, 0.0078, 0.0078,\n",
       "         0.0157, 0.0275, 0.0078, 0.0000, 0.0000, 0.3725, 0.3451, 0.0000, 0.0000,\n",
       "         0.0000],\n",
       "        [0.0000, 0.0000, 0.0000, 0.0000, 0.0000, 0.0000, 0.0000, 0.0000, 0.0000,\n",
       "         0.0000, 0.0000, 0.0000, 0.0000, 0.0000, 0.0000, 0.0000, 0.0000, 0.0000,\n",
       "         0.0000, 0.0000, 0.0000, 0.0000, 0.2588, 0.6431, 0.5451, 0.0078, 0.0000,\n",
       "         0.0000],\n",
       "        [0.0000, 0.0000, 0.0000, 0.0000, 0.0000, 0.0000, 0.0000, 0.0000, 0.0000,\n",
       "         0.0000, 0.0000, 0.0000, 0.0000, 0.0000, 0.0863, 0.0863, 0.0745, 0.1529,\n",
       "         0.2471, 0.3647, 0.4902, 0.6431, 0.6902, 0.4902, 0.6510, 0.6431, 0.0000,\n",
       "         0.0000],\n",
       "        [0.0000, 0.0000, 0.0000, 0.0000, 0.0000, 0.0000, 0.0000, 0.0000, 0.0000,\n",
       "         0.0000, 0.0000, 0.0078, 0.0000, 0.2667, 0.5451, 0.6510, 0.6235, 0.6314,\n",
       "         0.6039, 0.5843, 0.5843, 0.3451, 0.1333, 0.5765, 0.5255, 0.8745, 0.0000,\n",
       "         0.0000],\n",
       "        [0.0000, 0.0000, 0.0000, 0.0000, 0.0000, 0.0000, 0.0000, 0.0000, 0.0000,\n",
       "         0.0078, 0.0000, 0.0078, 0.0000, 0.1922, 0.4000, 0.3333, 0.3647, 0.2471,\n",
       "         0.1412, 0.0078, 0.0000, 0.0000, 0.0000, 0.5765, 0.3451, 0.6627, 0.1922,\n",
       "         0.0000],\n",
       "        [0.0000, 0.0000, 0.0000, 0.0000, 0.0000, 0.0000, 0.0000, 0.0000, 0.0000,\n",
       "         0.0078, 0.0000, 0.0000, 0.0000, 0.5176, 0.0000, 0.0000, 0.0000, 0.0000,\n",
       "         0.0000, 0.0000, 0.0000, 0.0000, 0.0000, 0.7098, 0.3843, 0.5373, 0.4196,\n",
       "         0.0000],\n",
       "        [0.0000, 0.0000, 0.0000, 0.0000, 0.0000, 0.0000, 0.0000, 0.0000, 0.0000,\n",
       "         0.0000, 0.0000, 0.0000, 0.0078, 0.4392, 0.0471, 0.0353, 0.0000, 0.0000,\n",
       "         0.0000, 0.0000, 0.0000, 0.0000, 0.0000, 0.5961, 0.4196, 0.3922, 0.4510,\n",
       "         0.0000],\n",
       "        [0.0000, 0.0000, 0.0000, 0.0000, 0.0000, 0.0000, 0.0000, 0.0000, 0.0000,\n",
       "         0.0000, 0.0000, 0.0000, 0.4000, 0.6824, 0.6510, 0.6118, 0.4706, 0.3529,\n",
       "         0.2000, 0.1804, 0.3333, 0.0157, 0.0157, 0.5765, 0.2980, 0.4392, 0.4196,\n",
       "         0.0000],\n",
       "        [0.0000, 0.0000, 0.0000, 0.0000, 0.0000, 0.0000, 0.0000, 0.0000, 0.0000,\n",
       "         0.0000, 0.0000, 0.0000, 0.2784, 0.5373, 0.4902, 0.5765, 0.4000, 0.6314,\n",
       "         0.6980, 0.5961, 0.7490, 0.5647, 0.5451, 0.4118, 0.3529, 0.3529, 0.5255,\n",
       "         0.2000],\n",
       "        [0.0000, 0.0000, 0.0000, 0.0000, 0.0000, 0.0000, 0.0000, 0.0000, 0.0000,\n",
       "         0.0157, 0.0000, 0.0667, 0.3451, 0.0000, 0.0000, 0.0000, 0.0000, 0.0000,\n",
       "         0.0000, 0.3255, 0.4784, 0.6039, 0.7490, 0.2784, 0.3725, 0.4510, 0.4588,\n",
       "         0.2471],\n",
       "        [0.0000, 0.0000, 0.0000, 0.0000, 0.0000, 0.0000, 0.0000, 0.0000, 0.0157,\n",
       "         0.0157, 0.0000, 0.4118, 0.0863, 0.0000, 0.0000, 0.0000, 0.0000, 0.0000,\n",
       "         0.0000, 0.0000, 0.0000, 0.2784, 0.8745, 0.3137, 0.5176, 0.4392, 0.4902,\n",
       "         0.2392],\n",
       "        [0.0000, 0.0000, 0.0000, 0.0000, 0.0000, 0.0000, 0.0000, 0.0000, 0.0078,\n",
       "         0.0000, 0.1804, 0.6706, 0.6510, 0.1804, 0.0000, 0.0000, 0.0000, 0.0000,\n",
       "         0.0000, 0.0078, 0.0000, 0.8039, 0.6314, 0.4196, 0.4784, 0.4196, 0.5255,\n",
       "         0.1216],\n",
       "        [0.0000, 0.0000, 0.0000, 0.0000, 0.0000, 0.0000, 0.0000, 0.0000, 0.0000,\n",
       "         0.0000, 0.3647, 0.3059, 0.7098, 0.8824, 0.4706, 0.0000, 0.0000, 0.0000,\n",
       "         0.0000, 0.0000, 0.0000, 0.6510, 0.5176, 0.4314, 0.5176, 0.5843, 0.5765,\n",
       "         0.0000],\n",
       "        [0.0000, 0.0000, 0.0000, 0.0000, 0.0157, 0.0000, 0.0000, 0.0078, 0.0000,\n",
       "         0.3333, 0.2392, 0.3059, 0.4784, 0.5843, 0.8235, 0.5843, 0.0000, 0.0000,\n",
       "         0.0000, 0.0000, 0.0471, 0.4314, 0.5647, 0.5569, 0.4314, 0.4784, 0.2980,\n",
       "         0.0000],\n",
       "        [0.0000, 0.0000, 0.0000, 0.0000, 0.0000, 0.0000, 0.0078, 0.0000, 0.0941,\n",
       "         0.6039, 0.0000, 0.0000, 0.2275, 0.5647, 0.5255, 0.7098, 0.5843, 0.0000,\n",
       "         0.0353, 0.3922, 0.7294, 0.8745, 0.6902, 0.5451, 0.4784, 0.5255, 0.1725,\n",
       "         0.0000],\n",
       "        [0.0000, 0.0000, 0.0000, 0.0000, 0.0000, 0.0000, 0.0078, 0.0000, 0.3922,\n",
       "         0.7569, 0.8745, 0.3059, 0.0000, 0.0000, 0.3137, 0.4902, 0.5647, 0.4980,\n",
       "         0.5373, 0.6706, 0.4980, 0.0000, 0.0000, 0.0000, 0.6824, 0.6118, 0.0157,\n",
       "         0.0000],\n",
       "        [0.0000, 0.0000, 0.0000, 0.0000, 0.0000, 0.0000, 0.0000, 0.3922, 0.2588,\n",
       "         0.2588, 0.5059, 1.0000, 0.6431, 0.0000, 0.0000, 0.0000, 0.4118, 0.5765,\n",
       "         0.6627, 0.2471, 0.0000, 0.0000, 0.0000, 0.0000, 0.5569, 0.6235, 0.0000,\n",
       "         0.0000],\n",
       "        [0.0000, 0.0000, 0.0000, 0.0000, 0.0000, 0.0000, 0.4392, 0.4314, 0.0000,\n",
       "         0.5255, 0.2667, 0.4118, 0.8941, 0.4118, 0.0000, 0.2275, 0.7961, 0.6902,\n",
       "         0.0078, 0.0000, 0.0078, 0.0078, 0.0000, 0.0000, 0.6039, 0.4392, 0.0000,\n",
       "         0.0000],\n",
       "        [0.0157, 0.0078, 0.0157, 0.0157, 0.0000, 0.0471, 0.5255, 0.6431, 0.0000,\n",
       "         0.0000, 0.5255, 0.6510, 0.5373, 0.7686, 0.3333, 0.8039, 0.7490, 0.0000,\n",
       "         0.0000, 0.0157, 0.0000, 0.0000, 0.0157, 0.0000, 0.5373, 0.5373, 0.0000,\n",
       "         0.0000],\n",
       "        [0.0000, 0.0000, 0.0000, 0.0000, 0.0000, 0.0000, 0.2078, 0.5647, 0.0000,\n",
       "         0.0000, 0.0000, 0.0667, 0.5059, 0.4510, 0.6118, 0.7765, 0.0000, 0.0000,\n",
       "         0.0078, 0.0000, 0.0000, 0.0000, 0.0157, 0.0000, 0.4392, 0.5451, 0.0000,\n",
       "         0.0000],\n",
       "        [0.0863, 0.1529, 0.0745, 0.0000, 0.0000, 0.0000, 0.2471, 0.6118, 0.0000,\n",
       "         0.0000, 0.0000, 0.0000, 0.3843, 0.6235, 0.7765, 0.0353, 0.0000, 0.0275,\n",
       "         0.0000, 0.0000, 0.0000, 0.0000, 0.0157, 0.0000, 0.4588, 0.4588, 0.0000,\n",
       "         0.0000],\n",
       "        [0.1608, 0.4706, 0.5451, 0.6627, 0.6510, 0.4980, 0.6431, 0.7098, 0.6118,\n",
       "         0.5569, 0.5451, 0.6118, 0.8431, 0.8627, 0.0157, 0.0000, 0.0157, 0.0000,\n",
       "         0.0000, 0.0000, 0.0000, 0.0000, 0.0471, 0.0000, 0.3255, 0.5451, 0.0000,\n",
       "         0.0000],\n",
       "        [0.0000, 0.0000, 0.0000, 0.0000, 0.0471, 0.1608, 0.2588, 0.3137, 0.4706,\n",
       "         0.5451, 0.4196, 0.3922, 0.1529, 0.0000, 0.0000, 0.0157, 0.0078, 0.0000,\n",
       "         0.0000, 0.0000, 0.0000, 0.0000, 0.0471, 0.0000, 0.4314, 0.9412, 0.0000,\n",
       "         0.0000],\n",
       "        [0.0000, 0.0000, 0.0000, 0.0000, 0.0000, 0.0000, 0.0000, 0.0000, 0.0000,\n",
       "         0.0000, 0.0000, 0.0000, 0.0000, 0.0000, 0.0000, 0.0000, 0.0000, 0.0000,\n",
       "         0.0000, 0.0000, 0.0000, 0.0000, 0.0000, 0.0000, 0.0000, 0.0000, 0.0000,\n",
       "         0.0000],\n",
       "        [0.0000, 0.0000, 0.0000, 0.0000, 0.0000, 0.0000, 0.0000, 0.0000, 0.0000,\n",
       "         0.0000, 0.0000, 0.0000, 0.0000, 0.0000, 0.0000, 0.0000, 0.0000, 0.0000,\n",
       "         0.0000, 0.0000, 0.0000, 0.0000, 0.0000, 0.0000, 0.0000, 0.0000, 0.0000,\n",
       "         0.0000]])"
      ]
     },
     "execution_count": 24,
     "metadata": {},
     "output_type": "execute_result"
    }
   ],
   "source": [
    "images[0].squeeze()"
   ]
  },
  {
   "cell_type": "code",
   "execution_count": 25,
   "metadata": {
    "ExecuteTime": {
     "end_time": "2022-07-25T03:15:10.704951Z",
     "start_time": "2022-07-25T03:15:10.689992Z"
    },
    "colab": {
     "base_uri": "https://localhost:8080/"
    },
    "executionInfo": {
     "elapsed": 20,
     "status": "ok",
     "timestamp": 1647769237287,
     "user": {
      "displayName": "colab0 ineuron",
      "photoUrl": "https://lh3.googleusercontent.com/a/default-user=s64",
      "userId": "16851312232179065356"
     },
     "user_tz": -330
    },
    "id": "xkgwC-bsxMER",
    "outputId": "0cdc5ef8-c0a0-4e48-f207-97c9a683355f"
   },
   "outputs": [
    {
     "data": {
      "text/plain": [
       "tensor([[[[0.0000, 0.0000, 0.0000, 0.0000, 0.0000, 0.0000, 0.0000, 0.0000,\n",
       "           0.0000, 0.0000, 0.0000, 0.0000, 0.0000, 0.0000, 0.0000, 0.0000,\n",
       "           0.0000, 0.0000, 0.0000, 0.0000, 0.0000, 0.0000, 0.0000, 0.0000,\n",
       "           0.0000, 0.0000, 0.0000, 0.0000],\n",
       "          [0.0000, 0.0000, 0.0000, 0.0000, 0.0000, 0.0000, 0.0000, 0.0000,\n",
       "           0.0000, 0.0000, 0.0000, 0.0000, 0.0000, 0.0000, 0.0000, 0.0000,\n",
       "           0.0000, 0.0000, 0.0000, 0.0000, 0.0000, 0.0000, 0.0000, 0.0000,\n",
       "           0.0000, 0.0000, 0.0000, 0.0000],\n",
       "          [0.0000, 0.0000, 0.0000, 0.0000, 0.0000, 0.0000, 0.0000, 0.0000,\n",
       "           0.0000, 0.0000, 0.0000, 0.0000, 0.0000, 0.0000, 0.0000, 0.0000,\n",
       "           0.0000, 0.0000, 0.0000, 0.0000, 0.0000, 0.0000, 0.0000, 0.0000,\n",
       "           0.0000, 0.0000, 0.0000, 0.0000],\n",
       "          [0.0000, 0.0000, 0.0000, 0.0000, 0.0000, 0.0000, 0.0000, 0.0000,\n",
       "           0.0000, 0.0000, 0.0000, 0.0000, 0.0000, 0.0157, 0.0078, 0.0078,\n",
       "           0.0078, 0.0078, 0.0157, 0.0275, 0.0078, 0.0000, 0.0000, 0.3725,\n",
       "           0.3451, 0.0000, 0.0000, 0.0000],\n",
       "          [0.0000, 0.0000, 0.0000, 0.0000, 0.0000, 0.0000, 0.0000, 0.0000,\n",
       "           0.0000, 0.0000, 0.0000, 0.0000, 0.0000, 0.0000, 0.0000, 0.0000,\n",
       "           0.0000, 0.0000, 0.0000, 0.0000, 0.0000, 0.0000, 0.2588, 0.6431,\n",
       "           0.5451, 0.0078, 0.0000, 0.0000],\n",
       "          [0.0000, 0.0000, 0.0000, 0.0000, 0.0000, 0.0000, 0.0000, 0.0000,\n",
       "           0.0000, 0.0000, 0.0000, 0.0000, 0.0000, 0.0000, 0.0863, 0.0863,\n",
       "           0.0745, 0.1529, 0.2471, 0.3647, 0.4902, 0.6431, 0.6902, 0.4902,\n",
       "           0.6510, 0.6431, 0.0000, 0.0000],\n",
       "          [0.0000, 0.0000, 0.0000, 0.0000, 0.0000, 0.0000, 0.0000, 0.0000,\n",
       "           0.0000, 0.0000, 0.0000, 0.0078, 0.0000, 0.2667, 0.5451, 0.6510,\n",
       "           0.6235, 0.6314, 0.6039, 0.5843, 0.5843, 0.3451, 0.1333, 0.5765,\n",
       "           0.5255, 0.8745, 0.0000, 0.0000],\n",
       "          [0.0000, 0.0000, 0.0000, 0.0000, 0.0000, 0.0000, 0.0000, 0.0000,\n",
       "           0.0000, 0.0078, 0.0000, 0.0078, 0.0000, 0.1922, 0.4000, 0.3333,\n",
       "           0.3647, 0.2471, 0.1412, 0.0078, 0.0000, 0.0000, 0.0000, 0.5765,\n",
       "           0.3451, 0.6627, 0.1922, 0.0000],\n",
       "          [0.0000, 0.0000, 0.0000, 0.0000, 0.0000, 0.0000, 0.0000, 0.0000,\n",
       "           0.0000, 0.0078, 0.0000, 0.0000, 0.0000, 0.5176, 0.0000, 0.0000,\n",
       "           0.0000, 0.0000, 0.0000, 0.0000, 0.0000, 0.0000, 0.0000, 0.7098,\n",
       "           0.3843, 0.5373, 0.4196, 0.0000],\n",
       "          [0.0000, 0.0000, 0.0000, 0.0000, 0.0000, 0.0000, 0.0000, 0.0000,\n",
       "           0.0000, 0.0000, 0.0000, 0.0000, 0.0078, 0.4392, 0.0471, 0.0353,\n",
       "           0.0000, 0.0000, 0.0000, 0.0000, 0.0000, 0.0000, 0.0000, 0.5961,\n",
       "           0.4196, 0.3922, 0.4510, 0.0000],\n",
       "          [0.0000, 0.0000, 0.0000, 0.0000, 0.0000, 0.0000, 0.0000, 0.0000,\n",
       "           0.0000, 0.0000, 0.0000, 0.0000, 0.4000, 0.6824, 0.6510, 0.6118,\n",
       "           0.4706, 0.3529, 0.2000, 0.1804, 0.3333, 0.0157, 0.0157, 0.5765,\n",
       "           0.2980, 0.4392, 0.4196, 0.0000],\n",
       "          [0.0000, 0.0000, 0.0000, 0.0000, 0.0000, 0.0000, 0.0000, 0.0000,\n",
       "           0.0000, 0.0000, 0.0000, 0.0000, 0.2784, 0.5373, 0.4902, 0.5765,\n",
       "           0.4000, 0.6314, 0.6980, 0.5961, 0.7490, 0.5647, 0.5451, 0.4118,\n",
       "           0.3529, 0.3529, 0.5255, 0.2000],\n",
       "          [0.0000, 0.0000, 0.0000, 0.0000, 0.0000, 0.0000, 0.0000, 0.0000,\n",
       "           0.0000, 0.0157, 0.0000, 0.0667, 0.3451, 0.0000, 0.0000, 0.0000,\n",
       "           0.0000, 0.0000, 0.0000, 0.3255, 0.4784, 0.6039, 0.7490, 0.2784,\n",
       "           0.3725, 0.4510, 0.4588, 0.2471],\n",
       "          [0.0000, 0.0000, 0.0000, 0.0000, 0.0000, 0.0000, 0.0000, 0.0000,\n",
       "           0.0157, 0.0157, 0.0000, 0.4118, 0.0863, 0.0000, 0.0000, 0.0000,\n",
       "           0.0000, 0.0000, 0.0000, 0.0000, 0.0000, 0.2784, 0.8745, 0.3137,\n",
       "           0.5176, 0.4392, 0.4902, 0.2392],\n",
       "          [0.0000, 0.0000, 0.0000, 0.0000, 0.0000, 0.0000, 0.0000, 0.0000,\n",
       "           0.0078, 0.0000, 0.1804, 0.6706, 0.6510, 0.1804, 0.0000, 0.0000,\n",
       "           0.0000, 0.0000, 0.0000, 0.0078, 0.0000, 0.8039, 0.6314, 0.4196,\n",
       "           0.4784, 0.4196, 0.5255, 0.1216],\n",
       "          [0.0000, 0.0000, 0.0000, 0.0000, 0.0000, 0.0000, 0.0000, 0.0000,\n",
       "           0.0000, 0.0000, 0.3647, 0.3059, 0.7098, 0.8824, 0.4706, 0.0000,\n",
       "           0.0000, 0.0000, 0.0000, 0.0000, 0.0000, 0.6510, 0.5176, 0.4314,\n",
       "           0.5176, 0.5843, 0.5765, 0.0000],\n",
       "          [0.0000, 0.0000, 0.0000, 0.0000, 0.0157, 0.0000, 0.0000, 0.0078,\n",
       "           0.0000, 0.3333, 0.2392, 0.3059, 0.4784, 0.5843, 0.8235, 0.5843,\n",
       "           0.0000, 0.0000, 0.0000, 0.0000, 0.0471, 0.4314, 0.5647, 0.5569,\n",
       "           0.4314, 0.4784, 0.2980, 0.0000],\n",
       "          [0.0000, 0.0000, 0.0000, 0.0000, 0.0000, 0.0000, 0.0078, 0.0000,\n",
       "           0.0941, 0.6039, 0.0000, 0.0000, 0.2275, 0.5647, 0.5255, 0.7098,\n",
       "           0.5843, 0.0000, 0.0353, 0.3922, 0.7294, 0.8745, 0.6902, 0.5451,\n",
       "           0.4784, 0.5255, 0.1725, 0.0000],\n",
       "          [0.0000, 0.0000, 0.0000, 0.0000, 0.0000, 0.0000, 0.0078, 0.0000,\n",
       "           0.3922, 0.7569, 0.8745, 0.3059, 0.0000, 0.0000, 0.3137, 0.4902,\n",
       "           0.5647, 0.4980, 0.5373, 0.6706, 0.4980, 0.0000, 0.0000, 0.0000,\n",
       "           0.6824, 0.6118, 0.0157, 0.0000],\n",
       "          [0.0000, 0.0000, 0.0000, 0.0000, 0.0000, 0.0000, 0.0000, 0.3922,\n",
       "           0.2588, 0.2588, 0.5059, 1.0000, 0.6431, 0.0000, 0.0000, 0.0000,\n",
       "           0.4118, 0.5765, 0.6627, 0.2471, 0.0000, 0.0000, 0.0000, 0.0000,\n",
       "           0.5569, 0.6235, 0.0000, 0.0000],\n",
       "          [0.0000, 0.0000, 0.0000, 0.0000, 0.0000, 0.0000, 0.4392, 0.4314,\n",
       "           0.0000, 0.5255, 0.2667, 0.4118, 0.8941, 0.4118, 0.0000, 0.2275,\n",
       "           0.7961, 0.6902, 0.0078, 0.0000, 0.0078, 0.0078, 0.0000, 0.0000,\n",
       "           0.6039, 0.4392, 0.0000, 0.0000],\n",
       "          [0.0157, 0.0078, 0.0157, 0.0157, 0.0000, 0.0471, 0.5255, 0.6431,\n",
       "           0.0000, 0.0000, 0.5255, 0.6510, 0.5373, 0.7686, 0.3333, 0.8039,\n",
       "           0.7490, 0.0000, 0.0000, 0.0157, 0.0000, 0.0000, 0.0157, 0.0000,\n",
       "           0.5373, 0.5373, 0.0000, 0.0000],\n",
       "          [0.0000, 0.0000, 0.0000, 0.0000, 0.0000, 0.0000, 0.2078, 0.5647,\n",
       "           0.0000, 0.0000, 0.0000, 0.0667, 0.5059, 0.4510, 0.6118, 0.7765,\n",
       "           0.0000, 0.0000, 0.0078, 0.0000, 0.0000, 0.0000, 0.0157, 0.0000,\n",
       "           0.4392, 0.5451, 0.0000, 0.0000],\n",
       "          [0.0863, 0.1529, 0.0745, 0.0000, 0.0000, 0.0000, 0.2471, 0.6118,\n",
       "           0.0000, 0.0000, 0.0000, 0.0000, 0.3843, 0.6235, 0.7765, 0.0353,\n",
       "           0.0000, 0.0275, 0.0000, 0.0000, 0.0000, 0.0000, 0.0157, 0.0000,\n",
       "           0.4588, 0.4588, 0.0000, 0.0000],\n",
       "          [0.1608, 0.4706, 0.5451, 0.6627, 0.6510, 0.4980, 0.6431, 0.7098,\n",
       "           0.6118, 0.5569, 0.5451, 0.6118, 0.8431, 0.8627, 0.0157, 0.0000,\n",
       "           0.0157, 0.0000, 0.0000, 0.0000, 0.0000, 0.0000, 0.0471, 0.0000,\n",
       "           0.3255, 0.5451, 0.0000, 0.0000],\n",
       "          [0.0000, 0.0000, 0.0000, 0.0000, 0.0471, 0.1608, 0.2588, 0.3137,\n",
       "           0.4706, 0.5451, 0.4196, 0.3922, 0.1529, 0.0000, 0.0000, 0.0157,\n",
       "           0.0078, 0.0000, 0.0000, 0.0000, 0.0000, 0.0000, 0.0471, 0.0000,\n",
       "           0.4314, 0.9412, 0.0000, 0.0000],\n",
       "          [0.0000, 0.0000, 0.0000, 0.0000, 0.0000, 0.0000, 0.0000, 0.0000,\n",
       "           0.0000, 0.0000, 0.0000, 0.0000, 0.0000, 0.0000, 0.0000, 0.0000,\n",
       "           0.0000, 0.0000, 0.0000, 0.0000, 0.0000, 0.0000, 0.0000, 0.0000,\n",
       "           0.0000, 0.0000, 0.0000, 0.0000],\n",
       "          [0.0000, 0.0000, 0.0000, 0.0000, 0.0000, 0.0000, 0.0000, 0.0000,\n",
       "           0.0000, 0.0000, 0.0000, 0.0000, 0.0000, 0.0000, 0.0000, 0.0000,\n",
       "           0.0000, 0.0000, 0.0000, 0.0000, 0.0000, 0.0000, 0.0000, 0.0000,\n",
       "           0.0000, 0.0000, 0.0000, 0.0000]]]])"
      ]
     },
     "execution_count": 25,
     "metadata": {},
     "output_type": "execute_result"
    }
   ],
   "source": [
    "images[0].unsqueeze(dim=1)"
   ]
  },
  {
   "cell_type": "code",
   "execution_count": 26,
   "metadata": {
    "ExecuteTime": {
     "end_time": "2022-07-25T03:15:10.971239Z",
     "start_time": "2022-07-25T03:15:10.953288Z"
    },
    "executionInfo": {
     "elapsed": 18,
     "status": "ok",
     "timestamp": 1647769237289,
     "user": {
      "displayName": "colab0 ineuron",
      "photoUrl": "https://lh3.googleusercontent.com/a/default-user=s64",
      "userId": "16851312232179065356"
     },
     "user_tz": -330
    },
    "id": "UGs_PI-yxZLp"
   },
   "outputs": [],
   "source": [
    "# parent class: nn.Module\n",
    "\n",
    "class CNN(nn.Module):\n",
    "    def __init__(self, in_, out_):\n",
    "        super(CNN, self).__init__()\n",
    "\n",
    "        self.conv_pool_01 = nn.Sequential(\n",
    "            nn.Conv2d(in_channels=in_, out_channels=8, kernel_size=5, stride=1, padding=0),\n",
    "            nn.ReLU(),\n",
    "            nn.MaxPool2d(kernel_size=2, stride=2)\n",
    "        )\n",
    "\n",
    "        self.conv_pool_02 = nn.Sequential(\n",
    "            nn.Conv2d(in_channels=8, out_channels=16, kernel_size=5, stride=1, padding=0),\n",
    "            nn.ReLU(),\n",
    "            nn.MaxPool2d(kernel_size=2, stride=2)\n",
    "        )\n",
    "\n",
    "        self.Flatten = nn.Flatten()\n",
    "        self.FC_01 = nn.Linear(in_features=16*4*4, out_features=128)\n",
    "        self.FC_02 = nn.Linear(in_features=128, out_features=64)\n",
    "        self.FC_03 = nn.Linear(in_features=64, out_features=out_)\n",
    "\n",
    "    def forward(self, x):\n",
    "        x = self.conv_pool_01(x)\n",
    "        x = self.conv_pool_02(x)\n",
    "        x = self.Flatten(x)\n",
    "        x = self.FC_01(x)\n",
    "        x = F.relu(x)\n",
    "        x = self.FC_02(x)\n",
    "        x = F.relu(x)    \n",
    "        x = self.FC_03(x)\n",
    "        return x"
   ]
  },
  {
   "cell_type": "markdown",
   "metadata": {},
   "source": []
  },
  {
   "cell_type": "code",
   "execution_count": 27,
   "metadata": {
    "ExecuteTime": {
     "end_time": "2022-07-25T03:15:11.502604Z",
     "start_time": "2022-07-25T03:15:11.483628Z"
    },
    "colab": {
     "base_uri": "https://localhost:8080/"
    },
    "executionInfo": {
     "elapsed": 19,
     "status": "ok",
     "timestamp": 1647769237290,
     "user": {
      "displayName": "colab0 ineuron",
      "photoUrl": "https://lh3.googleusercontent.com/a/default-user=s64",
      "userId": "16851312232179065356"
     },
     "user_tz": -330
    },
    "id": "gsUP8CLP3Lf5",
    "outputId": "7d27077a-640e-4f51-e7c1-a3aab98cd29a"
   },
   "outputs": [
    {
     "name": "stdout",
     "output_type": "stream",
     "text": [
      "CNN(\n",
      "  (conv_pool_01): Sequential(\n",
      "    (0): Conv2d(1, 8, kernel_size=(5, 5), stride=(1, 1))\n",
      "    (1): ReLU()\n",
      "    (2): MaxPool2d(kernel_size=2, stride=2, padding=0, dilation=1, ceil_mode=False)\n",
      "  )\n",
      "  (conv_pool_02): Sequential(\n",
      "    (0): Conv2d(8, 16, kernel_size=(5, 5), stride=(1, 1))\n",
      "    (1): ReLU()\n",
      "    (2): MaxPool2d(kernel_size=2, stride=2, padding=0, dilation=1, ceil_mode=False)\n",
      "  )\n",
      "  (Flatten): Flatten(start_dim=1, end_dim=-1)\n",
      "  (FC_01): Linear(in_features=256, out_features=128, bias=True)\n",
      "  (FC_02): Linear(in_features=128, out_features=64, bias=True)\n",
      "  (FC_03): Linear(in_features=64, out_features=10, bias=True)\n",
      ")\n"
     ]
    }
   ],
   "source": [
    "# 1 --> input channel; 10 --> output\n",
    "model = CNN(1, 10)\n",
    "\n",
    "print(model)"
   ]
  },
  {
   "cell_type": "code",
   "execution_count": 28,
   "metadata": {
    "ExecuteTime": {
     "end_time": "2022-07-25T03:15:12.408125Z",
     "start_time": "2022-07-25T03:15:12.395161Z"
    },
    "colab": {
     "base_uri": "https://localhost:8080/"
    },
    "executionInfo": {
     "elapsed": 15,
     "status": "ok",
     "timestamp": 1647769237290,
     "user": {
      "displayName": "colab0 ineuron",
      "photoUrl": "https://lh3.googleusercontent.com/a/default-user=s64",
      "userId": "16851312232179065356"
     },
     "user_tz": -330
    },
    "id": "Pj4qL1ew3WJc",
    "outputId": "fa35009e-708e-470c-c1a2-82574c2f2987"
   },
   "outputs": [
    {
     "data": {
      "text/plain": [
       "Sequential(\n",
       "  (0): Conv2d(8, 16, kernel_size=(5, 5), stride=(1, 1))\n",
       "  (1): ReLU()\n",
       "  (2): MaxPool2d(kernel_size=2, stride=2, padding=0, dilation=1, ceil_mode=False)\n",
       ")"
      ]
     },
     "execution_count": 28,
     "metadata": {},
     "output_type": "execute_result"
    }
   ],
   "source": [
    "# we can access any layer in cnn model\n",
    "model.conv_pool_02"
   ]
  },
  {
   "cell_type": "code",
   "execution_count": 29,
   "metadata": {
    "ExecuteTime": {
     "end_time": "2022-07-25T03:15:12.940235Z",
     "start_time": "2022-07-25T03:15:12.923281Z"
    },
    "colab": {
     "base_uri": "https://localhost:8080/"
    },
    "executionInfo": {
     "elapsed": 13,
     "status": "ok",
     "timestamp": 1647769237290,
     "user": {
      "displayName": "colab0 ineuron",
      "photoUrl": "https://lh3.googleusercontent.com/a/default-user=s64",
      "userId": "16851312232179065356"
     },
     "user_tz": -330
    },
    "id": "dmAdYZH88Hhx",
    "outputId": "19904949-077d-44b5-f0de-52d5ed49f4e4"
   },
   "outputs": [
    {
     "data": {
      "text/plain": [
       "False"
      ]
     },
     "execution_count": 29,
     "metadata": {},
     "output_type": "execute_result"
    }
   ],
   "source": [
    "next(model.parameters()).is_cuda"
   ]
  },
  {
   "cell_type": "code",
   "execution_count": 30,
   "metadata": {
    "ExecuteTime": {
     "end_time": "2022-07-25T03:15:13.207514Z",
     "start_time": "2022-07-25T03:15:13.188538Z"
    },
    "colab": {
     "base_uri": "https://localhost:8080/"
    },
    "executionInfo": {
     "elapsed": 8311,
     "status": "ok",
     "timestamp": 1647769245590,
     "user": {
      "displayName": "colab0 ineuron",
      "photoUrl": "https://lh3.googleusercontent.com/a/default-user=s64",
      "userId": "16851312232179065356"
     },
     "user_tz": -330
    },
    "id": "EpMW3RAL8fWf",
    "outputId": "92d3295e-3760-493b-96ca-930894020727"
   },
   "outputs": [
    {
     "data": {
      "text/plain": [
       "CNN(\n",
       "  (conv_pool_01): Sequential(\n",
       "    (0): Conv2d(1, 8, kernel_size=(5, 5), stride=(1, 1))\n",
       "    (1): ReLU()\n",
       "    (2): MaxPool2d(kernel_size=2, stride=2, padding=0, dilation=1, ceil_mode=False)\n",
       "  )\n",
       "  (conv_pool_02): Sequential(\n",
       "    (0): Conv2d(8, 16, kernel_size=(5, 5), stride=(1, 1))\n",
       "    (1): ReLU()\n",
       "    (2): MaxPool2d(kernel_size=2, stride=2, padding=0, dilation=1, ceil_mode=False)\n",
       "  )\n",
       "  (Flatten): Flatten(start_dim=1, end_dim=-1)\n",
       "  (FC_01): Linear(in_features=256, out_features=128, bias=True)\n",
       "  (FC_02): Linear(in_features=128, out_features=64, bias=True)\n",
       "  (FC_03): Linear(in_features=64, out_features=10, bias=True)\n",
       ")"
      ]
     },
     "execution_count": 30,
     "metadata": {},
     "output_type": "execute_result"
    }
   ],
   "source": [
    "# to use GPU\n",
    "model.to(config.DEVICE)"
   ]
  },
  {
   "cell_type": "code",
   "execution_count": 31,
   "metadata": {
    "ExecuteTime": {
     "end_time": "2022-07-25T03:15:14.191804Z",
     "start_time": "2022-07-25T03:15:14.178805Z"
    },
    "colab": {
     "base_uri": "https://localhost:8080/"
    },
    "executionInfo": {
     "elapsed": 16,
     "status": "ok",
     "timestamp": 1647769245590,
     "user": {
      "displayName": "colab0 ineuron",
      "photoUrl": "https://lh3.googleusercontent.com/a/default-user=s64",
      "userId": "16851312232179065356"
     },
     "user_tz": -330
    },
    "id": "0t0aLqHj8n32",
    "outputId": "5003f7a1-f494-4bb5-b7b4-b0304f7174be"
   },
   "outputs": [
    {
     "data": {
      "text/plain": [
       "False"
      ]
     },
     "execution_count": 31,
     "metadata": {},
     "output_type": "execute_result"
    }
   ],
   "source": [
    "# verify whether it's using GPU\n",
    "next(model.parameters()).is_cuda"
   ]
  },
  {
   "cell_type": "markdown",
   "metadata": {
    "id": "3adlIIWQ80ao"
   },
   "source": [
    "## Count the no. of trainable parameters"
   ]
  },
  {
   "cell_type": "code",
   "execution_count": 32,
   "metadata": {
    "ExecuteTime": {
     "end_time": "2022-07-25T03:15:18.495507Z",
     "start_time": "2022-07-25T03:15:18.403785Z"
    },
    "colab": {
     "base_uri": "https://localhost:8080/",
     "height": 398
    },
    "executionInfo": {
     "elapsed": 15,
     "status": "ok",
     "timestamp": 1647769245591,
     "user": {
      "displayName": "colab0 ineuron",
      "photoUrl": "https://lh3.googleusercontent.com/a/default-user=s64",
      "userId": "16851312232179065356"
     },
     "user_tz": -330
    },
    "id": "sRiX_aPN8rYn",
    "outputId": "a2d4759c-2b69-4f7e-adf9-7850f212ae6f"
   },
   "outputs": [
    {
     "data": {
      "text/html": [
       "<style type=\"text/css\">\n",
       "</style>\n",
       "<table id=\"T_d2138_\">\n",
       "  <caption>Total parameters: {'trainable': 45226, 'non_trainable': 0}</caption>\n",
       "  <thead>\n",
       "    <tr>\n",
       "      <th class=\"blank level0\" >&nbsp;</th>\n",
       "      <th class=\"col_heading level0 col0\" >Modules</th>\n",
       "      <th class=\"col_heading level0 col1\" >Parameters</th>\n",
       "    </tr>\n",
       "  </thead>\n",
       "  <tbody>\n",
       "    <tr>\n",
       "      <th id=\"T_d2138_level0_row0\" class=\"row_heading level0 row0\" >0</th>\n",
       "      <td id=\"T_d2138_row0_col0\" class=\"data row0 col0\" >conv_pool_01.0.weight</td>\n",
       "      <td id=\"T_d2138_row0_col1\" class=\"data row0 col1\" >200</td>\n",
       "    </tr>\n",
       "    <tr>\n",
       "      <th id=\"T_d2138_level0_row1\" class=\"row_heading level0 row1\" >1</th>\n",
       "      <td id=\"T_d2138_row1_col0\" class=\"data row1 col0\" >conv_pool_01.0.bias</td>\n",
       "      <td id=\"T_d2138_row1_col1\" class=\"data row1 col1\" >8</td>\n",
       "    </tr>\n",
       "    <tr>\n",
       "      <th id=\"T_d2138_level0_row2\" class=\"row_heading level0 row2\" >2</th>\n",
       "      <td id=\"T_d2138_row2_col0\" class=\"data row2 col0\" >conv_pool_02.0.weight</td>\n",
       "      <td id=\"T_d2138_row2_col1\" class=\"data row2 col1\" >3200</td>\n",
       "    </tr>\n",
       "    <tr>\n",
       "      <th id=\"T_d2138_level0_row3\" class=\"row_heading level0 row3\" >3</th>\n",
       "      <td id=\"T_d2138_row3_col0\" class=\"data row3 col0\" >conv_pool_02.0.bias</td>\n",
       "      <td id=\"T_d2138_row3_col1\" class=\"data row3 col1\" >16</td>\n",
       "    </tr>\n",
       "    <tr>\n",
       "      <th id=\"T_d2138_level0_row4\" class=\"row_heading level0 row4\" >4</th>\n",
       "      <td id=\"T_d2138_row4_col0\" class=\"data row4 col0\" >FC_01.weight</td>\n",
       "      <td id=\"T_d2138_row4_col1\" class=\"data row4 col1\" >32768</td>\n",
       "    </tr>\n",
       "    <tr>\n",
       "      <th id=\"T_d2138_level0_row5\" class=\"row_heading level0 row5\" >5</th>\n",
       "      <td id=\"T_d2138_row5_col0\" class=\"data row5 col0\" >FC_01.bias</td>\n",
       "      <td id=\"T_d2138_row5_col1\" class=\"data row5 col1\" >128</td>\n",
       "    </tr>\n",
       "    <tr>\n",
       "      <th id=\"T_d2138_level0_row6\" class=\"row_heading level0 row6\" >6</th>\n",
       "      <td id=\"T_d2138_row6_col0\" class=\"data row6 col0\" >FC_02.weight</td>\n",
       "      <td id=\"T_d2138_row6_col1\" class=\"data row6 col1\" >8192</td>\n",
       "    </tr>\n",
       "    <tr>\n",
       "      <th id=\"T_d2138_level0_row7\" class=\"row_heading level0 row7\" >7</th>\n",
       "      <td id=\"T_d2138_row7_col0\" class=\"data row7 col0\" >FC_02.bias</td>\n",
       "      <td id=\"T_d2138_row7_col1\" class=\"data row7 col1\" >64</td>\n",
       "    </tr>\n",
       "    <tr>\n",
       "      <th id=\"T_d2138_level0_row8\" class=\"row_heading level0 row8\" >8</th>\n",
       "      <td id=\"T_d2138_row8_col0\" class=\"data row8 col0\" >FC_03.weight</td>\n",
       "      <td id=\"T_d2138_row8_col1\" class=\"data row8 col1\" >640</td>\n",
       "    </tr>\n",
       "    <tr>\n",
       "      <th id=\"T_d2138_level0_row9\" class=\"row_heading level0 row9\" >9</th>\n",
       "      <td id=\"T_d2138_row9_col0\" class=\"data row9 col0\" >FC_03.bias</td>\n",
       "      <td id=\"T_d2138_row9_col1\" class=\"data row9 col1\" >10</td>\n",
       "    </tr>\n",
       "  </tbody>\n",
       "</table>\n"
      ],
      "text/plain": [
       "<pandas.io.formats.style.Styler at 0x23deea46048>"
      ]
     },
     "execution_count": 32,
     "metadata": {},
     "output_type": "execute_result"
    }
   ],
   "source": [
    "def count_params(model):\n",
    "    \n",
    "    model_params = {\"Modules\": list(), \"Parameters\": list()}\n",
    "    total = {\"trainable\": 0, \"non_trainable\": 0}\n",
    "    \n",
    "    for name, parameters in model.named_parameters():\n",
    "        param = parameters.numel()\n",
    "        # if parameters don't require gradient then skip\n",
    "        if not parameters.requires_grad:\n",
    "            total[\"non_trainable\"] += param\n",
    "            continue\n",
    "            \n",
    "        model_params[\"Modules\"].append(name)\n",
    "        model_params[\"Parameters\"].append(param)\n",
    "        total[\"trainable\"] += param\n",
    "        \n",
    "    df = pd.DataFrame(model_params)\n",
    "    df = df.style.set_caption(f\"Total parameters: {total}\")\n",
    "    return df\n",
    "\n",
    "count_params(model)"
   ]
  },
  {
   "cell_type": "markdown",
   "metadata": {
    "id": "_ch8lk1z--v-"
   },
   "source": [
    "## Training loop"
   ]
  },
  {
   "cell_type": "code",
   "execution_count": 33,
   "metadata": {
    "ExecuteTime": {
     "end_time": "2022-07-25T03:15:22.612529Z",
     "start_time": "2022-07-25T03:15:22.595545Z"
    },
    "colab": {
     "base_uri": "https://localhost:8080/"
    },
    "executionInfo": {
     "elapsed": 3,
     "status": "ok",
     "timestamp": 1647769862307,
     "user": {
      "displayName": "colab0 ineuron",
      "photoUrl": "https://lh3.googleusercontent.com/a/default-user=s64",
      "userId": "16851312232179065356"
     },
     "user_tz": -330
    },
    "id": "0wJtd6EJvE2T",
    "outputId": "fcecd2f0-2e02-4101-be18-07ced787d780"
   },
   "outputs": [
    {
     "data": {
      "text/plain": [
       "1875.0"
      ]
     },
     "execution_count": 33,
     "metadata": {},
     "output_type": "execute_result"
    }
   ],
   "source": [
    "# (training sample)/ (batch size)\n",
    "60000/32"
   ]
  },
  {
   "cell_type": "markdown",
   "metadata": {},
   "source": [
    "1875.0 steps to be taken ine ach epoch"
   ]
  },
  {
   "cell_type": "code",
   "execution_count": 34,
   "metadata": {
    "ExecuteTime": {
     "end_time": "2022-07-25T03:15:23.346953Z",
     "start_time": "2022-07-25T03:15:23.338975Z"
    },
    "executionInfo": {
     "elapsed": 662,
     "status": "ok",
     "timestamp": 1647770571596,
     "user": {
      "displayName": "colab0 ineuron",
      "photoUrl": "https://lh3.googleusercontent.com/a/default-user=s64",
      "userId": "16851312232179065356"
     },
     "user_tz": -330
    },
    "id": "0hv3ecT5xfZY"
   },
   "outputs": [],
   "source": [
    "# define the loss funtion and optimizer\n",
    "criterion = nn.CrossEntropyLoss() ## loss function\n",
    "optimizer = torch.optim.Adam(model.parameters(), lr=config.LEARNING_RATE) # passing all model parameters to optimizer"
   ]
  },
  {
   "cell_type": "code",
   "execution_count": 35,
   "metadata": {
    "ExecuteTime": {
     "end_time": "2022-07-25T03:15:23.613207Z",
     "start_time": "2022-07-25T03:15:23.603232Z"
    },
    "colab": {
     "base_uri": "https://localhost:8080/"
    },
    "executionInfo": {
     "elapsed": 2,
     "status": "ok",
     "timestamp": 1647770591870,
     "user": {
      "displayName": "colab0 ineuron",
      "photoUrl": "https://lh3.googleusercontent.com/a/default-user=s64",
      "userId": "16851312232179065356"
     },
     "user_tz": -330
    },
    "id": "FKOCmlsCx7QI",
    "outputId": "65485b98-5410-4e90-e6c8-e49163305c9e"
   },
   "outputs": [
    {
     "data": {
      "text/plain": [
       "1875"
      ]
     },
     "execution_count": 35,
     "metadata": {},
     "output_type": "execute_result"
    }
   ],
   "source": [
    "len(train_data_loader) ## STEPS PER EPOCHS"
   ]
  },
  {
   "cell_type": "code",
   "execution_count": 36,
   "metadata": {
    "ExecuteTime": {
     "end_time": "2022-07-25T03:20:25.953792Z",
     "start_time": "2022-07-25T03:15:24.674270Z"
    },
    "colab": {
     "base_uri": "https://localhost:8080/"
    },
    "executionInfo": {
     "elapsed": 335183,
     "status": "ok",
     "timestamp": 1647770956896,
     "user": {
      "displayName": "colab0 ineuron",
      "photoUrl": "https://lh3.googleusercontent.com/a/default-user=s64",
      "userId": "16851312232179065356"
     },
     "user_tz": -330
    },
    "id": "kXISVZns97Gu",
    "outputId": "39fa09f7-8851-4954-aee0-81c3a8a25750"
   },
   "outputs": [
    {
     "name": "stderr",
     "output_type": "stream",
     "text": [
      "Epoch 1/10: 100%|██████████████████████████████████████████████████████| 1875/1875 [00:27<00:00, 68.02it/s, loss=0.515]\n",
      "Epoch 2/10: 100%|███████████████████████████████████████████████████████| 1875/1875 [00:37<00:00, 50.12it/s, loss=0.48]\n",
      "Epoch 3/10: 100%|██████████████████████████████████████████████████████| 1875/1875 [00:38<00:00, 49.29it/s, loss=0.302]\n",
      "Epoch 4/10: 100%|████████████████████████████████████████████████████████| 1875/1875 [00:40<00:00, 45.98it/s, loss=0.4]\n",
      "Epoch 5/10: 100%|██████████████████████████████████████████████████████| 1875/1875 [00:26<00:00, 71.28it/s, loss=0.312]\n",
      "Epoch 6/10: 100%|██████████████████████████████████████████████████████| 1875/1875 [00:26<00:00, 71.95it/s, loss=0.294]\n",
      "Epoch 7/10: 100%|███████████████████████████████████████████████████████| 1875/1875 [00:26<00:00, 71.16it/s, loss=0.32]\n",
      "Epoch 8/10: 100%|██████████████████████████████████████████████████████| 1875/1875 [00:26<00:00, 71.99it/s, loss=0.552]\n",
      "Epoch 9/10: 100%|██████████████████████████████████████████████████████| 1875/1875 [00:26<00:00, 70.72it/s, loss=0.277]\n",
      "Epoch 10/10: 100%|█████████████████████████████████████████████████████| 1875/1875 [00:26<00:00, 71.70it/s, loss=0.238]\n"
     ]
    }
   ],
   "source": [
    "# tqdm: used to progress bars\n",
    "\n",
    "for epoch in range(config.EPOCH):\n",
    "    \n",
    "    with tqdm(train_data_loader) as tqdm_epoch:\n",
    "        \n",
    "        for images, labels in tqdm_epoch:\n",
    "            tqdm_epoch.set_description(f\"Epoch {epoch + 1}/{config.EPOCH}\")\n",
    "\n",
    "            # put the images on device (GPU)\n",
    "            images = images.to(config.DEVICE)\n",
    "            labels = labels.to(config.DEVICE)\n",
    "\n",
    "            # forward pass\n",
    "            outputs = model(images)\n",
    "            loss = criterion(outputs, labels) # TODO #<< passing the pred, target\n",
    "\n",
    "            # backward prop\n",
    "            optimizer.zero_grad() # past gradient\n",
    "            loss.backward() # calculate the gradients\n",
    "            optimizer.step() # weights updated\n",
    "            \n",
    "            tqdm_epoch.set_postfix(loss=loss.item()) # printing the loss"
   ]
  },
  {
   "cell_type": "markdown",
   "metadata": {
    "id": "hSLiVdzB0moj"
   },
   "source": [
    "## Save the model"
   ]
  },
  {
   "cell_type": "code",
   "execution_count": null,
   "metadata": {
    "executionInfo": {
     "elapsed": 513,
     "status": "ok",
     "timestamp": 1647771405426,
     "user": {
      "displayName": "colab0 ineuron",
      "photoUrl": "https://lh3.googleusercontent.com/a/default-user=s64",
      "userId": "16851312232179065356"
     },
     "user_tz": -330
    },
    "id": "xK1IqYqh0ose"
   },
   "outputs": [],
   "source": [
    "os.makedirs(\"model_dir\", exist_ok=True)\n",
    "model_file_path = os.path.join(\"model_dir\", \"CNN_model.pth\")\n",
    "torch.save(model, model_file_path)"
   ]
  },
  {
   "cell_type": "markdown",
   "metadata": {
    "id": "XY0YFLmL1J9P"
   },
   "source": [
    "## Load the model"
   ]
  },
  {
   "cell_type": "code",
   "execution_count": null,
   "metadata": {
    "executionInfo": {
     "elapsed": 1,
     "status": "ok",
     "timestamp": 1647771453578,
     "user": {
      "displayName": "colab0 ineuron",
      "photoUrl": "https://lh3.googleusercontent.com/a/default-user=s64",
      "userId": "16851312232179065356"
     },
     "user_tz": -330
    },
    "id": "SGCjTz-81LpF"
   },
   "outputs": [],
   "source": [
    "loaded_model = torch.load(model_file_path)"
   ]
  },
  {
   "cell_type": "markdown",
   "metadata": {
    "id": "HwX6bnIe_BC_"
   },
   "source": [
    "## Evaluate our model"
   ]
  },
  {
   "cell_type": "code",
   "execution_count": 37,
   "metadata": {
    "ExecuteTime": {
     "end_time": "2022-07-25T03:20:27.462760Z",
     "start_time": "2022-07-25T03:20:26.034577Z"
    },
    "executionInfo": {
     "elapsed": 1943,
     "status": "ok",
     "timestamp": 1647771863954,
     "user": {
      "displayName": "colab0 ineuron",
      "photoUrl": "https://lh3.googleusercontent.com/a/default-user=s64",
      "userId": "16851312232179065356"
     },
     "user_tz": -330
    },
    "id": "OqS9yO7D_C9L"
   },
   "outputs": [],
   "source": [
    "pred = np.array([])\n",
    "target = np.array([])\n",
    "\n",
    "# no back prop, since we are just evaluating model\n",
    "with torch.no_grad():\n",
    "    \n",
    "    for batch, data in enumerate(test_data_loader):\n",
    "        images = data[0].to(config.DEVICE)\n",
    "        labels = data[1].to(config.DEVICE)\n",
    "\n",
    "        y_pred = model(images)\n",
    "\n",
    "        pred = np.concatenate((pred, torch.argmax(y_pred, 1).cpu().numpy()))\n",
    "        target = np.concatenate((target, labels.cpu().numpy()))"
   ]
  },
  {
   "cell_type": "code",
   "execution_count": 38,
   "metadata": {
    "ExecuteTime": {
     "end_time": "2022-07-25T03:20:27.587426Z",
     "start_time": "2022-07-25T03:20:27.558504Z"
    },
    "executionInfo": {
     "elapsed": 2,
     "status": "ok",
     "timestamp": 1647771896019,
     "user": {
      "displayName": "colab0 ineuron",
      "photoUrl": "https://lh3.googleusercontent.com/a/default-user=s64",
      "userId": "16851312232179065356"
     },
     "user_tz": -330
    },
    "id": "c6H5NuyZ21bL"
   },
   "outputs": [],
   "source": [
    "cm = confusion_matrix(target, pred)"
   ]
  },
  {
   "cell_type": "code",
   "execution_count": 39,
   "metadata": {
    "ExecuteTime": {
     "end_time": "2022-07-25T03:20:27.699127Z",
     "start_time": "2022-07-25T03:20:27.685165Z"
    },
    "colab": {
     "base_uri": "https://localhost:8080/"
    },
    "executionInfo": {
     "elapsed": 2,
     "status": "ok",
     "timestamp": 1647771991409,
     "user": {
      "displayName": "colab0 ineuron",
      "photoUrl": "https://lh3.googleusercontent.com/a/default-user=s64",
      "userId": "16851312232179065356"
     },
     "user_tz": -330
    },
    "id": "_yQA-JSK3R5z",
    "outputId": "258f021a-7f17-4622-da5a-cced5e8ed9cb"
   },
   "outputs": [
    {
     "data": {
      "text/plain": [
       "1000.0"
      ]
     },
     "execution_count": 39,
     "metadata": {},
     "output_type": "execute_result"
    }
   ],
   "source": [
    "1e3"
   ]
  },
  {
   "cell_type": "code",
   "execution_count": 40,
   "metadata": {
    "ExecuteTime": {
     "end_time": "2022-07-25T03:20:27.806840Z",
     "start_time": "2022-07-25T03:20:27.794871Z"
    },
    "colab": {
     "base_uri": "https://localhost:8080/"
    },
    "executionInfo": {
     "elapsed": 2,
     "status": "ok",
     "timestamp": 1647772105105,
     "user": {
      "displayName": "colab0 ineuron",
      "photoUrl": "https://lh3.googleusercontent.com/a/default-user=s64",
      "userId": "16851312232179065356"
     },
     "user_tz": -330
    },
    "id": "5aKU-kwX3iWk",
    "outputId": "f7e1aca1-871b-4856-c16b-bd202ff82a47"
   },
   "outputs": [
    {
     "data": {
      "text/plain": [
       "dict_values(['T-shirt/top', 'Trouser', 'Pullover', 'Dress', 'Coat', 'Sandal', 'Shirt', 'Sneaker', 'Bag', 'Ankle boot'])"
      ]
     },
     "execution_count": 40,
     "metadata": {},
     "output_type": "execute_result"
    }
   ],
   "source": [
    "label_map.values()"
   ]
  },
  {
   "cell_type": "code",
   "execution_count": 41,
   "metadata": {
    "ExecuteTime": {
     "end_time": "2022-07-25T03:20:28.810701Z",
     "start_time": "2022-07-25T03:20:27.903581Z"
    },
    "colab": {
     "base_uri": "https://localhost:8080/",
     "height": 610
    },
    "executionInfo": {
     "elapsed": 1418,
     "status": "ok",
     "timestamp": 1647772127348,
     "user": {
      "displayName": "colab0 ineuron",
      "photoUrl": "https://lh3.googleusercontent.com/a/default-user=s64",
      "userId": "16851312232179065356"
     },
     "user_tz": -330
    },
    "id": "YPpA9vkv285L",
    "outputId": "9a0953e5-76ef-4cce-b987-799519d27d60"
   },
   "outputs": [
    {
     "data": {
      "text/plain": [
       "<AxesSubplot:>"
      ]
     },
     "execution_count": 41,
     "metadata": {},
     "output_type": "execute_result"
    },
    {
     "data": {
      "image/png": "[encoded data removed]",
      "text/plain": [
       "<Figure size 864x720 with 1 Axes>"
      ]
     },
     "metadata": {
      "needs_background": "light"
     },
     "output_type": "display_data"
    }
   ],
   "source": [
    "plt.figure(figsize=(12,10))\n",
    "sns.heatmap(cm, annot=True, fmt='d', xticklabels=label_map.values() , yticklabels=label_map.values(), cbar=False)"
   ]
  },
  {
   "cell_type": "markdown",
   "metadata": {
    "id": "76rHcV37_DV0"
   },
   "source": [
    "## prediction on our model"
   ]
  },
  {
   "cell_type": "code",
   "execution_count": 42,
   "metadata": {
    "ExecuteTime": {
     "end_time": "2022-07-25T03:43:59.449240Z",
     "start_time": "2022-07-25T03:43:59.427298Z"
    },
    "colab": {
     "base_uri": "https://localhost:8080/"
    },
    "executionInfo": {
     "elapsed": 2,
     "status": "ok",
     "timestamp": 1647772344794,
     "user": {
      "displayName": "colab0 ineuron",
      "photoUrl": "https://lh3.googleusercontent.com/a/default-user=s64",
      "userId": "16851312232179065356"
     },
     "user_tz": -330
    },
    "id": "UxkPwRdR_FPt",
    "outputId": "73c2f00e-296b-44ac-84a6-4fe6591a30ee"
   },
   "outputs": [
    {
     "data": {
      "text/plain": [
       "[tensor([[[[0.0000, 0.0000, 0.0000,  ..., 0.0000, 0.0000, 0.0000],\n",
       "           [0.0000, 0.0000, 0.0000,  ..., 0.0000, 0.0000, 0.0000],\n",
       "           [0.0000, 0.0000, 0.0000,  ..., 0.0000, 0.0000, 0.0000],\n",
       "           ...,\n",
       "           [0.0000, 0.0000, 0.0000,  ..., 0.0000, 0.0000, 0.0000],\n",
       "           [0.0000, 0.0000, 0.0000,  ..., 0.0000, 0.0000, 0.0000],\n",
       "           [0.0000, 0.0000, 0.0000,  ..., 0.0000, 0.0000, 0.0000]]],\n",
       " \n",
       " \n",
       "         [[[0.0000, 0.0000, 0.0000,  ..., 0.0000, 0.0000, 0.0000],\n",
       "           [0.0000, 0.0000, 0.0000,  ..., 0.0000, 0.0000, 0.0000],\n",
       "           [0.0000, 0.0000, 0.0000,  ..., 0.0000, 0.0000, 0.0000],\n",
       "           ...,\n",
       "           [0.0000, 0.0000, 0.0000,  ..., 0.0000, 0.0000, 0.0000],\n",
       "           [0.0000, 0.0000, 0.0000,  ..., 0.0000, 0.0000, 0.0000],\n",
       "           [0.0000, 0.0000, 0.0000,  ..., 0.0000, 0.0000, 0.0000]]],\n",
       " \n",
       " \n",
       "         [[[0.0000, 0.0000, 0.0000,  ..., 0.0000, 0.0000, 0.0000],\n",
       "           [0.0000, 0.0000, 0.0000,  ..., 0.0000, 0.0000, 0.0000],\n",
       "           [0.0000, 0.0000, 0.0000,  ..., 0.0000, 0.0000, 0.0000],\n",
       "           ...,\n",
       "           [0.0000, 0.0000, 0.0000,  ..., 0.0000, 0.0000, 0.0000],\n",
       "           [0.0000, 0.0000, 0.0000,  ..., 0.0000, 0.0000, 0.0000],\n",
       "           [0.0000, 0.0000, 0.0000,  ..., 0.0000, 0.0000, 0.0000]]],\n",
       " \n",
       " \n",
       "         ...,\n",
       " \n",
       " \n",
       "         [[[0.0000, 0.0000, 0.0000,  ..., 0.0000, 0.0000, 0.0000],\n",
       "           [0.0000, 0.0000, 0.0000,  ..., 0.0000, 0.0000, 0.0000],\n",
       "           [0.0000, 0.0000, 0.0000,  ..., 0.0000, 0.0000, 0.0000],\n",
       "           ...,\n",
       "           [0.0000, 0.0000, 0.0000,  ..., 0.0000, 0.0000, 0.0000],\n",
       "           [0.0000, 0.0000, 0.0000,  ..., 0.0000, 0.0000, 0.0000],\n",
       "           [0.0000, 0.0000, 0.0000,  ..., 0.0000, 0.0000, 0.0000]]],\n",
       " \n",
       " \n",
       "         [[[0.0000, 0.0000, 0.0000,  ..., 0.0000, 0.0000, 0.0000],\n",
       "           [0.0000, 0.0000, 0.0000,  ..., 0.0000, 0.0000, 0.0000],\n",
       "           [0.0000, 0.0000, 0.0000,  ..., 0.0000, 0.0000, 0.0000],\n",
       "           ...,\n",
       "           [0.0000, 0.0000, 0.0000,  ..., 0.9020, 0.9608, 0.8000],\n",
       "           [0.0000, 0.0000, 0.0000,  ..., 0.6745, 0.7255, 0.4000],\n",
       "           [0.0000, 0.0000, 0.0000,  ..., 0.0000, 0.0000, 0.0000]]],\n",
       " \n",
       " \n",
       "         [[[0.0000, 0.0000, 0.0000,  ..., 0.0000, 0.0000, 0.0000],\n",
       "           [0.0000, 0.0000, 0.0000,  ..., 0.0000, 0.0000, 0.0000],\n",
       "           [0.0000, 0.0000, 0.0000,  ..., 0.0000, 0.0000, 0.0000],\n",
       "           ...,\n",
       "           [0.0000, 0.0000, 0.0000,  ..., 0.0000, 0.0000, 0.0000],\n",
       "           [0.0000, 0.0000, 0.0000,  ..., 0.0000, 0.0000, 0.0000],\n",
       "           [0.0000, 0.0000, 0.0000,  ..., 0.0000, 0.0000, 0.0000]]]]),\n",
       " tensor([9, 2, 1, 1, 6, 1, 4, 6, 5, 7, 4, 5, 7, 3, 4, 1, 2, 4, 8, 0, 2, 5, 7, 9,\n",
       "         1, 4, 6, 0, 9, 3, 8, 8])]"
      ]
     },
     "execution_count": 42,
     "metadata": {},
     "output_type": "execute_result"
    }
   ],
   "source": [
    "data = next(iter(test_data_loader))\n",
    "data"
   ]
  },
  {
   "cell_type": "code",
   "execution_count": 43,
   "metadata": {
    "ExecuteTime": {
     "end_time": "2022-07-25T03:43:59.774413Z",
     "start_time": "2022-07-25T03:43:59.758455Z"
    },
    "colab": {
     "base_uri": "https://localhost:8080/"
    },
    "executionInfo": {
     "elapsed": 514,
     "status": "ok",
     "timestamp": 1647772373428,
     "user": {
      "displayName": "colab0 ineuron",
      "photoUrl": "https://lh3.googleusercontent.com/a/default-user=s64",
      "userId": "16851312232179065356"
     },
     "user_tz": -330
    },
    "id": "8eEHy3ck4pyH",
    "outputId": "fb816d56-2fa3-4224-bb2f-e2f159a1c7e8"
   },
   "outputs": [
    {
     "data": {
      "text/plain": [
       "2"
      ]
     },
     "execution_count": 43,
     "metadata": {},
     "output_type": "execute_result"
    }
   ],
   "source": [
    "len(data)"
   ]
  },
  {
   "cell_type": "code",
   "execution_count": 44,
   "metadata": {
    "ExecuteTime": {
     "end_time": "2022-07-25T03:44:00.455289Z",
     "start_time": "2022-07-25T03:44:00.441330Z"
    },
    "executionInfo": {
     "elapsed": 2,
     "status": "ok",
     "timestamp": 1647772396230,
     "user": {
      "displayName": "colab0 ineuron",
      "photoUrl": "https://lh3.googleusercontent.com/a/default-user=s64",
      "userId": "16851312232179065356"
     },
     "user_tz": -330
    },
    "id": "9hlfvNFR4wyE"
   },
   "outputs": [],
   "source": [
    "images, labels = data"
   ]
  },
  {
   "cell_type": "code",
   "execution_count": 45,
   "metadata": {
    "ExecuteTime": {
     "end_time": "2022-07-25T03:44:00.845245Z",
     "start_time": "2022-07-25T03:44:00.829286Z"
    },
    "colab": {
     "base_uri": "https://localhost:8080/"
    },
    "executionInfo": {
     "elapsed": 3,
     "status": "ok",
     "timestamp": 1647772404406,
     "user": {
      "displayName": "colab0 ineuron",
      "photoUrl": "https://lh3.googleusercontent.com/a/default-user=s64",
      "userId": "16851312232179065356"
     },
     "user_tz": -330
    },
    "id": "kEU5bou242Vc",
    "outputId": "75ed5fc5-e5d7-4793-a1ac-3046e51567b9"
   },
   "outputs": [
    {
     "data": {
      "text/plain": [
       "torch.Size([32, 1, 28, 28])"
      ]
     },
     "execution_count": 45,
     "metadata": {},
     "output_type": "execute_result"
    }
   ],
   "source": [
    "images.shape"
   ]
  },
  {
   "cell_type": "code",
   "execution_count": 46,
   "metadata": {
    "ExecuteTime": {
     "end_time": "2022-07-25T03:44:01.314119Z",
     "start_time": "2022-07-25T03:44:01.292178Z"
    },
    "colab": {
     "base_uri": "https://localhost:8080/"
    },
    "executionInfo": {
     "elapsed": 2,
     "status": "ok",
     "timestamp": 1647772461179,
     "user": {
      "displayName": "colab0 ineuron",
      "photoUrl": "https://lh3.googleusercontent.com/a/default-user=s64",
      "userId": "16851312232179065356"
     },
     "user_tz": -330
    },
    "id": "zYPuXdEm44LQ",
    "outputId": "7f317a18-6232-4906-8abb-c70208d77ccb"
   },
   "outputs": [
    {
     "data": {
      "text/plain": [
       "torch.Size([1, 28, 28])"
      ]
     },
     "execution_count": 46,
     "metadata": {},
     "output_type": "execute_result"
    }
   ],
   "source": [
    "# taking one of the image with index 2\n",
    "idx = 2\n",
    "img = images[idx]\n",
    "img.shape"
   ]
  },
  {
   "cell_type": "code",
   "execution_count": 47,
   "metadata": {
    "ExecuteTime": {
     "end_time": "2022-07-25T03:44:03.091354Z",
     "start_time": "2022-07-25T03:44:03.077391Z"
    },
    "colab": {
     "base_uri": "https://localhost:8080/",
     "height": 36
    },
    "executionInfo": {
     "elapsed": 558,
     "status": "ok",
     "timestamp": 1647772577266,
     "user": {
      "displayName": "colab0 ineuron",
      "photoUrl": "https://lh3.googleusercontent.com/a/default-user=s64",
      "userId": "16851312232179065356"
     },
     "user_tz": -330
    },
    "id": "k4d9WdaL5Z8-",
    "outputId": "be73bb43-e93e-42b0-cffb-27f7936729c0"
   },
   "outputs": [
    {
     "data": {
      "text/plain": [
       "'Trouser'"
      ]
     },
     "execution_count": 47,
     "metadata": {},
     "output_type": "execute_result"
    }
   ],
   "source": [
    "label = labels[idx]\n",
    "label_map[label.item()]"
   ]
  },
  {
   "cell_type": "code",
   "execution_count": 48,
   "metadata": {
    "ExecuteTime": {
     "end_time": "2022-07-25T03:44:03.800281Z",
     "start_time": "2022-07-25T03:44:03.655665Z"
    },
    "colab": {
     "base_uri": "https://localhost:8080/",
     "height": 282
    },
    "executionInfo": {
     "elapsed": 570,
     "status": "ok",
     "timestamp": 1647772522119,
     "user": {
      "displayName": "colab0 ineuron",
      "photoUrl": "https://lh3.googleusercontent.com/a/default-user=s64",
      "userId": "16851312232179065356"
     },
     "user_tz": -330
    },
    "id": "t28DVVRP5GLf",
    "outputId": "089fa9a9-2d54-4dc4-8f7a-a0dd6f078cc9"
   },
   "outputs": [
    {
     "data": {
      "text/plain": [
       "<matplotlib.image.AxesImage at 0x23deeda3508>"
      ]
     },
     "execution_count": 48,
     "metadata": {},
     "output_type": "execute_result"
    },
    {
     "data": {
      "image/png": "[encoded data removed]",
      "text/plain": [
       "<Figure size 432x288 with 1 Axes>"
      ]
     },
     "metadata": {
      "needs_background": "light"
     },
     "output_type": "display_data"
    }
   ],
   "source": [
    "plt.imshow(img.squeeze(), cmap=\"gray\")"
   ]
  },
  {
   "cell_type": "code",
   "execution_count": 49,
   "metadata": {
    "ExecuteTime": {
     "end_time": "2022-07-25T03:44:09.249483Z",
     "start_time": "2022-07-25T03:44:09.239445Z"
    },
    "colab": {
     "base_uri": "https://localhost:8080/"
    },
    "executionInfo": {
     "elapsed": 3,
     "status": "ok",
     "timestamp": 1647772661001,
     "user": {
      "displayName": "colab0 ineuron",
      "photoUrl": "https://lh3.googleusercontent.com/a/default-user=s64",
      "userId": "16851312232179065356"
     },
     "user_tz": -330
    },
    "id": "e2i4cSj05wrg",
    "outputId": "4a0decc7-9e21-46bd-b797-41a5964fb052"
   },
   "outputs": [
    {
     "data": {
      "text/plain": [
       "torch.Size([1, 1, 28, 28])"
      ]
     },
     "execution_count": 49,
     "metadata": {},
     "output_type": "execute_result"
    }
   ],
   "source": [
    "img.unsqueeze(dim=1).shape"
   ]
  },
  {
   "cell_type": "code",
   "execution_count": 50,
   "metadata": {
    "ExecuteTime": {
     "end_time": "2022-07-25T03:44:19.120989Z",
     "start_time": "2022-07-25T03:44:18.700558Z"
    },
    "colab": {
     "base_uri": "https://localhost:8080/"
    },
    "executionInfo": {
     "elapsed": 3,
     "status": "ok",
     "timestamp": 1647772752157,
     "user": {
      "displayName": "colab0 ineuron",
      "photoUrl": "https://lh3.googleusercontent.com/a/default-user=s64",
      "userId": "16851312232179065356"
     },
     "user_tz": -330
    },
    "id": "jURrIxmv5Mbv",
    "outputId": "d0162529-4138-47fe-b6d2-83eee29889f2"
   },
   "outputs": [
    {
     "data": {
      "text/plain": [
       "tensor([[-220.3254,  -11.4445, -109.3100, -171.4081, -108.4545, -244.0211,\n",
       "         -172.0920, -275.7307, -229.3592, -363.1414]],\n",
       "       grad_fn=<AddmmBackward0>)"
      ]
     },
     "execution_count": 50,
     "metadata": {},
     "output_type": "execute_result"
    }
   ],
   "source": [
    "logit = model(img.unsqueeze(dim=1).to(config.DEVICE))\n",
    "logit"
   ]
  },
  {
   "cell_type": "code",
   "execution_count": 51,
   "metadata": {
    "ExecuteTime": {
     "end_time": "2022-07-25T03:47:35.659485Z",
     "start_time": "2022-07-25T03:47:35.635582Z"
    },
    "colab": {
     "base_uri": "https://localhost:8080/"
    },
    "executionInfo": {
     "elapsed": 2,
     "status": "ok",
     "timestamp": 1647772772344,
     "user": {
      "displayName": "colab0 ineuron",
      "photoUrl": "https://lh3.googleusercontent.com/a/default-user=s64",
      "userId": "16851312232179065356"
     },
     "user_tz": -330
    },
    "id": "cE6HXBbz5sOm",
    "outputId": "47b7cf6b-77c5-449d-e070-b0aa6a904741"
   },
   "outputs": [
    {
     "data": {
      "text/plain": [
       "-438.0798"
      ]
     },
     "execution_count": 51,
     "metadata": {},
     "output_type": "execute_result"
    }
   ],
   "source": [
    "sum([   1.9107,   32.9941,  -36.2391,  -12.3562,  -45.1147, -144.5987,\n",
    "           -9.1314,  -82.8379,  -24.2255, -118.4811])"
   ]
  },
  {
   "cell_type": "code",
   "execution_count": 52,
   "metadata": {
    "ExecuteTime": {
     "end_time": "2022-07-25T03:47:51.286598Z",
     "start_time": "2022-07-25T03:47:50.886657Z"
    },
    "colab": {
     "base_uri": "https://localhost:8080/"
    },
    "executionInfo": {
     "elapsed": 500,
     "status": "ok",
     "timestamp": 1647772850632,
     "user": {
      "displayName": "colab0 ineuron",
      "photoUrl": "https://lh3.googleusercontent.com/a/default-user=s64",
      "userId": "16851312232179065356"
     },
     "user_tz": -330
    },
    "id": "eVfVs3To6RXL",
    "outputId": "9d148b22-2106-4a38-e005-dd4fe6d91f54"
   },
   "outputs": [
    {
     "data": {
      "text/plain": [
       "tensor([[0.0000e+00, 1.0000e+00, 3.1389e-43, 0.0000e+00, 7.3989e-43, 0.0000e+00,\n",
       "         0.0000e+00, 0.0000e+00, 0.0000e+00, 0.0000e+00]],\n",
       "       grad_fn=<SoftmaxBackward0>)"
      ]
     },
     "execution_count": 52,
     "metadata": {},
     "output_type": "execute_result"
    }
   ],
   "source": [
    "pred_prob = F.softmax(logit, dim=1)\n",
    "pred_prob"
   ]
  },
  {
   "cell_type": "code",
   "execution_count": 53,
   "metadata": {
    "ExecuteTime": {
     "end_time": "2022-07-25T03:47:53.541309Z",
     "start_time": "2022-07-25T03:47:53.525349Z"
    },
    "colab": {
     "base_uri": "https://localhost:8080/"
    },
    "executionInfo": {
     "elapsed": 2,
     "status": "ok",
     "timestamp": 1647772851161,
     "user": {
      "displayName": "colab0 ineuron",
      "photoUrl": "https://lh3.googleusercontent.com/a/default-user=s64",
      "userId": "16851312232179065356"
     },
     "user_tz": -330
    },
    "id": "HBKJRoXT6YA8",
    "outputId": "7070c30b-0eb4-441b-a032-652e8f9ef283"
   },
   "outputs": [
    {
     "data": {
      "text/plain": [
       "1.0000000000000318"
      ]
     },
     "execution_count": 53,
     "metadata": {},
     "output_type": "execute_result"
    }
   ],
   "source": [
    "sum([3.1670e-14, 1.0000e+00, 8.5586e-31, 2.0167e-20, 1.1961e-34, 0.0000e+00,\n",
    "         5.0714e-19, 0.0000e+00, 1.4121e-25, 0.0000e+00])"
   ]
  },
  {
   "cell_type": "code",
   "execution_count": 54,
   "metadata": {
    "ExecuteTime": {
     "end_time": "2022-07-25T03:47:53.823062Z",
     "start_time": "2022-07-25T03:47:53.805110Z"
    },
    "colab": {
     "base_uri": "https://localhost:8080/"
    },
    "executionInfo": {
     "elapsed": 2,
     "status": "ok",
     "timestamp": 1647772880388,
     "user": {
      "displayName": "colab0 ineuron",
      "photoUrl": "https://lh3.googleusercontent.com/a/default-user=s64",
      "userId": "16851312232179065356"
     },
     "user_tz": -330
    },
    "id": "2An3frKh6fST",
    "outputId": "9c5d7d4d-267c-4606-a9f4-eb889797e93b"
   },
   "outputs": [
    {
     "data": {
      "text/plain": [
       "1"
      ]
     },
     "execution_count": 54,
     "metadata": {},
     "output_type": "execute_result"
    }
   ],
   "source": [
    "argmax = torch.argmax(pred_prob).item()\n",
    "argmax "
   ]
  },
  {
   "cell_type": "code",
   "execution_count": 55,
   "metadata": {
    "ExecuteTime": {
     "end_time": "2022-07-25T03:47:55.108204Z",
     "start_time": "2022-07-25T03:47:55.093245Z"
    },
    "colab": {
     "base_uri": "https://localhost:8080/",
     "height": 36
    },
    "executionInfo": {
     "elapsed": 10,
     "status": "ok",
     "timestamp": 1647772898546,
     "user": {
      "displayName": "colab0 ineuron",
      "photoUrl": "https://lh3.googleusercontent.com/a/default-user=s64",
      "userId": "16851312232179065356"
     },
     "user_tz": -330
    },
    "id": "eHxLbJaT6sbZ",
    "outputId": "1198778f-1526-4520-fe56-692f00a5a79d"
   },
   "outputs": [
    {
     "data": {
      "text/plain": [
       "'Trouser'"
      ]
     },
     "execution_count": 55,
     "metadata": {},
     "output_type": "execute_result"
    }
   ],
   "source": [
    "label_map[argmax]"
   ]
  },
  {
   "cell_type": "code",
   "execution_count": 56,
   "metadata": {
    "ExecuteTime": {
     "end_time": "2022-07-25T03:47:58.431221Z",
     "start_time": "2022-07-25T03:47:58.413270Z"
    },
    "executionInfo": {
     "elapsed": 495,
     "status": "ok",
     "timestamp": 1647773244097,
     "user": {
      "displayName": "colab0 ineuron",
      "photoUrl": "https://lh3.googleusercontent.com/a/default-user=s64",
      "userId": "16851312232179065356"
     },
     "user_tz": -330
    },
    "id": "Z_7xSJa86xAZ"
   },
   "outputs": [],
   "source": [
    "def predict(data, model, label_map, device, idx=0):\n",
    "    \n",
    "    images, labels = data\n",
    "    img = images[idx]\n",
    "    label = labels[idx]\n",
    "\n",
    "    plt.imshow(img.squeeze(), cmap=\"gray\")\n",
    "    logit = model(img.unsqueeze(dim=1).to(config.DEVICE))\n",
    "    pred_prob = F.softmax(logit, dim=1)\n",
    "    argmax = torch.argmax(pred_prob).item()\n",
    "\n",
    "    predicted_label = label_map[argmax]\n",
    "    actual_label = label_map[label.item()]\n",
    "\n",
    "    plt.title(f\"actual: {actual_label} | predicted: {predicted_label}\")\n",
    "    plt.axis(\"off\")\n",
    "    return predicted_label, actual_label\n"
   ]
  },
  {
   "cell_type": "code",
   "execution_count": 57,
   "metadata": {
    "ExecuteTime": {
     "end_time": "2022-07-25T03:47:59.057093Z",
     "start_time": "2022-07-25T03:47:58.955353Z"
    },
    "colab": {
     "base_uri": "https://localhost:8080/",
     "height": 282
    },
    "executionInfo": {
     "elapsed": 5,
     "status": "ok",
     "timestamp": 1647773244874,
     "user": {
      "displayName": "colab0 ineuron",
      "photoUrl": "https://lh3.googleusercontent.com/a/default-user=s64",
      "userId": "16851312232179065356"
     },
     "user_tz": -330
    },
    "id": "N36tDv747zj5",
    "outputId": "d1d05732-acd2-4ce3-f7cd-b14bba0eb5d4"
   },
   "outputs": [
    {
     "data": {
      "text/plain": [
       "('Trouser', 'Trouser')"
      ]
     },
     "execution_count": 57,
     "metadata": {},
     "output_type": "execute_result"
    },
    {
     "data": {
      "image/png": "[encoded data removed]",
      "text/plain": [
       "<Figure size 432x288 with 1 Axes>"
      ]
     },
     "metadata": {
      "needs_background": "light"
     },
     "output_type": "display_data"
    }
   ],
   "source": [
    "predict(data, model, label_map, config.DEVICE, idx=2)"
   ]
  },
  {
   "cell_type": "code",
   "execution_count": null,
   "metadata": {
    "id": "LXlIcVOt7_B9"
   },
   "outputs": [],
   "source": []
  }
 ],
 "metadata": {
  "accelerator": "GPU",
  "colab": {
   "authorship_tag": "ABX9TyOUeWTGP/Wkfkaj63pDKxTC",
   "collapsed_sections": [],
   "mount_file_id": "1_eCHOxZ5ygULsMTqo5hyEglFn11SYjPZ",
   "name": "Copy of demo.ipynb",
   "provenance": []
  },
  "kernelspec": {
   "display_name": "Python 3 (ipykernel)",
   "language": "python",
   "name": "python3"
  },
  "language_info": {
   "codemirror_mode": {
    "name": "ipython",
    "version": 3
   },
   "file_extension": ".py",
   "mimetype": "text/x-python",
   "name": "python",
   "nbconvert_exporter": "python",
   "pygments_lexer": "ipython3",
   "version": "3.7.13"
  },
  "latex_envs": {
   "LaTeX_envs_menu_present": true,
   "autoclose": false,
   "autocomplete": true,
   "bibliofile": "biblio.bib",
   "cite_by": "apalike",
   "current_citInitial": 1,
   "eqLabelWithNumbers": true,
   "eqNumInitial": 1,
   "hotkeys": {
    "equation": "Ctrl-E",
    "itemize": "Ctrl-I"
   },
   "labels_anchors": false,
   "latex_user_defs": false,
   "report_style_numbering": false,
   "user_envs_cfg": false
  },
  "toc": {
   "base_numbering": 1,
   "nav_menu": {},
   "number_sections": true,
   "sideBar": true,
   "skip_h1_title": false,
   "title_cell": "Table of Contents",
   "title_sidebar": "Contents",
   "toc_cell": false,
   "toc_position": {},
   "toc_section_display": true,
   "toc_window_display": false
  },
  "varInspector": {
   "cols": {
    "lenName": 16,
    "lenType": 16,
    "lenVar": 40
   },
   "kernels_config": {
    "python": {
     "delete_cmd_postfix": "",
     "delete_cmd_prefix": "del ",
     "library": "var_list.py",
     "varRefreshCmd": "print(var_dic_list())"
    },
    "r": {
     "delete_cmd_postfix": ") ",
     "delete_cmd_prefix": "rm(",
     "library": "var_list.r",
     "varRefreshCmd": "cat(var_dic_list()) "
    }
   },
   "types_to_exclude": [
    "module",
    "function",
    "builtin_function_or_method",
    "instance",
    "_Feature"
   ],
   "window_display": false
  }
 },
 "nbformat": 4,
 "nbformat_minor": 1
}
