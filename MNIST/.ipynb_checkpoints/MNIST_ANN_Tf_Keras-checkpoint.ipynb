{
 "cells": [
  {
   "cell_type": "code",
   "execution_count": 1,
   "metadata": {
    "ExecuteTime": {
     "end_time": "2022-06-06T04:12:52.243335Z",
     "start_time": "2022-06-06T04:12:36.658336Z"
    },
    "executionInfo": {
     "elapsed": 438,
     "status": "ok",
     "timestamp": 1642241757919,
     "user": {
      "displayName": "colab0 ineuron",
      "photoUrl": "https://lh3.googleusercontent.com/a/default-user=s64",
      "userId": "16851312232179065356"
     },
     "user_tz": -330
    },
    "id": "97RnQnpqJKls"
   },
   "outputs": [
    {
     "name": "stderr",
     "output_type": "stream",
     "text": [
      "D:\\IDEs\\Anaconda\\lib\\site-packages\\numpy\\_distributor_init.py:32: UserWarning: loaded more than 1 DLL from .libs:\n",
      "D:\\IDEs\\Anaconda\\lib\\site-packages\\numpy\\.libs\\libopenblas.PYQHXLVVQ7VESDPUVUADXEVJOBGHJPAY.gfortran-win_amd64.dll\n",
      "D:\\IDEs\\Anaconda\\lib\\site-packages\\numpy\\.libs\\libopenblas.XWYDX2IKJW2NMTWSFYNGFUWKQU3LYTCZ.gfortran-win_amd64.dll\n",
      "  stacklevel=1)\n"
     ]
    }
   ],
   "source": [
    "import os\n",
    "# ^^^ pyforest auto-imports - don't write above this line\n",
    "import tensorflow as tf\n",
    "import numpy as np\n",
    "import matplotlib.pyplot as plt\n",
    "import pandas as pd\n",
    "import seaborn as sns"
   ]
  },
  {
   "cell_type": "code",
   "execution_count": 2,
   "metadata": {
    "ExecuteTime": {
     "end_time": "2022-06-06T04:13:07.371991Z",
     "start_time": "2022-06-06T04:13:07.350206Z"
    },
    "colab": {
     "base_uri": "https://localhost:8080/",
     "height": 35
    },
    "executionInfo": {
     "elapsed": 13,
     "status": "ok",
     "timestamp": 1642241758305,
     "user": {
      "displayName": "colab0 ineuron",
      "photoUrl": "https://lh3.googleusercontent.com/a/default-user=s64",
      "userId": "16851312232179065356"
     },
     "user_tz": -330
    },
    "id": "sbhMcnVVOvDH",
    "outputId": "e7a64026-4c10-480f-c6f7-99d0a08b4eaf"
   },
   "outputs": [
    {
     "data": {
      "text/plain": [
       "'2.8.0'"
      ]
     },
     "execution_count": 2,
     "metadata": {},
     "output_type": "execute_result"
    }
   ],
   "source": [
    "ltf.__version__"
   ]
  },
  {
   "cell_type": "code",
   "execution_count": 3,
   "metadata": {
    "ExecuteTime": {
     "end_time": "2022-06-06T04:13:11.657801Z",
     "start_time": "2022-06-06T04:13:08.459869Z"
    },
    "colab": {
     "base_uri": "https://localhost:8080/"
    },
    "executionInfo": {
     "elapsed": 12,
     "status": "ok",
     "timestamp": 1642241758306,
     "user": {
      "displayName": "colab0 ineuron",
      "photoUrl": "https://lh3.googleusercontent.com/a/default-user=s64",
      "userId": "16851312232179065356"
     },
     "user_tz": -330
    },
    "id": "zy7dlDi8OyMU",
    "outputId": "949c917f-3786-4e3a-887e-70c629fca21f"
   },
   "outputs": [
    {
     "data": {
      "text/plain": [
       "[PhysicalDevice(name='/physical_device:GPU:0', device_type='GPU')]"
      ]
     },
     "execution_count": 3,
     "metadata": {},
     "output_type": "execute_result"
    }
   ],
   "source": [
    "# check if GPU is available else it'll return empty list\n",
    "\n",
    "tf.config.list_physical_devices(\"GPU\")"
   ]
  },
  {
   "cell_type": "code",
   "execution_count": 4,
   "metadata": {
    "ExecuteTime": {
     "end_time": "2022-06-06T04:14:07.974745Z",
     "start_time": "2022-06-06T04:14:07.788099Z"
    },
    "colab": {
     "base_uri": "https://localhost:8080/"
    },
    "executionInfo": {
     "elapsed": 389,
     "status": "ok",
     "timestamp": 1642241786835,
     "user": {
      "displayName": "colab0 ineuron",
      "photoUrl": "https://lh3.googleusercontent.com/a/default-user=s64",
      "userId": "16851312232179065356"
     },
     "user_tz": -330
    },
    "id": "BDQI5_2qO66N",
    "outputId": "919d62da-5e77-4058-9d5b-8c623192b90f"
   },
   "outputs": [
    {
     "name": "stdout",
     "output_type": "stream",
     "text": [
      "Sun Jun  5 21:14:07 2022       \n",
      "+-----------------------------------------------------------------------------+\n",
      "| NVIDIA-SMI 512.15       Driver Version: 512.15       CUDA Version: 11.6     |\n",
      "|-------------------------------+----------------------+----------------------+\n",
      "| GPU  Name            TCC/WDDM | Bus-Id        Disp.A | Volatile Uncorr. ECC |\n",
      "| Fan  Temp  Perf  Pwr:Usage/Cap|         Memory-Usage | GPU-Util  Compute M. |\n",
      "|                               |                      |               MIG M. |\n",
      "|===============================+======================+======================|\n",
      "|   0  NVIDIA GeForce ... WDDM  | 00000000:01:00.0  On |                  N/A |\n",
      "| N/A   55C    P0    N/A /  N/A |    930MiB /  4096MiB |      3%      Default |\n",
      "|                               |                      |                  N/A |\n",
      "+-------------------------------+----------------------+----------------------+\n",
      "                                                                               \n",
      "+-----------------------------------------------------------------------------+\n",
      "| Processes:                                                                  |\n",
      "|  GPU   GI   CI        PID   Type   Process name                  GPU Memory |\n",
      "|        ID   ID                                                   Usage      |\n",
      "|=============================================================================|\n",
      "|    0   N/A  N/A      1288    C+G                                   N/A      |\n",
      "|    0   N/A  N/A      1476    C+G   ...ekyb3d8bbwe\\YourPhone.exe    N/A      |\n",
      "|    0   N/A  N/A      1900    C+G   ...bat\\acrocef_1\\AcroCEF.exe    N/A      |\n",
      "|    0   N/A  N/A      1956    C+G   ...8wekyb3d8bbwe\\Cortana.exe    N/A      |\n",
      "|    0   N/A  N/A      2600    C+G   C:\\Windows\\explorer.exe         N/A      |\n",
      "|    0   N/A  N/A      3368    C+G   ...-2.9.11\\GitHubDesktop.exe    N/A      |\n",
      "|    0   N/A  N/A      6992    C+G   ...erver\\YourPhoneServer.exe    N/A      |\n",
      "|    0   N/A  N/A      8768    C+G   ...batNotificationClient.exe    N/A      |\n",
      "|    0   N/A  N/A      9300    C+G   ...5n1h2txyewy\\SearchApp.exe    N/A      |\n",
      "|    0   N/A  N/A      9340    C+G   ...artMenuExperienceHost.exe    N/A      |\n",
      "|    0   N/A  N/A      9876    C+G   ...obeNotificationClient.exe    N/A      |\n",
      "|    0   N/A  N/A     10816    C+G   ...bbwe\\Microsoft.Photos.exe    N/A      |\n",
      "|    0   N/A  N/A     10848    C+G   ...batNotificationClient.exe    N/A      |\n",
      "|    0   N/A  N/A     11532    C+G   ...5n1h2txyewy\\SearchApp.exe    N/A      |\n",
      "|    0   N/A  N/A     12088    C+G   ...mmandCenterBackground.exe    N/A      |\n",
      "|    0   N/A  N/A     12592    C+G   ...2txyewy\\TextInputHost.exe    N/A      |\n",
      "|    0   N/A  N/A     12736    C+G   ...8wekyb3d8bbwe\\GameBar.exe    N/A      |\n",
      "|    0   N/A  N/A     12816    C+G   ...lPanel\\SystemSettings.exe    N/A      |\n",
      "|    0   N/A  N/A     13304    C+G   ...me\\Application\\chrome.exe    N/A      |\n",
      "|    0   N/A  N/A     16808    C+G   ...y\\ShellExperienceHost.exe    N/A      |\n",
      "+-----------------------------------------------------------------------------+\n"
     ]
    }
   ],
   "source": [
    "# gives the detail of GPU which we're usingj\n",
    "\n",
    "!nvidia-smi"
   ]
  },
  {
   "cell_type": "code",
   "execution_count": 5,
   "metadata": {
    "ExecuteTime": {
     "end_time": "2022-06-06T04:16:13.521467Z",
     "start_time": "2022-06-06T04:16:13.516481Z"
    },
    "executionInfo": {
     "elapsed": 368,
     "status": "ok",
     "timestamp": 1642242212831,
     "user": {
      "displayName": "colab0 ineuron",
      "photoUrl": "https://lh3.googleusercontent.com/a/default-user=s64",
      "userId": "16851312232179065356"
     },
     "user_tz": -330
    },
    "id": "BBS2EAPhPQAF"
   },
   "outputs": [],
   "source": [
    "mnist = tf.keras.datasets.mnist"
   ]
  },
  {
   "cell_type": "code",
   "execution_count": 6,
   "metadata": {
    "ExecuteTime": {
     "end_time": "2022-06-06T04:16:15.913859Z",
     "start_time": "2022-06-06T04:16:15.255093Z"
    },
    "executionInfo": {
     "elapsed": 601,
     "status": "ok",
     "timestamp": 1642242397566,
     "user": {
      "displayName": "colab0 ineuron",
      "photoUrl": "https://lh3.googleusercontent.com/a/default-user=s64",
      "userId": "16851312232179065356"
     },
     "user_tz": -330
    },
    "id": "H1ei6mMvQY_E"
   },
   "outputs": [],
   "source": [
    "(X_train_full, y_train_full), (X_test, y_test) = mnist.load_data()"
   ]
  },
  {
   "cell_type": "code",
   "execution_count": 7,
   "metadata": {
    "ExecuteTime": {
     "end_time": "2022-06-06T04:16:16.601343Z",
     "start_time": "2022-06-06T04:16:16.588377Z"
    },
    "colab": {
     "base_uri": "https://localhost:8080/"
    },
    "executionInfo": {
     "elapsed": 5,
     "status": "ok",
     "timestamp": 1642242408139,
     "user": {
      "displayName": "colab0 ineuron",
      "photoUrl": "https://lh3.googleusercontent.com/a/default-user=s64",
      "userId": "16851312232179065356"
     },
     "user_tz": -330
    },
    "id": "DD9vJHJGRaed",
    "outputId": "1de0c09f-b37d-421b-802e-f97195a9f64a"
   },
   "outputs": [
    {
     "data": {
      "text/plain": [
       "(60000, 28, 28)"
      ]
     },
     "execution_count": 7,
     "metadata": {},
     "output_type": "execute_result"
    }
   ],
   "source": [
    "X_train_full.shape # 60,000 data points of 28*28 size images"
   ]
  },
  {
   "cell_type": "code",
   "execution_count": 8,
   "metadata": {
    "ExecuteTime": {
     "end_time": "2022-06-06T04:16:17.581989Z",
     "start_time": "2022-06-06T04:16:17.570984Z"
    },
    "colab": {
     "base_uri": "https://localhost:8080/"
    },
    "executionInfo": {
     "elapsed": 379,
     "status": "ok",
     "timestamp": 1642242427154,
     "user": {
      "displayName": "colab0 ineuron",
      "photoUrl": "https://lh3.googleusercontent.com/a/default-user=s64",
      "userId": "16851312232179065356"
     },
     "user_tz": -330
    },
    "id": "1GJAgqlORnwz",
    "outputId": "2c19e1cc-7af4-4393-c8c2-867ae5e5e48e"
   },
   "outputs": [
    {
     "data": {
      "text/plain": [
       "(60000,)"
      ]
     },
     "execution_count": 8,
     "metadata": {},
     "output_type": "execute_result"
    }
   ],
   "source": [
    "y_train_full.shape"
   ]
  },
  {
   "cell_type": "code",
   "execution_count": 9,
   "metadata": {
    "ExecuteTime": {
     "end_time": "2022-06-06T04:16:17.938995Z",
     "start_time": "2022-06-06T04:16:17.924026Z"
    },
    "colab": {
     "base_uri": "https://localhost:8080/"
    },
    "executionInfo": {
     "elapsed": 3,
     "status": "ok",
     "timestamp": 1642242439349,
     "user": {
      "displayName": "colab0 ineuron",
      "photoUrl": "https://lh3.googleusercontent.com/a/default-user=s64",
      "userId": "16851312232179065356"
     },
     "user_tz": -330
    },
    "id": "-KIs9i1mRsQr",
    "outputId": "3ee79ec2-92f0-4207-cfa0-d2ba4d2a485e"
   },
   "outputs": [
    {
     "data": {
      "text/plain": [
       "(10000, 28, 28)"
      ]
     },
     "execution_count": 9,
     "metadata": {},
     "output_type": "execute_result"
    }
   ],
   "source": [
    "X_test.shape"
   ]
  },
  {
   "cell_type": "code",
   "execution_count": 10,
   "metadata": {
    "ExecuteTime": {
     "end_time": "2022-06-06T04:16:18.295189Z",
     "start_time": "2022-06-06T04:16:18.283251Z"
    },
    "colab": {
     "base_uri": "https://localhost:8080/"
    },
    "executionInfo": {
     "elapsed": 391,
     "status": "ok",
     "timestamp": 1642242447459,
     "user": {
      "displayName": "colab0 ineuron",
      "photoUrl": "https://lh3.googleusercontent.com/a/default-user=s64",
      "userId": "16851312232179065356"
     },
     "user_tz": -330
    },
    "id": "5s-3i_1dRvRZ",
    "outputId": "f5f14524-cfc7-4d75-b612-a0d5a305be91"
   },
   "outputs": [
    {
     "data": {
      "text/plain": [
       "(10000,)"
      ]
     },
     "execution_count": 10,
     "metadata": {},
     "output_type": "execute_result"
    }
   ],
   "source": [
    "y_test.shape"
   ]
  },
  {
   "cell_type": "code",
   "execution_count": 11,
   "metadata": {
    "ExecuteTime": {
     "end_time": "2022-06-06T04:16:18.762753Z",
     "start_time": "2022-06-06T04:16:18.747800Z"
    },
    "colab": {
     "base_uri": "https://localhost:8080/"
    },
    "executionInfo": {
     "elapsed": 365,
     "status": "ok",
     "timestamp": 1642242696371,
     "user": {
      "displayName": "colab0 ineuron",
      "photoUrl": "https://lh3.googleusercontent.com/a/default-user=s64",
      "userId": "16851312232179065356"
     },
     "user_tz": -330
    },
    "id": "vaKctZfZRxHZ",
    "outputId": "ad865147-efa2-4508-a66f-9296eddefc09"
   },
   "outputs": [
    {
     "data": {
      "text/plain": [
       "array([[  0,   0,   0,   0,   0,   0,   0,   0,   0,   0,   0,   0,   0,\n",
       "          0,   0,   0,   0,   0,   0,   0,   0,   0,   0,   0,   0,   0,\n",
       "          0,   0],\n",
       "       [  0,   0,   0,   0,   0,   0,   0,   0,   0,   0,   0,   0,   0,\n",
       "          0,   0,   0,   0,   0,   0,   0,   0,   0,   0,   0,   0,   0,\n",
       "          0,   0],\n",
       "       [  0,   0,   0,   0,   0,   0,   0,   0,   0,   0,   0,   0,   0,\n",
       "          0,   0,   0,   0,   0,   0,   0,   0,   0,   0,   0,   0,   0,\n",
       "          0,   0],\n",
       "       [  0,   0,   0,   0,   0,   0,   0,   0,   0,   0,   0,   0,   0,\n",
       "          0,   0,   0,   0,   0,   0,   0,   0,   0,   0,   0,   0,   0,\n",
       "          0,   0],\n",
       "       [  0,   0,   0,   0,   0,   0,   0,   0,   0,   0,   0,   0,   0,\n",
       "          0,   0,   0,   0,   0,   0,   0,   0,   0,   0,   0,   0,   0,\n",
       "          0,   0],\n",
       "       [  0,   0,   0,   0,   0,   0,   0,   0,   0,   0,   0,   0,   3,\n",
       "         18,  18,  18, 126, 136, 175,  26, 166, 255, 247, 127,   0,   0,\n",
       "          0,   0],\n",
       "       [  0,   0,   0,   0,   0,   0,   0,   0,  30,  36,  94, 154, 170,\n",
       "        253, 253, 253, 253, 253, 225, 172, 253, 242, 195,  64,   0,   0,\n",
       "          0,   0],\n",
       "       [  0,   0,   0,   0,   0,   0,   0,  49, 238, 253, 253, 253, 253,\n",
       "        253, 253, 253, 253, 251,  93,  82,  82,  56,  39,   0,   0,   0,\n",
       "          0,   0],\n",
       "       [  0,   0,   0,   0,   0,   0,   0,  18, 219, 253, 253, 253, 253,\n",
       "        253, 198, 182, 247, 241,   0,   0,   0,   0,   0,   0,   0,   0,\n",
       "          0,   0],\n",
       "       [  0,   0,   0,   0,   0,   0,   0,   0,  80, 156, 107, 253, 253,\n",
       "        205,  11,   0,  43, 154,   0,   0,   0,   0,   0,   0,   0,   0,\n",
       "          0,   0],\n",
       "       [  0,   0,   0,   0,   0,   0,   0,   0,   0,  14,   1, 154, 253,\n",
       "         90,   0,   0,   0,   0,   0,   0,   0,   0,   0,   0,   0,   0,\n",
       "          0,   0],\n",
       "       [  0,   0,   0,   0,   0,   0,   0,   0,   0,   0,   0, 139, 253,\n",
       "        190,   2,   0,   0,   0,   0,   0,   0,   0,   0,   0,   0,   0,\n",
       "          0,   0],\n",
       "       [  0,   0,   0,   0,   0,   0,   0,   0,   0,   0,   0,  11, 190,\n",
       "        253,  70,   0,   0,   0,   0,   0,   0,   0,   0,   0,   0,   0,\n",
       "          0,   0],\n",
       "       [  0,   0,   0,   0,   0,   0,   0,   0,   0,   0,   0,   0,  35,\n",
       "        241, 225, 160, 108,   1,   0,   0,   0,   0,   0,   0,   0,   0,\n",
       "          0,   0],\n",
       "       [  0,   0,   0,   0,   0,   0,   0,   0,   0,   0,   0,   0,   0,\n",
       "         81, 240, 253, 253, 119,  25,   0,   0,   0,   0,   0,   0,   0,\n",
       "          0,   0],\n",
       "       [  0,   0,   0,   0,   0,   0,   0,   0,   0,   0,   0,   0,   0,\n",
       "          0,  45, 186, 253, 253, 150,  27,   0,   0,   0,   0,   0,   0,\n",
       "          0,   0],\n",
       "       [  0,   0,   0,   0,   0,   0,   0,   0,   0,   0,   0,   0,   0,\n",
       "          0,   0,  16,  93, 252, 253, 187,   0,   0,   0,   0,   0,   0,\n",
       "          0,   0],\n",
       "       [  0,   0,   0,   0,   0,   0,   0,   0,   0,   0,   0,   0,   0,\n",
       "          0,   0,   0,   0, 249, 253, 249,  64,   0,   0,   0,   0,   0,\n",
       "          0,   0],\n",
       "       [  0,   0,   0,   0,   0,   0,   0,   0,   0,   0,   0,   0,   0,\n",
       "          0,  46, 130, 183, 253, 253, 207,   2,   0,   0,   0,   0,   0,\n",
       "          0,   0],\n",
       "       [  0,   0,   0,   0,   0,   0,   0,   0,   0,   0,   0,   0,  39,\n",
       "        148, 229, 253, 253, 253, 250, 182,   0,   0,   0,   0,   0,   0,\n",
       "          0,   0],\n",
       "       [  0,   0,   0,   0,   0,   0,   0,   0,   0,   0,  24, 114, 221,\n",
       "        253, 253, 253, 253, 201,  78,   0,   0,   0,   0,   0,   0,   0,\n",
       "          0,   0],\n",
       "       [  0,   0,   0,   0,   0,   0,   0,   0,  23,  66, 213, 253, 253,\n",
       "        253, 253, 198,  81,   2,   0,   0,   0,   0,   0,   0,   0,   0,\n",
       "          0,   0],\n",
       "       [  0,   0,   0,   0,   0,   0,  18, 171, 219, 253, 253, 253, 253,\n",
       "        195,  80,   9,   0,   0,   0,   0,   0,   0,   0,   0,   0,   0,\n",
       "          0,   0],\n",
       "       [  0,   0,   0,   0,  55, 172, 226, 253, 253, 253, 253, 244, 133,\n",
       "         11,   0,   0,   0,   0,   0,   0,   0,   0,   0,   0,   0,   0,\n",
       "          0,   0],\n",
       "       [  0,   0,   0,   0, 136, 253, 253, 253, 212, 135, 132,  16,   0,\n",
       "          0,   0,   0,   0,   0,   0,   0,   0,   0,   0,   0,   0,   0,\n",
       "          0,   0],\n",
       "       [  0,   0,   0,   0,   0,   0,   0,   0,   0,   0,   0,   0,   0,\n",
       "          0,   0,   0,   0,   0,   0,   0,   0,   0,   0,   0,   0,   0,\n",
       "          0,   0],\n",
       "       [  0,   0,   0,   0,   0,   0,   0,   0,   0,   0,   0,   0,   0,\n",
       "          0,   0,   0,   0,   0,   0,   0,   0,   0,   0,   0,   0,   0,\n",
       "          0,   0],\n",
       "       [  0,   0,   0,   0,   0,   0,   0,   0,   0,   0,   0,   0,   0,\n",
       "          0,   0,   0,   0,   0,   0,   0,   0,   0,   0,   0,   0,   0,\n",
       "          0,   0]], dtype=uint8)"
      ]
     },
     "execution_count": 11,
     "metadata": {},
     "output_type": "execute_result"
    }
   ],
   "source": [
    "img = X_train_full[0]\n",
    "img"
   ]
  },
  {
   "cell_type": "code",
   "execution_count": 12,
   "metadata": {
    "ExecuteTime": {
     "end_time": "2022-06-06T04:16:20.692781Z",
     "start_time": "2022-06-06T04:16:20.678820Z"
    },
    "colab": {
     "base_uri": "https://localhost:8080/"
    },
    "executionInfo": {
     "elapsed": 373,
     "status": "ok",
     "timestamp": 1642242712544,
     "user": {
      "displayName": "colab0 ineuron",
      "photoUrl": "https://lh3.googleusercontent.com/a/default-user=s64",
      "userId": "16851312232179065356"
     },
     "user_tz": -330
    },
    "id": "1RN10FIDSuDy",
    "outputId": "3ad541cb-6fd1-4319-ed9b-c0fbf857b127"
   },
   "outputs": [
    {
     "data": {
      "text/plain": [
       "(28, 28)"
      ]
     },
     "execution_count": 12,
     "metadata": {},
     "output_type": "execute_result"
    }
   ],
   "source": [
    "img.shape"
   ]
  },
  {
   "cell_type": "code",
   "execution_count": 13,
   "metadata": {
    "ExecuteTime": {
     "end_time": "2022-06-06T04:16:21.692920Z",
     "start_time": "2022-06-06T04:16:20.848312Z"
    },
    "colab": {
     "base_uri": "https://localhost:8080/",
     "height": 282
    },
    "executionInfo": {
     "elapsed": 413,
     "status": "ok",
     "timestamp": 1642242748133,
     "user": {
      "displayName": "colab0 ineuron",
      "photoUrl": "https://lh3.googleusercontent.com/a/default-user=s64",
      "userId": "16851312232179065356"
     },
     "user_tz": -330
    },
    "id": "B8ixyx1rSyAi",
    "outputId": "0048a9bd-0345-43a5-bb9d-ae9e7709b260"
   },
   "outputs": [
    {
     "data": {
      "text/plain": [
       "<matplotlib.image.AxesImage at 0x21b7383bfc8>"
      ]
     },
     "execution_count": 13,
     "metadata": {},
     "output_type": "execute_result"
    },
    {
     "data": {
      "image/png": "[encoded data removed]",
      "text/plain": [
       "<Figure size 432x288 with 1 Axes>"
      ]
     },
     "metadata": {
      "needs_background": "light"
     },
     "output_type": "display_data"
    }
   ],
   "source": [
    "plt.imshow(img, cmap=\"binary\")"
   ]
  },
  {
   "cell_type": "code",
   "execution_count": null,
   "metadata": {
    "id": "lvGLX55OpGAd"
   },
   "outputs": [],
   "source": []
  },
  {
   "cell_type": "code",
   "execution_count": 14,
   "metadata": {
    "ExecuteTime": {
     "end_time": "2022-06-06T04:16:25.351982Z",
     "start_time": "2022-06-06T04:16:22.563001Z"
    },
    "colab": {
     "base_uri": "https://localhost:8080/",
     "height": 1000
    },
    "executionInfo": {
     "elapsed": 4886,
     "status": "ok",
     "timestamp": 1642243547834,
     "user": {
      "displayName": "colab0 ineuron",
      "photoUrl": "https://lh3.googleusercontent.com/a/default-user=s64",
      "userId": "16851312232179065356"
     },
     "user_tz": -330
    },
    "id": "FxdxTnndS6sJ",
    "outputId": "5f6d13f2-085a-453a-b038-ba186d065054"
   },
   "outputs": [
    {
     "data": {
      "text/plain": [
       "<AxesSubplot:>"
      ]
     },
     "execution_count": 14,
     "metadata": {},
     "output_type": "execute_result"
    },
    {
     "data": {
      "image/png": "[encoded data removed]",
      "text/plain": [
       "<Figure size 1440x1440 with 2 Axes>"
      ]
     },
     "metadata": {
      "needs_background": "light"
     },
     "output_type": "display_data"
    }
   ],
   "source": [
    "plt.figure(figsize=(20,20))\n",
    "\n",
    "#normalize it since it has values from 0 to 255\n",
    "sns.heatmap(img/255, annot=True, cmap=\"binary\")"
   ]
  },
  {
   "cell_type": "code",
   "execution_count": 51,
   "metadata": {
    "ExecuteTime": {
     "end_time": "2022-06-09T07:22:43.521329Z",
     "start_time": "2022-06-09T07:22:43.130906Z"
    }
   },
   "outputs": [
    {
     "data": {
      "application/javascript": [
       "\n",
       "        if (window._pyforest_update_imports_cell) { window._pyforest_update_imports_cell('import os'); }\n",
       "    "
      ],
      "text/plain": [
       "<IPython.core.display.Javascript object>"
      ]
     },
     "metadata": {},
     "output_type": "display_data"
    },
    {
     "name": "stdout",
     "output_type": "stream",
     "text": [
      "saving logs at: logs/fit\\Thu_Jun__9_002243_2022\n"
     ]
    }
   ],
   "source": [
    "### Create a log dir for tensorboard logs\n",
    "\n",
    "# time gives you unique folder name\n",
    "import time\n",
    "\n",
    "def get_log_path(base_log_dir=\"logs/fit\"):\n",
    "    #replace spaces with _\n",
    "    uniqueName = time.asctime().replace(\" \", \"_\").replace(\":\", \"\")\n",
    "    log_path = os.path.join(base_log_dir, uniqueName)\n",
    "    print(f\"saving logs at: {log_path}\")\n",
    "    return log_path\n",
    "\n",
    "log_dir = get_log_path()"
   ]
  },
  {
   "cell_type": "code",
   "execution_count": 52,
   "metadata": {
    "ExecuteTime": {
     "end_time": "2022-06-09T07:23:14.615427Z",
     "start_time": "2022-06-09T07:23:12.664172Z"
    }
   },
   "outputs": [],
   "source": [
    "# write images using file writer \n",
    "file_writer = tf.summary.create_file_writer(logdir=log_dir)"
   ]
  },
  {
   "cell_type": "code",
   "execution_count": 53,
   "metadata": {
    "ExecuteTime": {
     "end_time": "2022-06-09T07:23:30.513799Z",
     "start_time": "2022-06-09T07:23:15.825125Z"
    }
   },
   "outputs": [],
   "source": [
    "with file_writer.as_default():\n",
    "    #write 20 images from 10th index to 29th index\n",
    "    images = np.reshape(X_train_full[10: 30], (-1,28,28,1)) ### (20, 28, 28, 1)\n",
    "\n",
    "    tf.summary.image(\"20 handwritten digit samples\", images, max_outputs=25, step=0)"
   ]
  },
  {
   "cell_type": "code",
   "execution_count": 54,
   "metadata": {
    "ExecuteTime": {
     "end_time": "2022-06-09T07:23:31.121556Z",
     "start_time": "2022-06-09T07:23:31.107591Z"
    }
   },
   "outputs": [
    {
     "data": {
      "text/plain": [
       "(20, 28, 28, 1)"
      ]
     },
     "execution_count": 54,
     "metadata": {},
     "output_type": "execute_result"
    }
   ],
   "source": [
    "images.shape"
   ]
  },
  {
   "cell_type": "code",
   "execution_count": 55,
   "metadata": {
    "ExecuteTime": {
     "end_time": "2022-06-09T07:26:19.635980Z",
     "start_time": "2022-06-09T07:26:19.060692Z"
    }
   },
   "outputs": [],
   "source": [
    "%load_ext tensorboard"
   ]
  },
  {
   "cell_type": "code",
   "execution_count": 56,
   "metadata": {
    "ExecuteTime": {
     "end_time": "2022-06-09T07:27:21.462046Z",
     "start_time": "2022-06-09T07:26:21.130301Z"
    },
    "scrolled": false
   },
   "outputs": [
    {
     "data": {
      "text/plain": [
       "ERROR: Timed out waiting for TensorBoard to start. It may still be running as pid 18444."
      ]
     },
     "metadata": {},
     "output_type": "display_data"
    }
   ],
   "source": [
    "%tensorboard --logdir logs/fit"
   ]
  },
  {
   "cell_type": "code",
   "execution_count": 15,
   "metadata": {
    "ExecuteTime": {
     "end_time": "2022-06-06T04:16:25.711987Z",
     "start_time": "2022-06-06T04:16:25.449688Z"
    },
    "executionInfo": {
     "elapsed": 365,
     "status": "ok",
     "timestamp": 1642243746472,
     "user": {
      "displayName": "colab0 ineuron",
      "photoUrl": "https://lh3.googleusercontent.com/a/default-user=s64",
      "userId": "16851312232179065356"
     },
     "user_tz": -330
    },
    "id": "rNzzc78wTVFh"
   },
   "outputs": [],
   "source": [
    "# 1st 5000 points as validation set\n",
    "# rest goes in training\n",
    "X_valid, X_train = X_train_full[:5000] / 255, X_train_full[5000:] / 255\n",
    "y_valid, y_train = y_train_full[:5000], y_train_full[5000:]\n",
    "\n",
    "\n",
    "\n",
    "X_test = X_test / 255"
   ]
  },
  {
   "cell_type": "code",
   "execution_count": 16,
   "metadata": {
    "ExecuteTime": {
     "end_time": "2022-06-06T04:23:50.308444Z",
     "start_time": "2022-06-06T04:23:50.243473Z"
    },
    "executionInfo": {
     "elapsed": 349,
     "status": "ok",
     "timestamp": 1642244674803,
     "user": {
      "displayName": "colab0 ineuron",
      "photoUrl": "https://lh3.googleusercontent.com/a/default-user=s64",
      "userId": "16851312232179065356"
     },
     "user_tz": -330
    },
    "id": "40PLMWmLWubo"
   },
   "outputs": [],
   "source": [
    "CLASSES = 10\n",
    "\n",
    "''' define layers of NN\n",
    "# we flatten the input layer to feed it into NN\n",
    "# flatten from 28*28 size to 28*28*2 = 784*1l\n",
    "# assume 1st hidden layer has 300 neurons (we can play arounf with this number)\n",
    "# 2nd hidden layer has 100 neurons \n",
    "#softmax in final layer coz it's multi-class classification'''\n",
    "\n",
    "LAYERS = [\n",
    "          tf.keras.layers.Flatten(input_shape=(28, 28), name=\"inputLayer\"),\n",
    "          tf.keras.layers.Dense(300, activation=\"relu\", name=\"hiddenLayer1\"),\n",
    "          tf.keras.layers.Dense(100, activation=\"relu\", name=\"hiddenLayer2\"),\n",
    "          tf.keras.layers.Dense(CLASSES, activation=\"softmax\", name=\"outputLayer\"),\n",
    "]"
   ]
  },
  {
   "cell_type": "code",
   "execution_count": 19,
   "metadata": {
    "ExecuteTime": {
     "end_time": "2022-06-06T04:26:03.497397Z",
     "start_time": "2022-06-06T04:26:03.093249Z"
    },
    "executionInfo": {
     "elapsed": 3267,
     "status": "ok",
     "timestamp": 1642244840284,
     "user": {
      "displayName": "colab0 ineuron",
      "photoUrl": "https://lh3.googleusercontent.com/a/default-user=s64",
      "userId": "16851312232179065356"
     },
     "user_tz": -330
    },
    "id": "A5cMHw8eaKHx"
   },
   "outputs": [],
   "source": [
    "'''sequential coz we connect input layer to 1st hidden layer and then 1st hidden layer to 2nd and then 2nd hidden\n",
    "layer to output layer'''\n",
    "\n",
    "model_clf = tf.keras.models.Sequential(LAYERS)"
   ]
  },
  {
   "cell_type": "code",
   "execution_count": 20,
   "metadata": {
    "ExecuteTime": {
     "end_time": "2022-06-06T04:26:03.605495Z",
     "start_time": "2022-06-06T04:26:03.592527Z"
    },
    "colab": {
     "base_uri": "https://localhost:8080/"
    },
    "executionInfo": {
     "elapsed": 3,
     "status": "ok",
     "timestamp": 1642244841588,
     "user": {
      "displayName": "colab0 ineuron",
      "photoUrl": "https://lh3.googleusercontent.com/a/default-user=s64",
      "userId": "16851312232179065356"
     },
     "user_tz": -330
    },
    "id": "aZ3Y0CKwazlv",
    "outputId": "ab31c840-d0ab-47b6-f2de-d58209aaf297"
   },
   "outputs": [
    {
     "data": {
      "text/plain": [
       "[<keras.layers.core.flatten.Flatten at 0x21b7a1d20c8>,\n",
       " <keras.layers.core.dense.Dense at 0x21b7b2b0748>,\n",
       " <keras.layers.core.dense.Dense at 0x21b7a1eaa88>,\n",
       " <keras.layers.core.dense.Dense at 0x21b7a1f8f88>]"
      ]
     },
     "execution_count": 20,
     "metadata": {},
     "output_type": "execute_result"
    }
   ],
   "source": [
    "model_clf.layers"
   ]
  },
  {
   "cell_type": "code",
   "execution_count": 21,
   "metadata": {
    "ExecuteTime": {
     "end_time": "2022-06-06T04:26:05.020166Z",
     "start_time": "2022-06-06T04:26:04.938968Z"
    },
    "colab": {
     "base_uri": "https://localhost:8080/"
    },
    "executionInfo": {
     "elapsed": 353,
     "status": "ok",
     "timestamp": 1642244864495,
     "user": {
      "displayName": "colab0 ineuron",
      "photoUrl": "https://lh3.googleusercontent.com/a/default-user=s64",
      "userId": "16851312232179065356"
     },
     "user_tz": -330
    },
    "id": "PsoWKSsla3o7",
    "outputId": "0d41d6ab-a958-4b8c-8d25-aed44f032409"
   },
   "outputs": [
    {
     "name": "stdout",
     "output_type": "stream",
     "text": [
      "Model: \"sequential_1\"\n",
      "_________________________________________________________________\n",
      " Layer (type)                Output Shape              Param #   \n",
      "=================================================================\n",
      " inputLayer (Flatten)        (None, 784)               0         \n",
      "                                                                 \n",
      " hiddenLayer1 (Dense)        (None, 300)               235500    \n",
      "                                                                 \n",
      " hiddenLayer2 (Dense)        (None, 100)               30100     \n",
      "                                                                 \n",
      " outputLayer (Dense)         (None, 10)                1010      \n",
      "                                                                 \n",
      "=================================================================\n",
      "Total params: 266,610\n",
      "Trainable params: 266,610\n",
      "Non-trainable params: 0\n",
      "_________________________________________________________________\n"
     ]
    }
   ],
   "source": [
    "model_clf.summary()"
   ]
  },
  {
   "cell_type": "code",
   "execution_count": null,
   "metadata": {
    "id": "nHIhV4Tnu1Gq"
   },
   "outputs": [],
   "source": []
  },
  {
   "cell_type": "code",
   "execution_count": 30,
   "metadata": {
    "colab": {
     "base_uri": "https://localhost:8080/"
    },
    "executionInfo": {
     "elapsed": 373,
     "status": "ok",
     "timestamp": 1642245137434,
     "user": {
      "displayName": "colab0 ineuron",
      "photoUrl": "https://lh3.googleusercontent.com/a/default-user=s64",
      "userId": "16851312232179065356"
     },
     "user_tz": -330
    },
    "id": "gV85z9VGa_ZK",
    "outputId": "6c89b9c9-bfa4-4774-f458-4982438036a2"
   },
   "outputs": [
    {
     "data": {
      "text/plain": [
       "235500"
      ]
     },
     "execution_count": 30,
     "metadata": {},
     "output_type": "execute_result"
    }
   ],
   "source": [
    "# input* weight + bias for 1st hidden layer\n",
    "784*300 + 300"
   ]
  },
  {
   "cell_type": "code",
   "execution_count": 31,
   "metadata": {
    "colab": {
     "base_uri": "https://localhost:8080/"
    },
    "executionInfo": {
     "elapsed": 365,
     "status": "ok",
     "timestamp": 1642245148326,
     "user": {
      "displayName": "colab0 ineuron",
      "photoUrl": "https://lh3.googleusercontent.com/a/default-user=s64",
      "userId": "16851312232179065356"
     },
     "user_tz": -330
    },
    "id": "jTPGt4LJcCBc",
    "outputId": "5ea0fc67-839b-4ba4-ef59-0f38c1382b8d"
   },
   "outputs": [
    {
     "data": {
      "text/plain": [
       "30100"
      ]
     },
     "execution_count": 31,
     "metadata": {},
     "output_type": "execute_result"
    }
   ],
   "source": [
    "# input* weight + bias for 2nd hidden layer\n",
    "300*100 + 100"
   ]
  },
  {
   "cell_type": "code",
   "execution_count": 32,
   "metadata": {
    "colab": {
     "base_uri": "https://localhost:8080/"
    },
    "executionInfo": {
     "elapsed": 383,
     "status": "ok",
     "timestamp": 1642245159915,
     "user": {
      "displayName": "colab0 ineuron",
      "photoUrl": "https://lh3.googleusercontent.com/a/default-user=s64",
      "userId": "16851312232179065356"
     },
     "user_tz": -330
    },
    "id": "2Ze0ZXFZcErq",
    "outputId": "c10cf43a-d35a-4741-a2aa-a115474dc9a9"
   },
   "outputs": [
    {
     "data": {
      "text/plain": [
       "1010"
      ]
     },
     "execution_count": 32,
     "metadata": {},
     "output_type": "execute_result"
    }
   ],
   "source": [
    "# input* weight + bias for output  layer\n",
    "100*10 + 10"
   ]
  },
  {
   "cell_type": "code",
   "execution_count": 34,
   "metadata": {
    "colab": {
     "base_uri": "https://localhost:8080/"
    },
    "executionInfo": {
     "elapsed": 363,
     "status": "ok",
     "timestamp": 1642245191389,
     "user": {
      "displayName": "colab0 ineuron",
      "photoUrl": "https://lh3.googleusercontent.com/a/default-user=s64",
      "userId": "16851312232179065356"
     },
     "user_tz": -330
    },
    "id": "grANKicLcHgh",
    "outputId": "b442f1b2-0370-4040-d82f-4410a069600b"
   },
   "outputs": [
    {
     "data": {
      "text/plain": [
       "266610"
      ]
     },
     "execution_count": 34,
     "metadata": {},
     "output_type": "execute_result"
    }
   ],
   "source": [
    "# total parameters\n",
    "sum([235500, 30100, 1010])"
   ]
  },
  {
   "cell_type": "code",
   "execution_count": 22,
   "metadata": {
    "ExecuteTime": {
     "end_time": "2022-06-06T04:32:10.570238Z",
     "start_time": "2022-06-06T04:32:10.560232Z"
    },
    "colab": {
     "base_uri": "https://localhost:8080/",
     "height": 35
    },
    "executionInfo": {
     "elapsed": 355,
     "status": "ok",
     "timestamp": 1642245376411,
     "user": {
      "displayName": "colab0 ineuron",
      "photoUrl": "https://lh3.googleusercontent.com/a/default-user=s64",
      "userId": "16851312232179065356"
     },
     "user_tz": -330
    },
    "id": "xyaR1VAEcM1J",
    "outputId": "386e968d-ce27-4d5b-ede5-fc3f60425639"
   },
   "outputs": [
    {
     "data": {
      "text/plain": [
       "'hiddenLayer1'"
      ]
     },
     "execution_count": 22,
     "metadata": {},
     "output_type": "execute_result"
    }
   ],
   "source": [
    "model_clf.layers[1].name"
   ]
  },
  {
   "cell_type": "code",
   "execution_count": 24,
   "metadata": {
    "ExecuteTime": {
     "end_time": "2022-06-06T04:33:23.063184Z",
     "start_time": "2022-06-06T04:33:22.600219Z"
    },
    "executionInfo": {
     "elapsed": 375,
     "status": "ok",
     "timestamp": 1642245431783,
     "user": {
      "displayName": "colab0 ineuron",
      "photoUrl": "https://lh3.googleusercontent.com/a/default-user=s64",
      "userId": "16851312232179065356"
     },
     "user_tz": -330
    },
    "id": "nzhze68Jc4Xr"
   },
   "outputs": [],
   "source": [
    "# returns weight of this particular layer\n",
    "weights, biases = model_clf.layers[1].get_weights()"
   ]
  },
  {
   "cell_type": "code",
   "execution_count": 25,
   "metadata": {
    "ExecuteTime": {
     "end_time": "2022-06-06T04:33:24.296214Z",
     "start_time": "2022-06-06T04:33:24.276254Z"
    },
    "colab": {
     "base_uri": "https://localhost:8080/"
    },
    "executionInfo": {
     "elapsed": 365,
     "status": "ok",
     "timestamp": 1642245449168,
     "user": {
      "displayName": "colab0 ineuron",
      "photoUrl": "https://lh3.googleusercontent.com/a/default-user=s64",
      "userId": "16851312232179065356"
     },
     "user_tz": -330
    },
    "id": "A86VDvdedC3J",
    "outputId": "58c853c7-1552-449c-9102-873a49f33a87"
   },
   "outputs": [
    {
     "data": {
      "text/plain": [
       "(784, 300)"
      ]
     },
     "execution_count": 25,
     "metadata": {},
     "output_type": "execute_result"
    }
   ],
   "source": [
    "weights.shape"
   ]
  },
  {
   "cell_type": "code",
   "execution_count": 26,
   "metadata": {
    "ExecuteTime": {
     "end_time": "2022-06-06T04:33:25.372563Z",
     "start_time": "2022-06-06T04:33:25.357603Z"
    },
    "colab": {
     "base_uri": "https://localhost:8080/"
    },
    "executionInfo": {
     "elapsed": 4,
     "status": "ok",
     "timestamp": 1642250132264,
     "user": {
      "displayName": "colab0 ineuron",
      "photoUrl": "https://lh3.googleusercontent.com/a/default-user=s64",
      "userId": "16851312232179065356"
     },
     "user_tz": -330
    },
    "id": "7LbUjbzNu4Er",
    "outputId": "465b5d2c-d0e2-4aba-ee89-b9eef40c8b19"
   },
   "outputs": [
    {
     "data": {
      "text/plain": [
       "dtype('float32')"
      ]
     },
     "execution_count": 26,
     "metadata": {},
     "output_type": "execute_result"
    }
   ],
   "source": [
    "#32 bits are required to store each weight value\n",
    "weights[0].dtype"
   ]
  },
  {
   "cell_type": "code",
   "execution_count": 27,
   "metadata": {
    "ExecuteTime": {
     "end_time": "2022-06-06T04:33:25.869749Z",
     "start_time": "2022-06-06T04:33:25.860774Z"
    },
    "colab": {
     "base_uri": "https://localhost:8080/"
    },
    "executionInfo": {
     "elapsed": 450,
     "status": "ok",
     "timestamp": 1642245460069,
     "user": {
      "displayName": "colab0 ineuron",
      "photoUrl": "https://lh3.googleusercontent.com/a/default-user=s64",
      "userId": "16851312232179065356"
     },
     "user_tz": -330
    },
    "id": "TBcYsiFmdN-w",
    "outputId": "4af29da0-91cb-4dc2-8dd6-a7a1fbcc04b8"
   },
   "outputs": [
    {
     "data": {
      "text/plain": [
       "(300,)"
      ]
     },
     "execution_count": 27,
     "metadata": {},
     "output_type": "execute_result"
    }
   ],
   "source": [
    "biases.shape"
   ]
  },
  {
   "cell_type": "code",
   "execution_count": 28,
   "metadata": {
    "ExecuteTime": {
     "end_time": "2022-06-06T04:33:26.260344Z",
     "start_time": "2022-06-06T04:33:26.247379Z"
    },
    "colab": {
     "base_uri": "https://localhost:8080/"
    },
    "executionInfo": {
     "elapsed": 356,
     "status": "ok",
     "timestamp": 1642250154076,
     "user": {
      "displayName": "colab0 ineuron",
      "photoUrl": "https://lh3.googleusercontent.com/a/default-user=s64",
      "userId": "16851312232179065356"
     },
     "user_tz": -330
    },
    "id": "9xvIAJgtvJNB",
    "outputId": "479546ec-84b9-4b0a-8084-2352c84ef50c"
   },
   "outputs": [
    {
     "data": {
      "text/plain": [
       "dtype('float32')"
      ]
     },
     "execution_count": 28,
     "metadata": {},
     "output_type": "execute_result"
    }
   ],
   "source": [
    "#32 bits are required to store each bias value\n",
    "biases.dtype"
   ]
  },
  {
   "cell_type": "code",
   "execution_count": 43,
   "metadata": {
    "ExecuteTime": {
     "end_time": "2022-06-08T04:05:37.101832Z",
     "start_time": "2022-06-08T04:05:37.089858Z"
    }
   },
   "outputs": [
    {
     "data": {
      "text/plain": [
       "8531520"
      ]
     },
     "execution_count": 43,
     "metadata": {},
     "output_type": "execute_result"
    }
   ],
   "source": [
    "# total  param * 32 bits = memory size of the saved model file\n",
    "266610 * 32"
   ]
  },
  {
   "cell_type": "code",
   "execution_count": 44,
   "metadata": {
    "ExecuteTime": {
     "end_time": "2022-06-08T04:06:03.138653Z",
     "start_time": "2022-06-08T04:06:03.121713Z"
    }
   },
   "outputs": [
    {
     "data": {
      "text/plain": [
       "1066440.0"
      ]
     },
     "execution_count": 44,
     "metadata": {},
     "output_type": "execute_result"
    }
   ],
   "source": [
    "# converting it bytes\n",
    "(266610 * 32) / 8"
   ]
  },
  {
   "cell_type": "markdown",
   "metadata": {},
   "source": [
    "**1066440 bytes  will be the size of the test.h5 file**"
   ]
  },
  {
   "cell_type": "code",
   "execution_count": 29,
   "metadata": {
    "ExecuteTime": {
     "end_time": "2022-06-06T04:33:27.492073Z",
     "start_time": "2022-06-06T04:33:27.486097Z"
    },
    "colab": {
     "base_uri": "https://localhost:8080/"
    },
    "executionInfo": {
     "elapsed": 372,
     "status": "ok",
     "timestamp": 1642245472293,
     "user": {
      "displayName": "colab0 ineuron",
      "photoUrl": "https://lh3.googleusercontent.com/a/default-user=s64",
      "userId": "16851312232179065356"
     },
     "user_tz": -330
    },
    "id": "eGmtYsSSdQxg",
    "outputId": "ac886dab-4ebd-48a0-8e3f-de1de01bd751"
   },
   "outputs": [
    {
     "data": {
      "text/plain": [
       "array([[-0.00077839, -0.02600687, -0.05917719, ...,  0.03339431,\n",
       "        -0.00961267,  0.02152047],\n",
       "       [ 0.01577078,  0.0212384 , -0.04534854, ...,  0.02637553,\n",
       "        -0.04027985,  0.00827675],\n",
       "       [-0.06978542, -0.04094344,  0.03222292, ...,  0.06034589,\n",
       "        -0.03865235, -0.05690394],\n",
       "       ...,\n",
       "       [-0.02813396, -0.06761613, -0.00931796, ...,  0.05444416,\n",
       "        -0.04506744, -0.01596354],\n",
       "       [-0.06122044, -0.05594778, -0.02626151, ..., -0.02996269,\n",
       "        -0.01093342, -0.04148953],\n",
       "       [-0.07018099, -0.04552713, -0.03455664, ..., -0.03858558,\n",
       "        -0.05535503,  0.03731819]], dtype=float32)"
      ]
     },
     "execution_count": 29,
     "metadata": {},
     "output_type": "execute_result"
    }
   ],
   "source": [
    "# weights that have been initialized in the beginning\n",
    "weights"
   ]
  },
  {
   "cell_type": "code",
   "execution_count": 30,
   "metadata": {
    "ExecuteTime": {
     "end_time": "2022-06-06T04:34:39.244248Z",
     "start_time": "2022-06-06T04:34:39.234273Z"
    },
    "colab": {
     "base_uri": "https://localhost:8080/"
    },
    "executionInfo": {
     "elapsed": 383,
     "status": "ok",
     "timestamp": 1642245491258,
     "user": {
      "displayName": "colab0 ineuron",
      "photoUrl": "https://lh3.googleusercontent.com/a/default-user=s64",
      "userId": "16851312232179065356"
     },
     "user_tz": -330
    },
    "id": "tUeRtkRAdToS",
    "outputId": "d74f11bb-5827-420a-e549-9a37e3f0f9b2"
   },
   "outputs": [
    {
     "data": {
      "text/plain": [
       "array([0., 0., 0., 0., 0., 0., 0., 0., 0., 0., 0., 0., 0., 0., 0., 0., 0.,\n",
       "       0., 0., 0., 0., 0., 0., 0., 0., 0., 0., 0., 0., 0., 0., 0., 0., 0.,\n",
       "       0., 0., 0., 0., 0., 0., 0., 0., 0., 0., 0., 0., 0., 0., 0., 0., 0.,\n",
       "       0., 0., 0., 0., 0., 0., 0., 0., 0., 0., 0., 0., 0., 0., 0., 0., 0.,\n",
       "       0., 0., 0., 0., 0., 0., 0., 0., 0., 0., 0., 0., 0., 0., 0., 0., 0.,\n",
       "       0., 0., 0., 0., 0., 0., 0., 0., 0., 0., 0., 0., 0., 0., 0., 0., 0.,\n",
       "       0., 0., 0., 0., 0., 0., 0., 0., 0., 0., 0., 0., 0., 0., 0., 0., 0.,\n",
       "       0., 0., 0., 0., 0., 0., 0., 0., 0., 0., 0., 0., 0., 0., 0., 0., 0.,\n",
       "       0., 0., 0., 0., 0., 0., 0., 0., 0., 0., 0., 0., 0., 0., 0., 0., 0.,\n",
       "       0., 0., 0., 0., 0., 0., 0., 0., 0., 0., 0., 0., 0., 0., 0., 0., 0.,\n",
       "       0., 0., 0., 0., 0., 0., 0., 0., 0., 0., 0., 0., 0., 0., 0., 0., 0.,\n",
       "       0., 0., 0., 0., 0., 0., 0., 0., 0., 0., 0., 0., 0., 0., 0., 0., 0.,\n",
       "       0., 0., 0., 0., 0., 0., 0., 0., 0., 0., 0., 0., 0., 0., 0., 0., 0.,\n",
       "       0., 0., 0., 0., 0., 0., 0., 0., 0., 0., 0., 0., 0., 0., 0., 0., 0.,\n",
       "       0., 0., 0., 0., 0., 0., 0., 0., 0., 0., 0., 0., 0., 0., 0., 0., 0.,\n",
       "       0., 0., 0., 0., 0., 0., 0., 0., 0., 0., 0., 0., 0., 0., 0., 0., 0.,\n",
       "       0., 0., 0., 0., 0., 0., 0., 0., 0., 0., 0., 0., 0., 0., 0., 0., 0.,\n",
       "       0., 0., 0., 0., 0., 0., 0., 0., 0., 0., 0.], dtype=float32)"
      ]
     },
     "execution_count": 30,
     "metadata": {},
     "output_type": "execute_result"
    }
   ],
   "source": [
    "# biases that have been initailzed in the beginning\n",
    "biases"
   ]
  },
  {
   "cell_type": "code",
   "execution_count": 63,
   "metadata": {
    "colab": {
     "base_uri": "https://localhost:8080/"
    },
    "executionInfo": {
     "elapsed": 382,
     "status": "ok",
     "timestamp": 1642250242683,
     "user": {
      "displayName": "colab0 ineuron",
      "photoUrl": "https://lh3.googleusercontent.com/a/default-user=s64",
      "userId": "16851312232179065356"
     },
     "user_tz": -330
    },
    "id": "A9TNhweOvRFK",
    "outputId": "5fa1ce60-547d-447e-cf43-b9380155f06a"
   },
   "outputs": [
    {
     "data": {
      "text/plain": [
       "1066440.0"
      ]
     },
     "execution_count": 63,
     "metadata": {},
     "output_type": "execute_result"
    }
   ],
   "source": [
    "(266610 * 32)/8"
   ]
  },
  {
   "cell_type": "code",
   "execution_count": 31,
   "metadata": {
    "ExecuteTime": {
     "end_time": "2022-06-06T04:38:08.428729Z",
     "start_time": "2022-06-06T04:38:08.076671Z"
    },
    "executionInfo": {
     "elapsed": 356,
     "status": "ok",
     "timestamp": 1642245778310,
     "user": {
      "displayName": "colab0 ineuron",
      "photoUrl": "https://lh3.googleusercontent.com/a/default-user=s64",
      "userId": "16851312232179065356"
     },
     "user_tz": -330
    },
    "id": "yKGXUQ0GdYZ3"
   },
   "outputs": [],
   "source": [
    "# name of the loss function\n",
    "LOSS_FUNCTION = \"sparse_categorical_crossentropy\"\n",
    "# optimizer is used to find the golbal minima\n",
    "OPTIMIZER = \"SGD\"\n",
    "# on what metrics we are going to understand wether our output is nearing (to minima) correct or not\n",
    "METRICS = [\"accuracy\"]\n",
    "\n",
    "\n",
    "model_clf.compile(loss=LOSS_FUNCTION, \n",
    "                  optimizer=OPTIMIZER,\n",
    "                  metrics=METRICS)"
   ]
  },
  {
   "cell_type": "code",
   "execution_count": 34,
   "metadata": {
    "ExecuteTime": {
     "end_time": "2022-06-06T04:48:59.441902Z",
     "start_time": "2022-06-06T04:48:59.435917Z"
    }
   },
   "outputs": [
    {
     "data": {
      "text/plain": [
       "3437.5"
      ]
     },
     "execution_count": 34,
     "metadata": {},
     "output_type": "execute_result"
    }
   ],
   "source": [
    "# iterations are no. of batches to complete one epoch\n",
    "# iterations = (total input size) / (batch size)\n",
    "55000/16"
   ]
  },
  {
   "cell_type": "markdown",
   "metadata": {},
   "source": [
    "So, it'll take  a set of 16 data points(images) each for 3438 times FOR EVERY EPOCH\n",
    "\n",
    "THE MODEL WILL GO through all the 55000 data points in each epoch"
   ]
  },
  {
   "cell_type": "markdown",
   "metadata": {},
   "source": [
    "**So, in every epoch i.e. steps per epoch(iterations) = 3438**\n",
    "\n",
    "It will calculate the error for first 16 data points(images) chosen randomly and then it'll take another set of 16 data points chose randomly(stratified sampling) and calculate error.\n",
    "\n",
    "This process will continue for 3438 iterations.\n",
    "\n",
    "Then it'll take the average error out of 16 errors in each iteration. once you get average error. The weights will get updated based on this avg error. So backprop will happen 3438 times\n",
    "\n",
    "**In every epoch the model will go through all the 55000 data points**\n",
    "\n",
    "So, 1 batch = 16 * 28 * 28 = 16 * 784\n",
    "\n",
    "**Backpropagation will happen 3438 times per epoch**\n",
    "\n",
    "\n",
    "Weights gets updated =(no. of epochs = 30) * (3438) times\n"
   ]
  },
  {
   "cell_type": "code",
   "execution_count": 32,
   "metadata": {
    "ExecuteTime": {
     "end_time": "2022-06-06T04:47:48.453867Z",
     "start_time": "2022-06-06T04:38:12.149735Z"
    },
    "colab": {
     "base_uri": "https://localhost:8080/",
     "height": 399
    },
    "executionInfo": {
     "elapsed": 5216,
     "status": "error",
     "timestamp": 1642250657461,
     "user": {
      "displayName": "colab0 ineuron",
      "photoUrl": "https://lh3.googleusercontent.com/a/default-user=s64",
      "userId": "16851312232179065356"
     },
     "user_tz": -330
    },
    "id": "hCPqSIzTeefZ",
    "outputId": "11768a76-143b-4df3-bfe6-68720bab5c35"
   },
   "outputs": [
    {
     "name": "stdout",
     "output_type": "stream",
     "text": [
      "Epoch 1/30\n",
      "3438/3438 [==============================] - 30s 6ms/step - loss: 0.4575 - accuracy: 0.8778 - val_loss: 0.2431 - val_accuracy: 0.9322\n",
      "Epoch 2/30\n",
      "3438/3438 [==============================] - 20s 6ms/step - loss: 0.2210 - accuracy: 0.9363 - val_loss: 0.1831 - val_accuracy: 0.9496\n",
      "Epoch 3/30\n",
      "3438/3438 [==============================] - 19s 5ms/step - loss: 0.1678 - accuracy: 0.9514 - val_loss: 0.1437 - val_accuracy: 0.9616\n",
      "Epoch 4/30\n",
      "3438/3438 [==============================] - 20s 6ms/step - loss: 0.1348 - accuracy: 0.9608 - val_loss: 0.1240 - val_accuracy: 0.9666\n",
      "Epoch 5/30\n",
      "3438/3438 [==============================] - 22s 6ms/step - loss: 0.1119 - accuracy: 0.9676 - val_loss: 0.1099 - val_accuracy: 0.9704\n",
      "Epoch 6/30\n",
      "3438/3438 [==============================] - 32s 9ms/step - loss: 0.0954 - accuracy: 0.9730 - val_loss: 0.0992 - val_accuracy: 0.9730\n",
      "Epoch 7/30\n",
      "3438/3438 [==============================] - 20s 6ms/step - loss: 0.0832 - accuracy: 0.9761 - val_loss: 0.0898 - val_accuracy: 0.9736\n",
      "Epoch 8/30\n",
      "3438/3438 [==============================] - 21s 6ms/step - loss: 0.0726 - accuracy: 0.9795 - val_loss: 0.0862 - val_accuracy: 0.9746\n",
      "Epoch 9/30\n",
      "3438/3438 [==============================] - 20s 6ms/step - loss: 0.0639 - accuracy: 0.9818 - val_loss: 0.0809 - val_accuracy: 0.9772\n",
      "Epoch 10/30\n",
      "3438/3438 [==============================] - 22s 6ms/step - loss: 0.0568 - accuracy: 0.9844 - val_loss: 0.0796 - val_accuracy: 0.9782\n",
      "Epoch 11/30\n",
      "3438/3438 [==============================] - 20s 6ms/step - loss: 0.0505 - accuracy: 0.9861 - val_loss: 0.0771 - val_accuracy: 0.9778\n",
      "Epoch 12/30\n",
      "3438/3438 [==============================] - 20s 6ms/step - loss: 0.0452 - accuracy: 0.9879 - val_loss: 0.0744 - val_accuracy: 0.9786\n",
      "Epoch 13/30\n",
      "3438/3438 [==============================] - 19s 6ms/step - loss: 0.0406 - accuracy: 0.9894 - val_loss: 0.0723 - val_accuracy: 0.9796\n",
      "Epoch 14/30\n",
      "3438/3438 [==============================] - 19s 5ms/step - loss: 0.0366 - accuracy: 0.9905 - val_loss: 0.0710 - val_accuracy: 0.9798\n",
      "Epoch 15/30\n",
      "3438/3438 [==============================] - 18s 5ms/step - loss: 0.0323 - accuracy: 0.9915 - val_loss: 0.0670 - val_accuracy: 0.9808\n",
      "Epoch 16/30\n",
      "3438/3438 [==============================] - 14s 4ms/step - loss: 0.0294 - accuracy: 0.9929 - val_loss: 0.0710 - val_accuracy: 0.9800\n",
      "Epoch 17/30\n",
      "3438/3438 [==============================] - 18s 5ms/step - loss: 0.0262 - accuracy: 0.9939 - val_loss: 0.0701 - val_accuracy: 0.9804\n",
      "Epoch 18/30\n",
      "3438/3438 [==============================] - 20s 6ms/step - loss: 0.0239 - accuracy: 0.9944 - val_loss: 0.0688 - val_accuracy: 0.9816\n",
      "Epoch 19/30\n",
      "3438/3438 [==============================] - 19s 5ms/step - loss: 0.0214 - accuracy: 0.9953 - val_loss: 0.0680 - val_accuracy: 0.9798\n",
      "Epoch 20/30\n",
      "3438/3438 [==============================] - 19s 5ms/step - loss: 0.0192 - accuracy: 0.9961 - val_loss: 0.0662 - val_accuracy: 0.9808\n",
      "Epoch 21/30\n",
      "3438/3438 [==============================] - 19s 5ms/step - loss: 0.0173 - accuracy: 0.9968 - val_loss: 0.0659 - val_accuracy: 0.9816\n",
      "Epoch 22/30\n",
      "3438/3438 [==============================] - 19s 5ms/step - loss: 0.0155 - accuracy: 0.9974 - val_loss: 0.0677 - val_accuracy: 0.9806\n",
      "Epoch 23/30\n",
      "3438/3438 [==============================] - 13s 4ms/step - loss: 0.0144 - accuracy: 0.9977 - val_loss: 0.0641 - val_accuracy: 0.9822\n",
      "Epoch 24/30\n",
      "3438/3438 [==============================] - 13s 4ms/step - loss: 0.0130 - accuracy: 0.9981 - val_loss: 0.0679 - val_accuracy: 0.9816\n",
      "Epoch 25/30\n",
      "3438/3438 [==============================] - 13s 4ms/step - loss: 0.0117 - accuracy: 0.9984 - val_loss: 0.0648 - val_accuracy: 0.9836\n",
      "Epoch 26/30\n",
      "3438/3438 [==============================] - 13s 4ms/step - loss: 0.0108 - accuracy: 0.9985 - val_loss: 0.0646 - val_accuracy: 0.9820\n",
      "Epoch 27/30\n",
      "3438/3438 [==============================] - 19s 5ms/step - loss: 0.0099 - accuracy: 0.9989 - val_loss: 0.0669 - val_accuracy: 0.9822\n",
      "Epoch 28/30\n",
      "3438/3438 [==============================] - 18s 5ms/step - loss: 0.0089 - accuracy: 0.9991 - val_loss: 0.0697 - val_accuracy: 0.9818\n",
      "Epoch 29/30\n",
      "3438/3438 [==============================] - 19s 5ms/step - loss: 0.0081 - accuracy: 0.9993 - val_loss: 0.0679 - val_accuracy: 0.9816\n",
      "Epoch 30/30\n",
      "3438/3438 [==============================] - 19s 5ms/step - loss: 0.0077 - accuracy: 0.9992 - val_loss: 0.0670 - val_accuracy: 0.9834\n"
     ]
    }
   ],
   "source": [
    "EPOCHS = 30\n",
    "VALIDATION = (X_valid, y_valid)\n",
    "\n",
    "# default batch_size = 32\n",
    "history = model_clf.fit(X_train, y_train, \n",
    "              epochs=EPOCHS, batch_size=16,\n",
    "              validation_data=VALIDATION)"
   ]
  },
  {
   "cell_type": "code",
   "execution_count": 35,
   "metadata": {
    "ExecuteTime": {
     "end_time": "2022-06-08T03:37:48.816162Z",
     "start_time": "2022-06-08T03:37:48.789194Z"
    },
    "colab": {
     "base_uri": "https://localhost:8080/"
    },
    "executionInfo": {
     "elapsed": 543,
     "status": "ok",
     "timestamp": 1642246671827,
     "user": {
      "displayName": "colab0 ineuron",
      "photoUrl": "https://lh3.googleusercontent.com/a/default-user=s64",
      "userId": "16851312232179065356"
     },
     "user_tz": -330
    },
    "id": "v5ufgVFTfPHA",
    "outputId": "a7417bf2-db08-4422-ec30-cde7b531e92e"
   },
   "outputs": [
    {
     "data": {
      "text/plain": [
       "dict"
      ]
     },
     "execution_count": 35,
     "metadata": {},
     "output_type": "execute_result"
    }
   ],
   "source": [
    "type(history.history)"
   ]
  },
  {
   "cell_type": "code",
   "execution_count": 36,
   "metadata": {
    "ExecuteTime": {
     "end_time": "2022-06-08T03:37:49.311803Z",
     "start_time": "2022-06-08T03:37:49.298803Z"
    },
    "colab": {
     "base_uri": "https://localhost:8080/"
    },
    "executionInfo": {
     "elapsed": 3,
     "status": "ok",
     "timestamp": 1642246682630,
     "user": {
      "displayName": "colab0 ineuron",
      "photoUrl": "https://lh3.googleusercontent.com/a/default-user=s64",
      "userId": "16851312232179065356"
     },
     "user_tz": -330
    },
    "id": "FBy_aGjeh2e1",
    "outputId": "ff8fda7d-f320-4b51-e305-8c82a8012704"
   },
   "outputs": [
    {
     "data": {
      "text/plain": [
       "dict_keys(['loss', 'accuracy', 'val_loss', 'val_accuracy'])"
      ]
     },
     "execution_count": 36,
     "metadata": {},
     "output_type": "execute_result"
    }
   ],
   "source": [
    "history.history.keys()"
   ]
  },
  {
   "cell_type": "code",
   "execution_count": 37,
   "metadata": {
    "ExecuteTime": {
     "end_time": "2022-06-08T03:37:56.636642Z",
     "start_time": "2022-06-08T03:37:56.443351Z"
    },
    "colab": {
     "base_uri": "https://localhost:8080/",
     "height": 990
    },
    "executionInfo": {
     "elapsed": 391,
     "status": "ok",
     "timestamp": 1642246703876,
     "user": {
      "displayName": "colab0 ineuron",
      "photoUrl": "https://lh3.googleusercontent.com/a/default-user=s64",
      "userId": "16851312232179065356"
     },
     "user_tz": -330
    },
    "id": "I3dVladfh7V-",
    "outputId": "fc303576-e809-4f48-99da-c9a7b30f225c"
   },
   "outputs": [
    {
     "data": {
      "text/html": [
       "<div>\n",
       "<style scoped>\n",
       "    .dataframe tbody tr th:only-of-type {\n",
       "        vertical-align: middle;\n",
       "    }\n",
       "\n",
       "    .dataframe tbody tr th {\n",
       "        vertical-align: top;\n",
       "    }\n",
       "\n",
       "    .dataframe thead th {\n",
       "        text-align: right;\n",
       "    }\n",
       "</style>\n",
       "<table border=\"1\" class=\"dataframe\">\n",
       "  <thead>\n",
       "    <tr style=\"text-align: right;\">\n",
       "      <th></th>\n",
       "      <th>loss</th>\n",
       "      <th>accuracy</th>\n",
       "      <th>val_loss</th>\n",
       "      <th>val_accuracy</th>\n",
       "    </tr>\n",
       "  </thead>\n",
       "  <tbody>\n",
       "    <tr>\n",
       "      <th>0</th>\n",
       "      <td>0.457479</td>\n",
       "      <td>0.877800</td>\n",
       "      <td>0.243132</td>\n",
       "      <td>0.9322</td>\n",
       "    </tr>\n",
       "    <tr>\n",
       "      <th>1</th>\n",
       "      <td>0.221036</td>\n",
       "      <td>0.936291</td>\n",
       "      <td>0.183054</td>\n",
       "      <td>0.9496</td>\n",
       "    </tr>\n",
       "    <tr>\n",
       "      <th>2</th>\n",
       "      <td>0.167844</td>\n",
       "      <td>0.951436</td>\n",
       "      <td>0.143682</td>\n",
       "      <td>0.9616</td>\n",
       "    </tr>\n",
       "    <tr>\n",
       "      <th>3</th>\n",
       "      <td>0.134777</td>\n",
       "      <td>0.960818</td>\n",
       "      <td>0.123996</td>\n",
       "      <td>0.9666</td>\n",
       "    </tr>\n",
       "    <tr>\n",
       "      <th>4</th>\n",
       "      <td>0.111875</td>\n",
       "      <td>0.967564</td>\n",
       "      <td>0.109864</td>\n",
       "      <td>0.9704</td>\n",
       "    </tr>\n",
       "    <tr>\n",
       "      <th>5</th>\n",
       "      <td>0.095407</td>\n",
       "      <td>0.972964</td>\n",
       "      <td>0.099157</td>\n",
       "      <td>0.9730</td>\n",
       "    </tr>\n",
       "    <tr>\n",
       "      <th>6</th>\n",
       "      <td>0.083160</td>\n",
       "      <td>0.976073</td>\n",
       "      <td>0.089801</td>\n",
       "      <td>0.9736</td>\n",
       "    </tr>\n",
       "    <tr>\n",
       "      <th>7</th>\n",
       "      <td>0.072585</td>\n",
       "      <td>0.979455</td>\n",
       "      <td>0.086206</td>\n",
       "      <td>0.9746</td>\n",
       "    </tr>\n",
       "    <tr>\n",
       "      <th>8</th>\n",
       "      <td>0.063943</td>\n",
       "      <td>0.981764</td>\n",
       "      <td>0.080884</td>\n",
       "      <td>0.9772</td>\n",
       "    </tr>\n",
       "    <tr>\n",
       "      <th>9</th>\n",
       "      <td>0.056811</td>\n",
       "      <td>0.984436</td>\n",
       "      <td>0.079603</td>\n",
       "      <td>0.9782</td>\n",
       "    </tr>\n",
       "    <tr>\n",
       "      <th>10</th>\n",
       "      <td>0.050507</td>\n",
       "      <td>0.986055</td>\n",
       "      <td>0.077147</td>\n",
       "      <td>0.9778</td>\n",
       "    </tr>\n",
       "    <tr>\n",
       "      <th>11</th>\n",
       "      <td>0.045218</td>\n",
       "      <td>0.987873</td>\n",
       "      <td>0.074405</td>\n",
       "      <td>0.9786</td>\n",
       "    </tr>\n",
       "    <tr>\n",
       "      <th>12</th>\n",
       "      <td>0.040634</td>\n",
       "      <td>0.989364</td>\n",
       "      <td>0.072305</td>\n",
       "      <td>0.9796</td>\n",
       "    </tr>\n",
       "    <tr>\n",
       "      <th>13</th>\n",
       "      <td>0.036573</td>\n",
       "      <td>0.990527</td>\n",
       "      <td>0.070973</td>\n",
       "      <td>0.9798</td>\n",
       "    </tr>\n",
       "    <tr>\n",
       "      <th>14</th>\n",
       "      <td>0.032349</td>\n",
       "      <td>0.991509</td>\n",
       "      <td>0.066976</td>\n",
       "      <td>0.9808</td>\n",
       "    </tr>\n",
       "    <tr>\n",
       "      <th>15</th>\n",
       "      <td>0.029358</td>\n",
       "      <td>0.992927</td>\n",
       "      <td>0.071046</td>\n",
       "      <td>0.9800</td>\n",
       "    </tr>\n",
       "    <tr>\n",
       "      <th>16</th>\n",
       "      <td>0.026234</td>\n",
       "      <td>0.993873</td>\n",
       "      <td>0.070130</td>\n",
       "      <td>0.9804</td>\n",
       "    </tr>\n",
       "    <tr>\n",
       "      <th>17</th>\n",
       "      <td>0.023914</td>\n",
       "      <td>0.994418</td>\n",
       "      <td>0.068792</td>\n",
       "      <td>0.9816</td>\n",
       "    </tr>\n",
       "    <tr>\n",
       "      <th>18</th>\n",
       "      <td>0.021445</td>\n",
       "      <td>0.995345</td>\n",
       "      <td>0.068023</td>\n",
       "      <td>0.9798</td>\n",
       "    </tr>\n",
       "    <tr>\n",
       "      <th>19</th>\n",
       "      <td>0.019203</td>\n",
       "      <td>0.996127</td>\n",
       "      <td>0.066170</td>\n",
       "      <td>0.9808</td>\n",
       "    </tr>\n",
       "    <tr>\n",
       "      <th>20</th>\n",
       "      <td>0.017279</td>\n",
       "      <td>0.996818</td>\n",
       "      <td>0.065950</td>\n",
       "      <td>0.9816</td>\n",
       "    </tr>\n",
       "    <tr>\n",
       "      <th>21</th>\n",
       "      <td>0.015510</td>\n",
       "      <td>0.997418</td>\n",
       "      <td>0.067677</td>\n",
       "      <td>0.9806</td>\n",
       "    </tr>\n",
       "    <tr>\n",
       "      <th>22</th>\n",
       "      <td>0.014424</td>\n",
       "      <td>0.997655</td>\n",
       "      <td>0.064063</td>\n",
       "      <td>0.9822</td>\n",
       "    </tr>\n",
       "    <tr>\n",
       "      <th>23</th>\n",
       "      <td>0.013014</td>\n",
       "      <td>0.998091</td>\n",
       "      <td>0.067923</td>\n",
       "      <td>0.9816</td>\n",
       "    </tr>\n",
       "    <tr>\n",
       "      <th>24</th>\n",
       "      <td>0.011737</td>\n",
       "      <td>0.998436</td>\n",
       "      <td>0.064841</td>\n",
       "      <td>0.9836</td>\n",
       "    </tr>\n",
       "    <tr>\n",
       "      <th>25</th>\n",
       "      <td>0.010759</td>\n",
       "      <td>0.998545</td>\n",
       "      <td>0.064615</td>\n",
       "      <td>0.9820</td>\n",
       "    </tr>\n",
       "    <tr>\n",
       "      <th>26</th>\n",
       "      <td>0.009869</td>\n",
       "      <td>0.998855</td>\n",
       "      <td>0.066861</td>\n",
       "      <td>0.9822</td>\n",
       "    </tr>\n",
       "    <tr>\n",
       "      <th>27</th>\n",
       "      <td>0.008891</td>\n",
       "      <td>0.999127</td>\n",
       "      <td>0.069699</td>\n",
       "      <td>0.9818</td>\n",
       "    </tr>\n",
       "    <tr>\n",
       "      <th>28</th>\n",
       "      <td>0.008132</td>\n",
       "      <td>0.999273</td>\n",
       "      <td>0.067866</td>\n",
       "      <td>0.9816</td>\n",
       "    </tr>\n",
       "    <tr>\n",
       "      <th>29</th>\n",
       "      <td>0.007675</td>\n",
       "      <td>0.999218</td>\n",
       "      <td>0.066997</td>\n",
       "      <td>0.9834</td>\n",
       "    </tr>\n",
       "  </tbody>\n",
       "</table>\n",
       "</div>"
      ],
      "text/plain": [
       "        loss  accuracy  val_loss  val_accuracy\n",
       "0   0.457479  0.877800  0.243132        0.9322\n",
       "1   0.221036  0.936291  0.183054        0.9496\n",
       "2   0.167844  0.951436  0.143682        0.9616\n",
       "3   0.134777  0.960818  0.123996        0.9666\n",
       "4   0.111875  0.967564  0.109864        0.9704\n",
       "5   0.095407  0.972964  0.099157        0.9730\n",
       "6   0.083160  0.976073  0.089801        0.9736\n",
       "7   0.072585  0.979455  0.086206        0.9746\n",
       "8   0.063943  0.981764  0.080884        0.9772\n",
       "9   0.056811  0.984436  0.079603        0.9782\n",
       "10  0.050507  0.986055  0.077147        0.9778\n",
       "11  0.045218  0.987873  0.074405        0.9786\n",
       "12  0.040634  0.989364  0.072305        0.9796\n",
       "13  0.036573  0.990527  0.070973        0.9798\n",
       "14  0.032349  0.991509  0.066976        0.9808\n",
       "15  0.029358  0.992927  0.071046        0.9800\n",
       "16  0.026234  0.993873  0.070130        0.9804\n",
       "17  0.023914  0.994418  0.068792        0.9816\n",
       "18  0.021445  0.995345  0.068023        0.9798\n",
       "19  0.019203  0.996127  0.066170        0.9808\n",
       "20  0.017279  0.996818  0.065950        0.9816\n",
       "21  0.015510  0.997418  0.067677        0.9806\n",
       "22  0.014424  0.997655  0.064063        0.9822\n",
       "23  0.013014  0.998091  0.067923        0.9816\n",
       "24  0.011737  0.998436  0.064841        0.9836\n",
       "25  0.010759  0.998545  0.064615        0.9820\n",
       "26  0.009869  0.998855  0.066861        0.9822\n",
       "27  0.008891  0.999127  0.069699        0.9818\n",
       "28  0.008132  0.999273  0.067866        0.9816\n",
       "29  0.007675  0.999218  0.066997        0.9834"
      ]
     },
     "execution_count": 37,
     "metadata": {},
     "output_type": "execute_result"
    }
   ],
   "source": [
    "pd.DataFrame(history.history)"
   ]
  },
  {
   "cell_type": "code",
   "execution_count": 38,
   "metadata": {
    "ExecuteTime": {
     "end_time": "2022-06-08T03:37:59.312486Z",
     "start_time": "2022-06-08T03:37:58.779998Z"
    },
    "colab": {
     "base_uri": "https://localhost:8080/",
     "height": 428
    },
    "executionInfo": {
     "elapsed": 521,
     "status": "ok",
     "timestamp": 1642246779347,
     "user": {
      "displayName": "colab0 ineuron",
      "photoUrl": "https://lh3.googleusercontent.com/a/default-user=s64",
      "userId": "16851312232179065356"
     },
     "user_tz": -330
    },
    "id": "5ssRG_oHiAc8",
    "outputId": "374d194c-e220-4851-ddb9-f1e9ef26db88"
   },
   "outputs": [
    {
     "data": {
      "image/png": "[encoded data removed]",
      "text/plain": [
       "<Figure size 720x504 with 1 Axes>"
      ]
     },
     "metadata": {
      "needs_background": "light"
     },
     "output_type": "display_data"
    }
   ],
   "source": [
    "pd.DataFrame(history.history).plot(figsize=(10, 7))\n",
    "plt.grid(True)\n",
    "plt.show()"
   ]
  },
  {
   "cell_type": "code",
   "execution_count": 39,
   "metadata": {
    "ExecuteTime": {
     "end_time": "2022-06-08T03:42:01.304037Z",
     "start_time": "2022-06-08T03:41:46.473561Z"
    },
    "colab": {
     "base_uri": "https://localhost:8080/"
    },
    "executionInfo": {
     "elapsed": 1393,
     "status": "ok",
     "timestamp": 1642250818149,
     "user": {
      "displayName": "colab0 ineuron",
      "photoUrl": "https://lh3.googleusercontent.com/a/default-user=s64",
      "userId": "16851312232179065356"
     },
     "user_tz": -330
    },
    "id": "Y0ghCRsyiS2W",
    "outputId": "73a8c57e-0c67-4902-c69f-f9227afd25d1"
   },
   "outputs": [
    {
     "name": "stdout",
     "output_type": "stream",
     "text": [
      "313/313 [==============================] - 2s 5ms/step - loss: 0.0645 - accuracy: 0.9808\n"
     ]
    },
    {
     "data": {
      "text/plain": [
       "[0.06447254866361618, 0.9807999730110168]"
      ]
     },
     "execution_count": 39,
     "metadata": {},
     "output_type": "execute_result"
    }
   ],
   "source": [
    "model_clf.evaluate(X_test, y_test)"
   ]
  },
  {
   "cell_type": "code",
   "execution_count": 41,
   "metadata": {
    "ExecuteTime": {
     "end_time": "2022-06-08T03:42:28.676620Z",
     "start_time": "2022-06-08T03:42:28.661626Z"
    }
   },
   "outputs": [
    {
     "data": {
      "text/plain": [
       "(10000, 28, 28)"
      ]
     },
     "execution_count": 41,
     "metadata": {},
     "output_type": "execute_result"
    }
   ],
   "source": [
    "X_test.shape"
   ]
  },
  {
   "cell_type": "code",
   "execution_count": 40,
   "metadata": {
    "ExecuteTime": {
     "end_time": "2022-06-08T03:42:01.599257Z",
     "start_time": "2022-06-08T03:42:01.589285Z"
    },
    "colab": {
     "base_uri": "https://localhost:8080/"
    },
    "executionInfo": {
     "elapsed": 354,
     "status": "ok",
     "timestamp": 1642246990601,
     "user": {
      "displayName": "colab0 ineuron",
      "photoUrl": "https://lh3.googleusercontent.com/a/default-user=s64",
      "userId": "16851312232179065356"
     },
     "user_tz": -330
    },
    "id": "dIIkM20ji3zL",
    "outputId": "0fba75a9-e36d-4733-8c93-83ad4589acbf"
   },
   "outputs": [
    {
     "data": {
      "text/plain": [
       "312.5"
      ]
     },
     "execution_count": 40,
     "metadata": {},
     "output_type": "execute_result"
    }
   ],
   "source": [
    "# batch size = 32\n",
    "# hence iterations per epoch = 10000 / 32 = 312.5\n",
    "X_test.shape[0] / 32"
   ]
  },
  {
   "cell_type": "code",
   "execution_count": 45,
   "metadata": {
    "ExecuteTime": {
     "end_time": "2022-06-08T04:10:51.267930Z",
     "start_time": "2022-06-08T04:10:50.664820Z"
    },
    "executionInfo": {
     "elapsed": 3,
     "status": "ok",
     "timestamp": 1642247283807,
     "user": {
      "displayName": "colab0 ineuron",
      "photoUrl": "https://lh3.googleusercontent.com/a/default-user=s64",
      "userId": "16851312232179065356"
     },
     "user_tz": -330
    },
    "id": "Vd2qSxU8i65D"
   },
   "outputs": [],
   "source": [
    "model_clf.save(\"test.h5\")"
   ]
  },
  {
   "cell_type": "code",
   "execution_count": 46,
   "metadata": {
    "ExecuteTime": {
     "end_time": "2022-06-08T04:10:52.248591Z",
     "start_time": "2022-06-08T04:10:51.612450Z"
    },
    "colab": {
     "base_uri": "https://localhost:8080/"
    },
    "executionInfo": {
     "elapsed": 393,
     "status": "ok",
     "timestamp": 1642251035644,
     "user": {
      "displayName": "colab0 ineuron",
      "photoUrl": "https://lh3.googleusercontent.com/a/default-user=s64",
      "userId": "16851312232179065356"
     },
     "user_tz": -330
    },
    "id": "MI7tjNe7kOFu",
    "outputId": "a2ed6930-3a6c-481f-9996-3111b3f26047"
   },
   "outputs": [
    {
     "data": {
      "text/plain": [
       "array([[0., 0., 0., 0., 0., 0., 0., 1., 0., 0.],\n",
       "       [0., 0., 1., 0., 0., 0., 0., 0., 0., 0.],\n",
       "       [0., 1., 0., 0., 0., 0., 0., 0., 0., 0.]], dtype=float32)"
      ]
     },
     "execution_count": 46,
     "metadata": {},
     "output_type": "execute_result"
    }
   ],
   "source": [
    "X_new = X_test[:3]\n",
    "\n",
    "\n",
    "y_prob = model_clf.predict(X_new)\n",
    "\n",
    "y_prob.round(3)"
   ]
  },
  {
   "cell_type": "code",
   "execution_count": 47,
   "metadata": {
    "ExecuteTime": {
     "end_time": "2022-06-08T04:10:52.827270Z",
     "start_time": "2022-06-08T04:10:52.577832Z"
    },
    "colab": {
     "base_uri": "https://localhost:8080/",
     "height": 282
    },
    "executionInfo": {
     "elapsed": 382,
     "status": "ok",
     "timestamp": 1642251090946,
     "user": {
      "displayName": "colab0 ineuron",
      "photoUrl": "https://lh3.googleusercontent.com/a/default-user=s64",
      "userId": "16851312232179065356"
     },
     "user_tz": -330
    },
    "id": "YE1IRoc5yd0P",
    "outputId": "ae8c3cd5-dcd3-4865-8f20-bf15b4071355"
   },
   "outputs": [
    {
     "data": {
      "text/plain": [
       "<matplotlib.image.AxesImage at 0x21b3a9fca08>"
      ]
     },
     "execution_count": 47,
     "metadata": {},
     "output_type": "execute_result"
    },
    {
     "data": {
      "image/png": "[encoded data removed]",
      "text/plain": [
       "<Figure size 432x288 with 1 Axes>"
      ]
     },
     "metadata": {
      "needs_background": "light"
     },
     "output_type": "display_data"
    }
   ],
   "source": [
    "plt.imshow(X_new[0], cmap=\"binary\")"
   ]
  },
  {
   "cell_type": "code",
   "execution_count": 50,
   "metadata": {
    "ExecuteTime": {
     "end_time": "2022-06-08T04:22:17.557803Z",
     "start_time": "2022-06-08T04:22:17.545867Z"
    }
   },
   "outputs": [
    {
     "data": {
      "text/plain": [
       "(3, 10)"
      ]
     },
     "execution_count": 50,
     "metadata": {},
     "output_type": "execute_result"
    }
   ],
   "source": [
    "y_prob.shape"
   ]
  },
  {
   "cell_type": "code",
   "execution_count": 48,
   "metadata": {
    "ExecuteTime": {
     "end_time": "2022-06-08T04:10:53.234262Z",
     "start_time": "2022-06-08T04:10:53.163130Z"
    },
    "colab": {
     "base_uri": "https://localhost:8080/"
    },
    "executionInfo": {
     "elapsed": 364,
     "status": "ok",
     "timestamp": 1642251231508,
     "user": {
      "displayName": "colab0 ineuron",
      "photoUrl": "https://lh3.googleusercontent.com/a/default-user=s64",
      "userId": "16851312232179065356"
     },
     "user_tz": -330
    },
    "id": "PzKTbP3GyvhH",
    "outputId": "cb213a7b-2c63-493a-a460-3321e4a9bd4f"
   },
   "outputs": [
    {
     "data": {
      "text/plain": [
       "array([7, 2, 1], dtype=int64)"
      ]
     },
     "execution_count": 48,
     "metadata": {},
     "output_type": "execute_result"
    }
   ],
   "source": [
    "# argmax gives index of max value in array\n",
    "Y_pred = np.argmax(y_prob, axis=-1)\n",
    "Y_pred"
   ]
  },
  {
   "cell_type": "code",
   "execution_count": 49,
   "metadata": {
    "ExecuteTime": {
     "end_time": "2022-06-08T04:10:53.842826Z",
     "start_time": "2022-06-08T04:10:53.554392Z"
    },
    "colab": {
     "base_uri": "https://localhost:8080/",
     "height": 810
    },
    "executionInfo": {
     "elapsed": 403,
     "status": "ok",
     "timestamp": 1642251324828,
     "user": {
      "displayName": "colab0 ineuron",
      "photoUrl": "https://lh3.googleusercontent.com/a/default-user=s64",
      "userId": "16851312232179065356"
     },
     "user_tz": -330
    },
    "id": "jFW6fA1Py39N",
    "outputId": "5ea8a36b-a8c1-4f3f-8aef-e874b7a78caf"
   },
   "outputs": [
    {
     "data": {
      "image/png": "[encoded data removed]",
      "text/plain": [
       "<Figure size 432x288 with 1 Axes>"
      ]
     },
     "metadata": {
      "needs_background": "light"
     },
     "output_type": "display_data"
    },
    {
     "name": "stdout",
     "output_type": "stream",
     "text": [
      "------------------------------------------------------------\n"
     ]
    },
    {
     "data": {
      "image/png": "[encoded data removed]",
      "text/plain": [
       "<Figure size 432x288 with 1 Axes>"
      ]
     },
     "metadata": {
      "needs_background": "light"
     },
     "output_type": "display_data"
    },
    {
     "name": "stdout",
     "output_type": "stream",
     "text": [
      "------------------------------------------------------------\n"
     ]
    },
    {
     "data": {
      "image/png": "[encoded data removed]",
      "text/plain": [
       "<Figure size 432x288 with 1 Axes>"
      ]
     },
     "metadata": {
      "needs_background": "light"
     },
     "output_type": "display_data"
    },
    {
     "name": "stdout",
     "output_type": "stream",
     "text": [
      "------------------------------------------------------------\n"
     ]
    }
   ],
   "source": [
    "for img_array, pred, actual in zip(X_new, Y_pred, y_test[:3]):\n",
    "    \n",
    "    plt.imshow(img_array, cmap=\"binary\")\n",
    "    plt.title(f\"predicted: {pred}, Actual: {actual}\")\n",
    "    plt.axis(\"off\")\n",
    "    plt.show()\n",
    "    print(\"--\"*30)"
   ]
  },
  {
   "cell_type": "code",
   "execution_count": null,
   "metadata": {
    "id": "ebRZ3C9ozmaI"
   },
   "outputs": [],
   "source": []
  }
 ],
 "metadata": {
  "accelerator": "GPU",
  "colab": {
   "authorship_tag": "ABX9TyNDV34kItYVDpWosOPK3KQb",
   "collapsed_sections": [],
   "name": "demo_tf_keras.ipynb",
   "provenance": []
  },
  "kernelspec": {
   "display_name": "Python 3 (ipykernel)",
   "language": "python",
   "name": "python3"
  },
  "language_info": {
   "codemirror_mode": {
    "name": "ipython",
    "version": 3
   },
   "file_extension": ".py",
   "mimetype": "text/x-python",
   "name": "python",
   "nbconvert_exporter": "python",
   "pygments_lexer": "ipython3",
   "version": "3.7.11"
  },
  "latex_envs": {
   "LaTeX_envs_menu_present": true,
   "autoclose": false,
   "autocomplete": true,
   "bibliofile": "biblio.bib",
   "cite_by": "apalike",
   "current_citInitial": 1,
   "eqLabelWithNumbers": true,
   "eqNumInitial": 1,
   "hotkeys": {
    "equation": "Ctrl-E",
    "itemize": "Ctrl-I"
   },
   "labels_anchors": false,
   "latex_user_defs": false,
   "report_style_numbering": false,
   "user_envs_cfg": false
  },
  "toc": {
   "base_numbering": 1,
   "nav_menu": {},
   "number_sections": true,
   "sideBar": true,
   "skip_h1_title": false,
   "title_cell": "Table of Contents",
   "title_sidebar": "Contents",
   "toc_cell": false,
   "toc_position": {},
   "toc_section_display": true,
   "toc_window_display": false
  },
  "varInspector": {
   "cols": {
    "lenName": 16,
    "lenType": 16,
    "lenVar": 40
   },
   "kernels_config": {
    "python": {
     "delete_cmd_postfix": "",
     "delete_cmd_prefix": "del ",
     "library": "var_list.py",
     "varRefreshCmd": "print(var_dic_list())"
    },
    "r": {
     "delete_cmd_postfix": ") ",
     "delete_cmd_prefix": "rm(",
     "library": "var_list.r",
     "varRefreshCmd": "cat(var_dic_list()) "
    }
   },
   "types_to_exclude": [
    "module",
    "function",
    "builtin_function_or_method",
    "instance",
    "_Feature"
   ],
   "window_display": false
  }
 },
 "nbformat": 4,
 "nbformat_minor": 1
}
