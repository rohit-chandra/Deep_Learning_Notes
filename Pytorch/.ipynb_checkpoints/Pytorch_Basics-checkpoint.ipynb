{
 "cells": [
  {
   "cell_type": "code",
   "execution_count": 32,
   "id": "5a2379e6",
   "metadata": {
    "ExecuteTime": {
     "end_time": "2022-07-25T16:49:27.970309Z",
     "start_time": "2022-07-25T16:49:27.963384Z"
    }
   },
   "outputs": [],
   "source": [
    "import torch\n",
    "import numpy as np"
   ]
  },
  {
   "cell_type": "code",
   "execution_count": 14,
   "id": "4e5f546e",
   "metadata": {
    "ExecuteTime": {
     "end_time": "2022-07-25T16:19:35.173440Z",
     "start_time": "2022-07-25T16:19:35.153493Z"
    }
   },
   "outputs": [],
   "source": [
    "device = \"cuda\" if torch.cuda.is_available() else \"cpu\""
   ]
  },
  {
   "cell_type": "markdown",
   "id": "f7052899",
   "metadata": {},
   "source": [
    "## Create tensor"
   ]
  },
  {
   "cell_type": "code",
   "execution_count": 16,
   "id": "b26ffca9",
   "metadata": {
    "ExecuteTime": {
     "end_time": "2022-07-25T16:20:16.560037Z",
     "start_time": "2022-07-25T16:20:16.543082Z"
    }
   },
   "outputs": [
    {
     "name": "stdout",
     "output_type": "stream",
     "text": [
      "tensor([[1., 2., 3.],\n",
      "        [4., 5., 6.]])\n"
     ]
    }
   ],
   "source": [
    "my_tensor = torch.tensor([[1, 2, 3], [4, 5, 6]], dtype = torch.float32,\n",
    "                        device=device)\n",
    "\n",
    "print(my_tensor)"
   ]
  },
  {
   "cell_type": "code",
   "execution_count": 17,
   "id": "79fd22bd",
   "metadata": {
    "ExecuteTime": {
     "end_time": "2022-07-25T16:20:20.248380Z",
     "start_time": "2022-07-25T16:20:20.239404Z"
    }
   },
   "outputs": [
    {
     "name": "stdout",
     "output_type": "stream",
     "text": [
      "torch.Size([2, 3])\n"
     ]
    }
   ],
   "source": [
    "print(my_tensor.shape)"
   ]
  },
  {
   "cell_type": "markdown",
   "id": "680a0cfe",
   "metadata": {},
   "source": [
    "## Other common initialization methods"
   ]
  },
  {
   "cell_type": "code",
   "execution_count": 7,
   "id": "574e7d0f",
   "metadata": {
    "ExecuteTime": {
     "end_time": "2022-07-25T16:12:03.262756Z",
     "start_time": "2022-07-25T16:12:03.241787Z"
    }
   },
   "outputs": [
    {
     "name": "stdout",
     "output_type": "stream",
     "text": [
      "tensor([[0., 0., 0.],\n",
      "        [0., 0., 0.],\n",
      "        [0., 0., 0.]])\n"
     ]
    }
   ],
   "source": [
    "# creates a 3*3 tensor. It's empty or unitialize. Values can be random\n",
    "x = torch.empty(size = (3, 3))\n",
    "print(x)"
   ]
  },
  {
   "cell_type": "code",
   "execution_count": 8,
   "id": "f2627260",
   "metadata": {
    "ExecuteTime": {
     "end_time": "2022-07-25T16:15:00.689700Z",
     "start_time": "2022-07-25T16:15:00.251097Z"
    }
   },
   "outputs": [
    {
     "name": "stdout",
     "output_type": "stream",
     "text": [
      "tensor([[0.4870, 0.9756, 0.3624],\n",
      "        [0.3807, 0.5629, 0.0426],\n",
      "        [0.6654, 0.8029, 0.9734]])\n"
     ]
    }
   ],
   "source": [
    "# random values in uniform distribution\n",
    "x = torch.rand([3, 3])\n",
    "print(x)"
   ]
  },
  {
   "cell_type": "code",
   "execution_count": 9,
   "id": "60f8d2b4",
   "metadata": {
    "ExecuteTime": {
     "end_time": "2022-07-25T16:15:21.205762Z",
     "start_time": "2022-07-25T16:15:21.137916Z"
    }
   },
   "outputs": [
    {
     "name": "stdout",
     "output_type": "stream",
     "text": [
      "tensor([[1., 1., 1.],\n",
      "        [1., 1., 1.],\n",
      "        [1., 1., 1.]])\n"
     ]
    }
   ],
   "source": [
    "x = torch.ones([3, 3])\n",
    "print(x)"
   ]
  },
  {
   "cell_type": "code",
   "execution_count": 10,
   "id": "1e560a14",
   "metadata": {
    "ExecuteTime": {
     "end_time": "2022-07-25T16:16:02.140543Z",
     "start_time": "2022-07-25T16:16:01.737330Z"
    }
   },
   "outputs": [
    {
     "name": "stdout",
     "output_type": "stream",
     "text": [
      "tensor([[1., 0., 0., 0., 0.],\n",
      "        [0., 1., 0., 0., 0.],\n",
      "        [0., 0., 1., 0., 0.],\n",
      "        [0., 0., 0., 1., 0.],\n",
      "        [0., 0., 0., 0., 1.]])\n"
     ]
    }
   ],
   "source": [
    "# identity matrix\n",
    "x = torch.eye(5, 5)\n",
    "print(x)"
   ]
  },
  {
   "cell_type": "code",
   "execution_count": 11,
   "id": "1fc1c2c1",
   "metadata": {
    "ExecuteTime": {
     "end_time": "2022-07-25T16:17:00.231185Z",
     "start_time": "2022-07-25T16:16:59.828878Z"
    }
   },
   "outputs": [
    {
     "name": "stdout",
     "output_type": "stream",
     "text": [
      "tensor([0, 1, 2, 3, 4])\n"
     ]
    }
   ],
   "source": [
    "x = torch.arange(start = 0, end = 5, step = 1)\n",
    "print(x)"
   ]
  },
  {
   "cell_type": "code",
   "execution_count": 13,
   "id": "be0e73ef",
   "metadata": {
    "ExecuteTime": {
     "end_time": "2022-07-25T16:17:55.590204Z",
     "start_time": "2022-07-25T16:17:55.206405Z"
    }
   },
   "outputs": [
    {
     "name": "stdout",
     "output_type": "stream",
     "text": [
      "tensor([0.1000, 0.2000, 0.3000, 0.4000, 0.5000, 0.6000, 0.7000, 0.8000, 0.9000,\n",
      "        1.0000])\n"
     ]
    }
   ],
   "source": [
    "x = torch.linspace(start = 0.1, end = 1, steps = 10)\n",
    "print(x)"
   ]
  },
  {
   "cell_type": "code",
   "execution_count": 18,
   "id": "493d34bf",
   "metadata": {
    "ExecuteTime": {
     "end_time": "2022-07-25T16:20:54.832888Z",
     "start_time": "2022-07-25T16:20:54.415800Z"
    }
   },
   "outputs": [
    {
     "name": "stdout",
     "output_type": "stream",
     "text": [
      "tensor([[ 0.5244,  0.7119,  0.3115,  2.1574, -1.7818]])\n"
     ]
    }
   ],
   "source": [
    "x = torch.empty(size = (1, 5)).normal_(mean = 0, std = 1)\n",
    "print(x)"
   ]
  },
  {
   "cell_type": "code",
   "execution_count": 20,
   "id": "6a279783",
   "metadata": {
    "ExecuteTime": {
     "end_time": "2022-07-25T16:21:35.710287Z",
     "start_time": "2022-07-25T16:21:35.703270Z"
    }
   },
   "outputs": [
    {
     "name": "stdout",
     "output_type": "stream",
     "text": [
      "tensor([[0.7387, 0.9702, 0.8233, 0.7107, 0.6529]])\n"
     ]
    }
   ],
   "source": [
    "x = torch.empty(size = (1, 5)).uniform_( 0, 1)\n",
    "print(x)"
   ]
  },
  {
   "cell_type": "code",
   "execution_count": 22,
   "id": "0c990e13",
   "metadata": {
    "ExecuteTime": {
     "end_time": "2022-07-25T16:22:20.060738Z",
     "start_time": "2022-07-25T16:22:19.959862Z"
    }
   },
   "outputs": [
    {
     "name": "stdout",
     "output_type": "stream",
     "text": [
      "tensor([[1., 0., 0.],\n",
      "        [0., 1., 0.],\n",
      "        [0., 0., 1.]])\n"
     ]
    }
   ],
   "source": [
    "x = torch.diag(torch.ones(3))\n",
    "print(x)"
   ]
  },
  {
   "cell_type": "markdown",
   "id": "7b783707",
   "metadata": {},
   "source": [
    "## How to initialize and convert tensors to other types(int, float, double)"
   ]
  },
  {
   "cell_type": "code",
   "execution_count": 23,
   "id": "8894930d",
   "metadata": {
    "ExecuteTime": {
     "end_time": "2022-07-25T16:45:53.829280Z",
     "start_time": "2022-07-25T16:45:53.451661Z"
    }
   },
   "outputs": [
    {
     "name": "stdout",
     "output_type": "stream",
     "text": [
      "tensor([0, 1, 2, 3])\n"
     ]
    }
   ],
   "source": [
    "tensor = torch.arange(4) #int64 by default\n",
    "print(tensor)"
   ]
  },
  {
   "cell_type": "code",
   "execution_count": 25,
   "id": "ba041e45",
   "metadata": {
    "ExecuteTime": {
     "end_time": "2022-07-25T16:46:21.152187Z",
     "start_time": "2022-07-25T16:46:21.059957Z"
    }
   },
   "outputs": [
    {
     "name": "stdout",
     "output_type": "stream",
     "text": [
      "tensor([False,  True,  True,  True])\n"
     ]
    }
   ],
   "source": [
    "# convert to bool\n",
    "print(tensor.bool())"
   ]
  },
  {
   "cell_type": "code",
   "execution_count": 26,
   "id": "3d7e467c",
   "metadata": {
    "ExecuteTime": {
     "end_time": "2022-07-25T16:46:49.672681Z",
     "start_time": "2022-07-25T16:46:49.587891Z"
    }
   },
   "outputs": [
    {
     "name": "stdout",
     "output_type": "stream",
     "text": [
      "tensor([0, 1, 2, 3], dtype=torch.int16)\n"
     ]
    }
   ],
   "source": [
    "# create int 16\n",
    "print(tensor.short())"
   ]
  },
  {
   "cell_type": "code",
   "execution_count": 27,
   "id": "3c7021c3",
   "metadata": {
    "ExecuteTime": {
     "end_time": "2022-07-25T16:47:12.911505Z",
     "start_time": "2022-07-25T16:47:12.898495Z"
    }
   },
   "outputs": [
    {
     "name": "stdout",
     "output_type": "stream",
     "text": [
      "tensor([0, 1, 2, 3])\n"
     ]
    }
   ],
   "source": [
    "# create int 64\n",
    "print(tensor.long())"
   ]
  },
  {
   "cell_type": "code",
   "execution_count": 28,
   "id": "9cc87480",
   "metadata": {
    "ExecuteTime": {
     "end_time": "2022-07-25T16:47:31.402159Z",
     "start_time": "2022-07-25T16:47:31.314427Z"
    }
   },
   "outputs": [
    {
     "name": "stdout",
     "output_type": "stream",
     "text": [
      "tensor([0., 1., 2., 3.], dtype=torch.float16)\n"
     ]
    }
   ],
   "source": [
    "# float 16\n",
    "print(tensor.half())"
   ]
  },
  {
   "cell_type": "code",
   "execution_count": 29,
   "id": "e094f88f",
   "metadata": {
    "ExecuteTime": {
     "end_time": "2022-07-25T16:47:51.939217Z",
     "start_time": "2022-07-25T16:47:51.924257Z"
    }
   },
   "outputs": [
    {
     "name": "stdout",
     "output_type": "stream",
     "text": [
      "tensor([0., 1., 2., 3.])\n"
     ]
    }
   ],
   "source": [
    "# float 32 - most useful\n",
    "print(tensor.float())"
   ]
  },
  {
   "cell_type": "code",
   "execution_count": 30,
   "id": "f1b44eab",
   "metadata": {
    "ExecuteTime": {
     "end_time": "2022-07-25T16:48:22.185426Z",
     "start_time": "2022-07-25T16:48:22.066067Z"
    }
   },
   "outputs": [
    {
     "name": "stdout",
     "output_type": "stream",
     "text": [
      "tensor([0., 1., 2., 3.], dtype=torch.float64)\n"
     ]
    }
   ],
   "source": [
    "# float 64\n",
    "print(tensor.double())"
   ]
  },
  {
   "cell_type": "markdown",
   "id": "57210d2f",
   "metadata": {},
   "source": [
    "### Array to tensor conversion and vice versa\n",
    "\n"
   ]
  },
  {
   "cell_type": "code",
   "execution_count": 38,
   "id": "b931a886",
   "metadata": {
    "ExecuteTime": {
     "end_time": "2022-07-25T16:51:35.023727Z",
     "start_time": "2022-07-25T16:51:35.002742Z"
    }
   },
   "outputs": [
    {
     "name": "stdout",
     "output_type": "stream",
     "text": [
      "[[0. 0. 0. 0. 0.]\n",
      " [0. 0. 0. 0. 0.]\n",
      " [0. 0. 0. 0. 0.]\n",
      " [0. 0. 0. 0. 0.]\n",
      " [0. 0. 0. 0. 0.]]\n"
     ]
    }
   ],
   "source": [
    "np_array = np.zeros((5, 5))\n",
    "print(np_array)"
   ]
  },
  {
   "cell_type": "code",
   "execution_count": 37,
   "id": "a56e5852",
   "metadata": {
    "ExecuteTime": {
     "end_time": "2022-07-25T16:51:28.605831Z",
     "start_time": "2022-07-25T16:51:28.595860Z"
    }
   },
   "outputs": [
    {
     "name": "stdout",
     "output_type": "stream",
     "text": [
      "tensor([[0., 0., 0., 0., 0.],\n",
      "        [0., 0., 0., 0., 0.],\n",
      "        [0., 0., 0., 0., 0.],\n",
      "        [0., 0., 0., 0., 0.],\n",
      "        [0., 0., 0., 0., 0.]], dtype=torch.float64)\n"
     ]
    }
   ],
   "source": [
    "# numpy to tensor\n",
    "tensor = torch.from_numpy(np_array)\n",
    "print(tensor)"
   ]
  },
  {
   "cell_type": "code",
   "execution_count": 39,
   "id": "77436d51",
   "metadata": {
    "ExecuteTime": {
     "end_time": "2022-07-25T16:51:42.561400Z",
     "start_time": "2022-07-25T16:51:42.546429Z"
    }
   },
   "outputs": [
    {
     "name": "stdout",
     "output_type": "stream",
     "text": [
      "[[0. 0. 0. 0. 0.]\n",
      " [0. 0. 0. 0. 0.]\n",
      " [0. 0. 0. 0. 0.]\n",
      " [0. 0. 0. 0. 0.]\n",
      " [0. 0. 0. 0. 0.]]\n"
     ]
    }
   ],
   "source": [
    "# tensor to numpy\n",
    "np_array_back = tensor.numpy()\n",
    "print(np_array_back)"
   ]
  },
  {
   "cell_type": "markdown",
   "id": "1ad8858c",
   "metadata": {},
   "source": [
    "## Tensor Math and comparison operations"
   ]
  },
  {
   "cell_type": "code",
   "execution_count": 40,
   "id": "f3d3fdad",
   "metadata": {
    "ExecuteTime": {
     "end_time": "2022-07-25T16:53:12.671243Z",
     "start_time": "2022-07-25T16:53:12.662267Z"
    }
   },
   "outputs": [],
   "source": [
    "x =torch.tensor([1, 2, 3])\n",
    "y = torch.tensor([9, 8, 7])"
   ]
  },
  {
   "cell_type": "markdown",
   "id": "128a1101",
   "metadata": {},
   "source": [
    "#### Addition"
   ]
  },
  {
   "cell_type": "code",
   "execution_count": 41,
   "id": "ca3b99f7",
   "metadata": {
    "ExecuteTime": {
     "end_time": "2022-07-25T16:54:11.655828Z",
     "start_time": "2022-07-25T16:54:11.540171Z"
    }
   },
   "outputs": [
    {
     "name": "stdout",
     "output_type": "stream",
     "text": [
      "tensor([10., 10., 10.])\n"
     ]
    }
   ],
   "source": [
    "# method 1\n",
    "z1 = torch.empty(3)\n",
    "torch.add(x, y, out = z1)\n",
    "print(z1)"
   ]
  },
  {
   "cell_type": "code",
   "execution_count": 42,
   "id": "abc8c4c4",
   "metadata": {
    "ExecuteTime": {
     "end_time": "2022-07-25T16:54:46.894027Z",
     "start_time": "2022-07-25T16:54:46.522856Z"
    }
   },
   "outputs": [
    {
     "name": "stdout",
     "output_type": "stream",
     "text": [
      "tensor([10, 10, 10])\n"
     ]
    }
   ],
   "source": [
    "# method 2\n",
    "z2 = torch.add(x, y)\n",
    "print(z2)"
   ]
  },
  {
   "cell_type": "code",
   "execution_count": 43,
   "id": "f8248241",
   "metadata": {
    "ExecuteTime": {
     "end_time": "2022-07-25T16:55:34.556973Z",
     "start_time": "2022-07-25T16:55:34.202721Z"
    }
   },
   "outputs": [
    {
     "name": "stdout",
     "output_type": "stream",
     "text": [
      "tensor([10, 10, 10])\n"
     ]
    }
   ],
   "source": [
    "# method 3 - best\n",
    "z = x + y\n",
    "print(z)"
   ]
  },
  {
   "cell_type": "markdown",
   "id": "9a962056",
   "metadata": {
    "ExecuteTime": {
     "end_time": "2022-07-25T16:56:02.210092Z",
     "start_time": "2022-07-25T16:56:02.194391Z"
    }
   },
   "source": [
    "#### Subtraction"
   ]
  },
  {
   "cell_type": "code",
   "execution_count": 45,
   "id": "058802b5",
   "metadata": {
    "ExecuteTime": {
     "end_time": "2022-07-25T16:56:20.173077Z",
     "start_time": "2022-07-25T16:56:20.163104Z"
    }
   },
   "outputs": [
    {
     "name": "stdout",
     "output_type": "stream",
     "text": [
      "tensor([-8, -6, -4])\n"
     ]
    }
   ],
   "source": [
    "z = x - y\n",
    "print(z)"
   ]
  },
  {
   "cell_type": "markdown",
   "id": "36a1c91c",
   "metadata": {},
   "source": [
    "#### Division"
   ]
  },
  {
   "cell_type": "code",
   "execution_count": 46,
   "id": "446b6542",
   "metadata": {
    "ExecuteTime": {
     "end_time": "2022-07-25T16:57:13.028954Z",
     "start_time": "2022-07-25T16:57:12.637635Z"
    }
   },
   "outputs": [
    {
     "name": "stdout",
     "output_type": "stream",
     "text": [
      "tensor([0.1111, 0.2500, 0.4286])\n"
     ]
    }
   ],
   "source": [
    "# element wise divison having same shape\n",
    "z = torch.true_divide(x, y)\n",
    "print(z)"
   ]
  },
  {
   "cell_type": "markdown",
   "id": "debd76c8",
   "metadata": {},
   "source": [
    "#### inplace operations"
   ]
  },
  {
   "cell_type": "code",
   "execution_count": 48,
   "id": "7ce75e26",
   "metadata": {
    "ExecuteTime": {
     "end_time": "2022-07-25T16:59:59.155221Z",
     "start_time": "2022-07-25T16:59:59.124308Z"
    }
   },
   "outputs": [
    {
     "data": {
      "text/plain": [
       "tensor([1., 2., 3.])"
      ]
     },
     "execution_count": 48,
     "metadata": {},
     "output_type": "execute_result"
    }
   ],
   "source": [
    "t = torch.zeros(3)\n",
    "# inpace method\n",
    "t.add_(x)"
   ]
  },
  {
   "cell_type": "markdown",
   "id": "ac7e037e",
   "metadata": {},
   "source": [
    "**Note:**\n",
    "\n",
    "Any method ending with _ performs inplace operation"
   ]
  },
  {
   "cell_type": "code",
   "execution_count": 52,
   "id": "7b78bc6d",
   "metadata": {
    "ExecuteTime": {
     "end_time": "2022-07-25T23:49:59.689302Z",
     "start_time": "2022-07-25T23:49:59.666354Z"
    }
   },
   "outputs": [
    {
     "name": "stdout",
     "output_type": "stream",
     "text": [
      "tensor([2., 4., 6.])\n"
     ]
    }
   ],
   "source": [
    "# method 2\n",
    "t += x\n",
    "print(t)"
   ]
  },
  {
   "cell_type": "markdown",
   "id": "a919a3db",
   "metadata": {},
   "source": [
    "#### Exponentiation\n"
   ]
  },
  {
   "cell_type": "code",
   "execution_count": 53,
   "id": "2a29fd02",
   "metadata": {
    "ExecuteTime": {
     "end_time": "2022-07-25T23:50:56.705169Z",
     "start_time": "2022-07-25T23:50:56.616087Z"
    }
   },
   "outputs": [
    {
     "name": "stdout",
     "output_type": "stream",
     "text": [
      "tensor([1, 4, 9])\n"
     ]
    }
   ],
   "source": [
    "z = x.pow(2) # element wise\n",
    "print(z)"
   ]
  },
  {
   "cell_type": "code",
   "execution_count": 54,
   "id": "ffaf3973",
   "metadata": {
    "ExecuteTime": {
     "end_time": "2022-07-25T23:52:01.285280Z",
     "start_time": "2022-07-25T23:52:01.271284Z"
    }
   },
   "outputs": [
    {
     "name": "stdout",
     "output_type": "stream",
     "text": [
      "tensor([1, 4, 9])\n"
     ]
    }
   ],
   "source": [
    "# method 2\n",
    " # element wise\n",
    "z1 = x ** 2\n",
    "\n",
    "print(z1)"
   ]
  },
  {
   "cell_type": "markdown",
   "id": "bb51da63",
   "metadata": {},
   "source": [
    "#### matrix multiplication"
   ]
  },
  {
   "cell_type": "code",
   "execution_count": 55,
   "id": "bb8d1a4e",
   "metadata": {
    "ExecuteTime": {
     "end_time": "2022-07-25T23:53:47.394035Z",
     "start_time": "2022-07-25T23:53:46.991370Z"
    }
   },
   "outputs": [
    {
     "name": "stdout",
     "output_type": "stream",
     "text": [
      "tensor([[0.9741, 1.2273, 0.5444],\n",
      "        [1.0016, 1.4294, 0.7795]])\n"
     ]
    }
   ],
   "source": [
    "\n",
    "# element wise\n",
    "x1 = torch.rand((2, 5))\n",
    "x2 = torch.rand((5, 3))\n",
    "x3 = torch.mm(x1, x2) # 2 * 3\n",
    "print(x3)"
   ]
  },
  {
   "cell_type": "code",
   "execution_count": 56,
   "id": "01052399",
   "metadata": {
    "ExecuteTime": {
     "end_time": "2022-07-25T23:54:18.862655Z",
     "start_time": "2022-07-25T23:54:18.848724Z"
    }
   },
   "outputs": [
    {
     "name": "stdout",
     "output_type": "stream",
     "text": [
      "tensor([[0.9741, 1.2273, 0.5444],\n",
      "        [1.0016, 1.4294, 0.7795]])\n"
     ]
    }
   ],
   "source": [
    "# method 2\n",
    "x4 = x1.mm(x2)\n",
    "print(x4)"
   ]
  },
  {
   "cell_type": "markdown",
   "id": "0f1a8411",
   "metadata": {},
   "source": [
    "#### matrix exponentiation"
   ]
  },
  {
   "cell_type": "code",
   "execution_count": 57,
   "id": "5b4aabe2",
   "metadata": {
    "ExecuteTime": {
     "end_time": "2022-07-25T23:56:14.652802Z",
     "start_time": "2022-07-25T23:56:14.578002Z"
    }
   },
   "outputs": [
    {
     "name": "stdout",
     "output_type": "stream",
     "text": [
      "tensor([[1.2531, 0.9977, 1.2284, 0.9895, 0.7502],\n",
      "        [1.5261, 1.1325, 1.4190, 1.0067, 0.9772],\n",
      "        [1.5055, 0.8381, 0.9520, 0.7671, 0.8565],\n",
      "        [1.9606, 1.2408, 1.4104, 1.1990, 1.1008],\n",
      "        [1.9894, 1.1493, 1.6543, 1.3299, 1.1247]])\n"
     ]
    }
   ],
   "source": [
    "matrix_exp = torch.rand(5, 5)\n",
    "print(matrix_exp.matrix_power(3))"
   ]
  },
  {
   "cell_type": "markdown",
   "id": "269d2bcc",
   "metadata": {
    "ExecuteTime": {
     "end_time": "2022-07-25T23:57:13.830219Z",
     "start_time": "2022-07-25T23:57:13.816284Z"
    }
   },
   "source": [
    "#### Element wise multiplication"
   ]
  },
  {
   "cell_type": "code",
   "execution_count": 58,
   "id": "e4d02345",
   "metadata": {
    "ExecuteTime": {
     "end_time": "2022-07-25T23:56:46.722771Z",
     "start_time": "2022-07-25T23:56:46.327489Z"
    }
   },
   "outputs": [
    {
     "name": "stdout",
     "output_type": "stream",
     "text": [
      "tensor([ 9, 16, 21])\n"
     ]
    }
   ],
   "source": [
    "z = x * y\n",
    "print(z)"
   ]
  },
  {
   "cell_type": "markdown",
   "id": "beab75c9",
   "metadata": {},
   "source": [
    "#### Dot product"
   ]
  },
  {
   "cell_type": "code",
   "execution_count": 60,
   "id": "fa7a6232",
   "metadata": {
    "ExecuteTime": {
     "end_time": "2022-07-25T23:57:48.891126Z",
     "start_time": "2022-07-25T23:57:48.480946Z"
    }
   },
   "outputs": [
    {
     "name": "stdout",
     "output_type": "stream",
     "text": [
      "tensor(46)\n"
     ]
    }
   ],
   "source": [
    "z =torch.dot(x, y)\n",
    "print(z)"
   ]
  },
  {
   "cell_type": "markdown",
   "id": "216d804d",
   "metadata": {
    "ExecuteTime": {
     "end_time": "2022-07-25T23:58:27.362381Z",
     "start_time": "2022-07-25T23:58:27.345419Z"
    }
   },
   "source": [
    "#### Batch Matrix Multiplication"
   ]
  },
  {
   "cell_type": "code",
   "execution_count": 62,
   "id": "3aa649ac",
   "metadata": {
    "ExecuteTime": {
     "end_time": "2022-07-26T00:01:54.503211Z",
     "start_time": "2022-07-26T00:01:54.056376Z"
    }
   },
   "outputs": [
    {
     "name": "stdout",
     "output_type": "stream",
     "text": [
      "tensor([[[4.4010, 3.4102, 3.9444,  ..., 3.5563, 5.4540, 5.4769],\n",
      "         [5.1156, 4.5491, 5.5155,  ..., 4.5912, 5.7291, 6.4793],\n",
      "         [6.0981, 4.7001, 5.2451,  ..., 5.2124, 6.6487, 6.3466],\n",
      "         ...,\n",
      "         [5.0679, 3.7965, 4.7023,  ..., 3.5277, 5.4653, 5.0944],\n",
      "         [5.0086, 3.9904, 4.6974,  ..., 3.5192, 4.6662, 5.4223],\n",
      "         [6.5281, 4.6867, 5.2914,  ..., 5.0233, 6.5241, 6.4616]],\n",
      "\n",
      "        [[5.4462, 6.8053, 6.5670,  ..., 5.3744, 4.7932, 4.8944],\n",
      "         [5.9870, 7.1073, 6.0760,  ..., 5.2810, 5.4743, 4.9016],\n",
      "         [5.2375, 5.9573, 5.8051,  ..., 4.8224, 4.1000, 3.7179],\n",
      "         ...,\n",
      "         [5.4145, 6.1719, 5.2063,  ..., 4.8420, 4.5446, 3.7669],\n",
      "         [4.4598, 5.2256, 4.9988,  ..., 4.7895, 5.0204, 4.6099],\n",
      "         [3.6556, 4.6190, 4.4230,  ..., 3.8739, 3.4841, 3.3421]],\n",
      "\n",
      "        [[6.3458, 5.3176, 5.8893,  ..., 5.1135, 6.1485, 5.0478],\n",
      "         [5.9265, 5.5611, 5.0136,  ..., 5.4404, 5.0278, 4.6143],\n",
      "         [5.6495, 6.0007, 5.7654,  ..., 5.2770, 5.5332, 5.1078],\n",
      "         ...,\n",
      "         [6.0309, 5.8858, 5.6346,  ..., 5.5288, 5.4141, 5.3556],\n",
      "         [5.5317, 4.8961, 4.4662,  ..., 4.6259, 4.9730, 4.4328],\n",
      "         [5.4609, 5.4234, 5.4320,  ..., 5.0370, 4.8897, 4.3507]],\n",
      "\n",
      "        ...,\n",
      "\n",
      "        [[5.4564, 6.4700, 4.9670,  ..., 4.6534, 5.5268, 5.3041],\n",
      "         [5.4441, 6.0788, 5.4723,  ..., 5.3898, 5.6989, 5.6039],\n",
      "         [4.9283, 6.2007, 5.6650,  ..., 5.0458, 5.9867, 5.3598],\n",
      "         ...,\n",
      "         [4.9774, 5.9196, 5.4872,  ..., 4.3825, 6.1888, 5.0725],\n",
      "         [5.0468, 6.8669, 5.6037,  ..., 5.1798, 6.1054, 5.3520],\n",
      "         [4.6330, 5.2315, 5.2310,  ..., 4.9211, 5.5185, 4.8934]],\n",
      "\n",
      "        [[5.0794, 5.2346, 4.6829,  ..., 4.5032, 5.1043, 3.8180],\n",
      "         [4.4775, 4.0879, 4.7767,  ..., 3.7972, 3.8090, 3.2156],\n",
      "         [4.2825, 3.5577, 4.6780,  ..., 4.0993, 3.1487, 3.4312],\n",
      "         ...,\n",
      "         [4.7011, 5.3855, 5.4445,  ..., 4.6651, 4.9489, 3.5945],\n",
      "         [6.8856, 5.9552, 6.0458,  ..., 5.5646, 5.3474, 3.8091],\n",
      "         [6.1755, 5.4856, 5.7893,  ..., 4.1510, 4.8853, 3.9883]],\n",
      "\n",
      "        [[4.3222, 5.3418, 5.1942,  ..., 4.8289, 4.3364, 5.0315],\n",
      "         [4.0221, 5.1834, 4.7240,  ..., 5.2089, 4.2278, 4.5282],\n",
      "         [5.8500, 6.9326, 6.1170,  ..., 6.4883, 5.7149, 5.2674],\n",
      "         ...,\n",
      "         [5.1033, 6.0193, 5.0741,  ..., 5.4720, 5.4528, 4.6399],\n",
      "         [5.3198, 6.4521, 5.4896,  ..., 5.3525, 4.5727, 5.2222],\n",
      "         [6.4376, 6.6012, 6.2141,  ..., 7.3967, 6.0138, 5.5322]]])\n"
     ]
    }
   ],
   "source": [
    "batch = 32\n",
    "n = 10\n",
    "m = 20\n",
    "p = 30\n",
    "\n",
    "tensor1 = torch.rand((batch, n, m))\n",
    "tensor2 = torch.rand((batch, m, p)) \n",
    "out_bmm = torch.bmm(tensor1, tensor2) # (batch, n, p)\n",
    "print(out_bmm)"
   ]
  },
  {
   "cell_type": "markdown",
   "id": "ca0c111d",
   "metadata": {},
   "source": [
    "## Broadcasting"
   ]
  },
  {
   "cell_type": "code",
   "execution_count": 64,
   "id": "dbc67046",
   "metadata": {
    "ExecuteTime": {
     "end_time": "2022-07-26T00:04:28.802351Z",
     "start_time": "2022-07-26T00:04:28.785393Z"
    }
   },
   "outputs": [
    {
     "name": "stdout",
     "output_type": "stream",
     "text": [
      "tensor([[0.6061, 0.1613, 0.2191, 0.6402, 0.3658],\n",
      "        [0.6930, 0.1074, 0.2751, 0.4613, 0.6052],\n",
      "        [0.3726, 0.3166, 0.8873, 0.5271, 0.6847],\n",
      "        [0.7856, 0.8602, 0.7281, 0.6050, 0.9614],\n",
      "        [0.3520, 0.5255, 0.1223, 0.0819, 0.3731]])\n"
     ]
    }
   ],
   "source": [
    "x1 = torch.rand((5, 5))\n",
    "x2 = torch.rand((1, 5))\n",
    "print(x1)"
   ]
  },
  {
   "cell_type": "code",
   "execution_count": 65,
   "id": "90f64ca7",
   "metadata": {
    "ExecuteTime": {
     "end_time": "2022-07-26T00:04:33.611694Z",
     "start_time": "2022-07-26T00:04:33.591747Z"
    }
   },
   "outputs": [
    {
     "name": "stdout",
     "output_type": "stream",
     "text": [
      "tensor([[0.6316, 0.7195, 0.6445, 0.4599, 0.0131]])\n"
     ]
    }
   ],
   "source": [
    "print(x2)"
   ]
  },
  {
   "cell_type": "code",
   "execution_count": 66,
   "id": "f1445432",
   "metadata": {
    "ExecuteTime": {
     "end_time": "2022-07-26T00:04:36.791601Z",
     "start_time": "2022-07-26T00:04:36.775648Z"
    }
   },
   "outputs": [
    {
     "name": "stdout",
     "output_type": "stream",
     "text": [
      "tensor([[-0.0254, -0.5582, -0.4254,  0.1803,  0.3527],\n",
      "        [ 0.0614, -0.6120, -0.3695,  0.0014,  0.5922],\n",
      "        [-0.2590, -0.4028,  0.2428,  0.0672,  0.6716],\n",
      "        [ 0.1541,  0.1408,  0.0836,  0.1451,  0.9484],\n",
      "        [-0.2796, -0.1939, -0.5223, -0.3780,  0.3600]])\n"
     ]
    }
   ],
   "source": [
    "# x2 will match the shape of x1 in broadcasting \n",
    "z = x1 - x2\n",
    "print(z)"
   ]
  },
  {
   "cell_type": "code",
   "execution_count": 68,
   "id": "b2c70b42",
   "metadata": {
    "ExecuteTime": {
     "end_time": "2022-07-26T00:07:10.830283Z",
     "start_time": "2022-07-26T00:07:10.809340Z"
    }
   },
   "outputs": [
    {
     "name": "stdout",
     "output_type": "stream",
     "text": [
      "tensor([1, 2, 3])\n",
      "tensor(6)\n"
     ]
    }
   ],
   "source": [
    "## Other Tensor Operations\n",
    "print(x)\n",
    "# specify the dimension for summation\n",
    "sum_x = torch.sum(x, dim = 0)\n",
    "print(sum_x)"
   ]
  },
  {
   "cell_type": "code",
   "execution_count": 69,
   "id": "49d69269",
   "metadata": {
    "ExecuteTime": {
     "end_time": "2022-07-26T00:28:29.497469Z",
     "start_time": "2022-07-26T00:28:29.097769Z"
    }
   },
   "outputs": [
    {
     "name": "stdout",
     "output_type": "stream",
     "text": [
      "tensor([1, 2, 3])\n"
     ]
    }
   ],
   "source": [
    "abs_x = torch.abs(x)\n",
    "print(abs_x)"
   ]
  },
  {
   "cell_type": "code",
   "execution_count": 70,
   "id": "3051c486",
   "metadata": {
    "ExecuteTime": {
     "end_time": "2022-07-26T00:30:28.521681Z",
     "start_time": "2022-07-26T00:30:28.396015Z"
    }
   },
   "outputs": [],
   "source": [
    "sorted_y, indices = torch.sort(y, dim = 0, descending = False)"
   ]
  },
  {
   "cell_type": "code",
   "execution_count": null,
   "id": "1fb5d9e9",
   "metadata": {},
   "outputs": [],
   "source": [
    "# value < 0 will be 0. just like RELU function\n",
    "z = torch.clamp(x, min = 0)"
   ]
  }
 ],
 "metadata": {
  "kernelspec": {
   "display_name": "Python 3 (ipykernel)",
   "language": "python",
   "name": "python3"
  },
  "language_info": {
   "codemirror_mode": {
    "name": "ipython",
    "version": 3
   },
   "file_extension": ".py",
   "mimetype": "text/x-python",
   "name": "python",
   "nbconvert_exporter": "python",
   "pygments_lexer": "ipython3",
   "version": "3.7.13"
  },
  "latex_envs": {
   "LaTeX_envs_menu_present": true,
   "autoclose": false,
   "autocomplete": true,
   "bibliofile": "biblio.bib",
   "cite_by": "apalike",
   "current_citInitial": 1,
   "eqLabelWithNumbers": true,
   "eqNumInitial": 1,
   "hotkeys": {
    "equation": "Ctrl-E",
    "itemize": "Ctrl-I"
   },
   "labels_anchors": false,
   "latex_user_defs": false,
   "report_style_numbering": false,
   "user_envs_cfg": false
  },
  "toc": {
   "base_numbering": 1,
   "nav_menu": {},
   "number_sections": true,
   "sideBar": true,
   "skip_h1_title": false,
   "title_cell": "Table of Contents",
   "title_sidebar": "Contents",
   "toc_cell": false,
   "toc_position": {},
   "toc_section_display": true,
   "toc_window_display": false
  },
  "varInspector": {
   "cols": {
    "lenName": 16,
    "lenType": 16,
    "lenVar": 40
   },
   "kernels_config": {
    "python": {
     "delete_cmd_postfix": "",
     "delete_cmd_prefix": "del ",
     "library": "var_list.py",
     "varRefreshCmd": "print(var_dic_list())"
    },
    "r": {
     "delete_cmd_postfix": ") ",
     "delete_cmd_prefix": "rm(",
     "library": "var_list.r",
     "varRefreshCmd": "cat(var_dic_list()) "
    }
   },
   "types_to_exclude": [
    "module",
    "function",
    "builtin_function_or_method",
    "instance",
    "_Feature"
   ],
   "window_display": false
  }
 },
 "nbformat": 4,
 "nbformat_minor": 5
}
