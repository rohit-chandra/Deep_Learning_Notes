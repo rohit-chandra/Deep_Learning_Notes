{
 "cells": [
  {
   "cell_type": "code",
   "execution_count": 1,
   "metadata": {
    "ExecuteTime": {
     "end_time": "2022-06-12T03:45:12.111640Z",
     "start_time": "2022-06-12T03:44:19.813155Z"
    },
    "id": "-0xTsQdKcmTn"
   },
   "outputs": [],
   "source": [
    "import tensorflow as tf"
   ]
  },
  {
   "cell_type": "code",
   "execution_count": 2,
   "metadata": {
    "ExecuteTime": {
     "end_time": "2022-06-12T03:45:12.173382Z",
     "start_time": "2022-06-12T03:45:12.148445Z"
    },
    "colab": {
     "base_uri": "https://localhost:8080/",
     "height": 35
    },
    "id": "kLhUR31Yd1Yg",
    "outputId": "0b7448a2-2806-4c65-e7ea-25d109c3a32b"
   },
   "outputs": [
    {
     "data": {
      "text/plain": [
       "'2.8.0'"
      ]
     },
     "execution_count": 2,
     "metadata": {},
     "output_type": "execute_result"
    }
   ],
   "source": [
    "tf.__version__"
   ]
  },
  {
   "cell_type": "markdown",
   "metadata": {
    "id": "YSjI5YeKd_Pz"
   },
   "source": [
    "## Tensor constant\n",
    "\n",
    "Tensor: Multi dim array"
   ]
  },
  {
   "cell_type": "code",
   "execution_count": 3,
   "metadata": {
    "ExecuteTime": {
     "end_time": "2022-06-12T03:45:23.442679Z",
     "start_time": "2022-06-12T03:45:12.210280Z"
    },
    "id": "-7y9DmOCd22O"
   },
   "outputs": [],
   "source": [
    "const = tf.constant(43)"
   ]
  },
  {
   "cell_type": "code",
   "execution_count": 4,
   "metadata": {
    "ExecuteTime": {
     "end_time": "2022-06-12T03:45:23.505308Z",
     "start_time": "2022-06-12T03:45:23.494336Z"
    },
    "colab": {
     "base_uri": "https://localhost:8080/"
    },
    "id": "bpKQ_zdAeHMJ",
    "outputId": "c4f62e0b-8a1f-4627-c85f-ae70f0f3171a"
   },
   "outputs": [
    {
     "data": {
      "text/plain": [
       "<tf.Tensor: shape=(), dtype=int32, numpy=43>"
      ]
     },
     "execution_count": 4,
     "metadata": {},
     "output_type": "execute_result"
    }
   ],
   "source": [
    "const"
   ]
  },
  {
   "cell_type": "code",
   "execution_count": 5,
   "metadata": {
    "ExecuteTime": {
     "end_time": "2022-06-12T03:45:23.552187Z",
     "start_time": "2022-06-12T03:45:23.538265Z"
    },
    "colab": {
     "base_uri": "https://localhost:8080/"
    },
    "id": "fOQgZzSieIM8",
    "outputId": "b0b7699b-d37d-49ad-bd89-2c4732f39508"
   },
   "outputs": [
    {
     "data": {
      "text/plain": [
       "43"
      ]
     },
     "execution_count": 5,
     "metadata": {},
     "output_type": "execute_result"
    }
   ],
   "source": [
    "const.numpy()"
   ]
  },
  {
   "cell_type": "markdown",
   "metadata": {
    "id": "2E10Q366exMW"
   },
   "source": [
    "JAX: Built on Numpy but it supports CUDA"
   ]
  },
  {
   "cell_type": "code",
   "execution_count": 6,
   "metadata": {
    "ExecuteTime": {
     "end_time": "2022-06-12T03:45:23.646452Z",
     "start_time": "2022-06-12T03:45:23.586091Z"
    },
    "colab": {
     "base_uri": "https://localhost:8080/"
    },
    "id": "k978Lcghegia",
    "outputId": "9ef171fb-c52b-4e96-e310-f8efb90fd107"
   },
   "outputs": [
    {
     "data": {
      "text/plain": [
       "<tf.Tensor: shape=(), dtype=float32, numpy=43.0>"
      ]
     },
     "execution_count": 6,
     "metadata": {},
     "output_type": "execute_result"
    }
   ],
   "source": [
    "# for specific datatype\n",
    "\n",
    "const = tf.constant(43, dtype=tf.float32)\n",
    "\n",
    "const"
   ]
  },
  {
   "cell_type": "code",
   "execution_count": 7,
   "metadata": {
    "ExecuteTime": {
     "end_time": "2022-06-12T03:45:23.693744Z",
     "start_time": "2022-06-12T03:45:23.680758Z"
    },
    "colab": {
     "base_uri": "https://localhost:8080/"
    },
    "id": "oB4acuRkfUHE",
    "outputId": "b4288576-167a-42a9-aed7-689cc20f7957"
   },
   "outputs": [
    {
     "data": {
      "text/plain": [
       "43.0"
      ]
     },
     "execution_count": 7,
     "metadata": {},
     "output_type": "execute_result"
    }
   ],
   "source": [
    "const.numpy()"
   ]
  },
  {
   "cell_type": "code",
   "execution_count": 8,
   "metadata": {
    "ExecuteTime": {
     "end_time": "2022-06-12T03:45:23.741607Z",
     "start_time": "2022-06-12T03:45:23.727625Z"
    },
    "colab": {
     "base_uri": "https://localhost:8080/"
    },
    "id": "5gvXAlQsfYQ7",
    "outputId": "ef589405-fbb5-4ada-9ff8-13595adae5dd"
   },
   "outputs": [
    {
     "data": {
      "text/plain": [
       "<tf.Tensor: shape=(2, 2), dtype=float32, numpy=\n",
       "array([[1., 3.],\n",
       "       [4., 5.]], dtype=float32)>"
      ]
     },
     "execution_count": 8,
     "metadata": {},
     "output_type": "execute_result"
    }
   ],
   "source": [
    "const_mat = tf.constant([[1,3],[4,5]], dtype=tf.float32)\n",
    "\n",
    "const_mat"
   ]
  },
  {
   "cell_type": "code",
   "execution_count": 9,
   "metadata": {
    "ExecuteTime": {
     "end_time": "2022-06-12T03:45:23.789478Z",
     "start_time": "2022-06-12T03:45:23.775490Z"
    },
    "colab": {
     "base_uri": "https://localhost:8080/"
    },
    "id": "LGi7v1TDfj8S",
    "outputId": "36c53eb9-484e-4bb8-8e82-4c9a48d272f4"
   },
   "outputs": [
    {
     "data": {
      "text/plain": [
       "TensorShape([2, 2])"
      ]
     },
     "execution_count": 9,
     "metadata": {},
     "output_type": "execute_result"
    }
   ],
   "source": [
    "const_mat.shape"
   ]
  },
  {
   "cell_type": "code",
   "execution_count": 10,
   "metadata": {
    "ExecuteTime": {
     "end_time": "2022-06-12T03:45:23.836327Z",
     "start_time": "2022-06-12T03:45:23.826355Z"
    },
    "colab": {
     "base_uri": "https://localhost:8080/"
    },
    "id": "rF0os-xbgBN6",
    "outputId": "f4eead96-a01c-4de5-eaae-8ee4a57ad818"
   },
   "outputs": [
    {
     "data": {
      "text/plain": [
       "tf.float32"
      ]
     },
     "execution_count": 10,
     "metadata": {},
     "output_type": "execute_result"
    }
   ],
   "source": [
    "const_mat.dtype"
   ]
  },
  {
   "cell_type": "code",
   "execution_count": 11,
   "metadata": {
    "ExecuteTime": {
     "end_time": "2022-06-12T03:45:24.183419Z",
     "start_time": "2022-06-12T03:45:23.870272Z"
    },
    "colab": {
     "base_uri": "https://localhost:8080/",
     "height": 166
    },
    "id": "5w1Jc0sCgFw0",
    "outputId": "f77f6ad7-d580-4e57-a97b-51eb780af93d"
   },
   "outputs": [
    {
     "ename": "TypeError",
     "evalue": "'tensorflow.python.framework.ops.EagerTensor' object does not support item assignment",
     "output_type": "error",
     "traceback": [
      "\u001b[1;31m---------------------------------------------------------------------------\u001b[0m",
      "\u001b[1;31mTypeError\u001b[0m                                 Traceback (most recent call last)",
      "\u001b[1;32m~\\AppData\\Local\\Temp/ipykernel_13384/3722596362.py\u001b[0m in \u001b[0;36m<module>\u001b[1;34m\u001b[0m\n\u001b[1;32m----> 1\u001b[1;33m \u001b[0mconst_mat\u001b[0m\u001b[1;33m[\u001b[0m\u001b[1;36m0\u001b[0m\u001b[1;33m]\u001b[0m\u001b[1;33m[\u001b[0m\u001b[1;36m0\u001b[0m\u001b[1;33m]\u001b[0m \u001b[1;33m=\u001b[0m \u001b[1;36m32\u001b[0m\u001b[1;33m\u001b[0m\u001b[1;33m\u001b[0m\u001b[0m\n\u001b[0m",
      "\u001b[1;31mTypeError\u001b[0m: 'tensorflow.python.framework.ops.EagerTensor' object does not support item assignment"
     ]
    }
   ],
   "source": [
    "const_mat[0][0] = 32"
   ]
  },
  {
   "cell_type": "markdown",
   "metadata": {
    "id": "mCyo0RFUgUCm"
   },
   "source": [
    "## Commonly used method"
   ]
  },
  {
   "cell_type": "code",
   "execution_count": 12,
   "metadata": {
    "ExecuteTime": {
     "end_time": "2022-06-12T03:45:31.374876Z",
     "start_time": "2022-06-12T03:45:31.300796Z"
    },
    "colab": {
     "base_uri": "https://localhost:8080/"
    },
    "id": "9eYEMbFqgMYP",
    "outputId": "6f98d026-0a2a-4c4e-bb11-a909eddaf0a3"
   },
   "outputs": [
    {
     "data": {
      "text/plain": [
       "<tf.Tensor: shape=(2, 3), dtype=float32, numpy=\n",
       "array([[1., 1., 1.],\n",
       "       [1., 1., 1.]], dtype=float32)>"
      ]
     },
     "execution_count": 12,
     "metadata": {},
     "output_type": "execute_result"
    }
   ],
   "source": [
    "tf.ones(shape=(2,3))"
   ]
  },
  {
   "cell_type": "code",
   "execution_count": 13,
   "metadata": {
    "ExecuteTime": {
     "end_time": "2022-06-12T03:45:32.107345Z",
     "start_time": "2022-06-12T03:45:31.973432Z"
    },
    "colab": {
     "base_uri": "https://localhost:8080/"
    },
    "id": "fOb6dNccgb1X",
    "outputId": "c765d4f7-ef86-4c4b-9803-c3099d3a2f5a"
   },
   "outputs": [
    {
     "data": {
      "text/plain": [
       "<tf.Tensor: shape=(2, 3), dtype=float32, numpy=\n",
       "array([[-1., -1., -1.],\n",
       "       [-1., -1., -1.]], dtype=float32)>"
      ]
     },
     "execution_count": 13,
     "metadata": {},
     "output_type": "execute_result"
    }
   ],
   "source": [
    "-1*tf.ones(shape=(2,3))"
   ]
  },
  {
   "cell_type": "code",
   "execution_count": 14,
   "metadata": {
    "ExecuteTime": {
     "end_time": "2022-06-12T03:45:32.423723Z",
     "start_time": "2022-06-12T03:45:32.411722Z"
    },
    "colab": {
     "base_uri": "https://localhost:8080/"
    },
    "id": "n7R0TwkVgrXE",
    "outputId": "ac29f2a9-b306-44c4-cfb5-d9d5074f8398"
   },
   "outputs": [
    {
     "data": {
      "text/plain": [
       "<tf.Tensor: shape=(2, 3), dtype=float32, numpy=\n",
       "array([[6., 6., 6.],\n",
       "       [6., 6., 6.]], dtype=float32)>"
      ]
     },
     "execution_count": 14,
     "metadata": {},
     "output_type": "execute_result"
    }
   ],
   "source": [
    "6*tf.ones(shape=(2,3))"
   ]
  },
  {
   "cell_type": "code",
   "execution_count": 15,
   "metadata": {
    "ExecuteTime": {
     "end_time": "2022-06-12T03:45:32.863701Z",
     "start_time": "2022-06-12T03:45:32.846756Z"
    },
    "colab": {
     "base_uri": "https://localhost:8080/"
    },
    "id": "K2GofyOwguc2",
    "outputId": "4b8135d1-aea3-4e2f-d5ab-762db75ccdfe"
   },
   "outputs": [
    {
     "data": {
      "text/plain": [
       "<tf.Tensor: shape=(2, 4), dtype=float32, numpy=\n",
       "array([[0., 0., 0., 0.],\n",
       "       [0., 0., 0., 0.]], dtype=float32)>"
      ]
     },
     "execution_count": 15,
     "metadata": {},
     "output_type": "execute_result"
    }
   ],
   "source": [
    "tf.zeros(shape=(2,4))"
   ]
  },
  {
   "cell_type": "markdown",
   "metadata": {
    "id": "wAOwWTE9hJAd"
   },
   "source": [
    "## add operations"
   ]
  },
  {
   "cell_type": "code",
   "execution_count": 16,
   "metadata": {
    "ExecuteTime": {
     "end_time": "2022-06-12T03:45:33.725881Z",
     "start_time": "2022-06-12T03:45:33.707896Z"
    },
    "id": "66cNuh8khFLM"
   },
   "outputs": [],
   "source": [
    "const1 = tf.constant([[1,2,3],[4,5,6]])\n",
    "const2 = tf.constant([[2,5,3],[3,5,8]])"
   ]
  },
  {
   "cell_type": "code",
   "execution_count": 17,
   "metadata": {
    "ExecuteTime": {
     "end_time": "2022-06-12T03:45:34.383229Z",
     "start_time": "2022-06-12T03:45:34.276491Z"
    },
    "colab": {
     "base_uri": "https://localhost:8080/"
    },
    "id": "ST6TgxefhUyJ",
    "outputId": "7e0f3e4a-0b3b-4a5c-d7a9-2e397202ca9a"
   },
   "outputs": [
    {
     "data": {
      "text/plain": [
       "<tf.Tensor: shape=(2, 3), dtype=int32, numpy=\n",
       "array([[ 3,  7,  6],\n",
       "       [ 7, 10, 14]])>"
      ]
     },
     "execution_count": 17,
     "metadata": {},
     "output_type": "execute_result"
    }
   ],
   "source": [
    "const1 + const2"
   ]
  },
  {
   "cell_type": "code",
   "execution_count": 18,
   "metadata": {
    "ExecuteTime": {
     "end_time": "2022-06-12T03:45:34.616350Z",
     "start_time": "2022-06-12T03:45:34.604348Z"
    },
    "colab": {
     "base_uri": "https://localhost:8080/"
    },
    "id": "D4lXZRZuhWmJ",
    "outputId": "96148cdd-5399-42ea-9708-49979d31507b"
   },
   "outputs": [
    {
     "data": {
      "text/plain": [
       "<tf.Tensor: shape=(2, 3), dtype=int32, numpy=\n",
       "array([[ 3,  7,  6],\n",
       "       [ 7, 10, 14]])>"
      ]
     },
     "execution_count": 18,
     "metadata": {},
     "output_type": "execute_result"
    }
   ],
   "source": [
    "tf.add(const1, const2)"
   ]
  },
  {
   "cell_type": "markdown",
   "metadata": {
    "id": "MqSgXhBShfCb"
   },
   "source": [
    "## Random const"
   ]
  },
  {
   "cell_type": "code",
   "execution_count": 19,
   "metadata": {
    "ExecuteTime": {
     "end_time": "2022-06-12T03:45:35.667929Z",
     "start_time": "2022-06-12T03:45:35.504655Z"
    },
    "colab": {
     "base_uri": "https://localhost:8080/"
    },
    "id": "tnodoq3Ihbd-",
    "outputId": "03545cbf-96c0-4e00-878b-f4ca2a0994ea"
   },
   "outputs": [
    {
     "data": {
      "text/plain": [
       "<tf.Tensor: shape=(2, 2), dtype=float32, numpy=\n",
       "array([[-0.7396459, -1.2851998],\n",
       "       [ 1.0871593, -1.0126687]], dtype=float32)>"
      ]
     },
     "execution_count": 19,
     "metadata": {},
     "output_type": "execute_result"
    }
   ],
   "source": [
    "tf.random.normal(shape=(2,2), mean=0, stddev=1.0)"
   ]
  },
  {
   "cell_type": "code",
   "execution_count": 20,
   "metadata": {
    "ExecuteTime": {
     "end_time": "2022-06-12T03:45:35.824433Z",
     "start_time": "2022-06-12T03:45:35.811450Z"
    },
    "colab": {
     "base_uri": "https://localhost:8080/"
    },
    "id": "FHrQ6EzNhq4L",
    "outputId": "290708eb-ef5d-4336-987b-996fb8ac6aab"
   },
   "outputs": [
    {
     "data": {
      "text/plain": [
       "<tf.Tensor: shape=(2, 2), dtype=float32, numpy=\n",
       "array([[ 9.5352125,  3.7718582],\n",
       "       [15.457346 , 14.38313  ]], dtype=float32)>"
      ]
     },
     "execution_count": 20,
     "metadata": {},
     "output_type": "execute_result"
    }
   ],
   "source": [
    "tf.random.uniform(shape=(2,2), minval=0, maxval=20)"
   ]
  },
  {
   "cell_type": "markdown",
   "metadata": {
    "id": "Kxij8tsrh7Nf"
   },
   "source": [
    "## Variables"
   ]
  },
  {
   "cell_type": "code",
   "execution_count": 21,
   "metadata": {
    "ExecuteTime": {
     "end_time": "2022-06-12T03:45:36.697479Z",
     "start_time": "2022-06-12T03:45:36.515358Z"
    },
    "id": "HvewIzdxh1Kk"
   },
   "outputs": [],
   "source": [
    "var1 = tf.Variable([[1,2,3],[4,5,6]])"
   ]
  },
  {
   "cell_type": "code",
   "execution_count": 22,
   "metadata": {
    "ExecuteTime": {
     "end_time": "2022-06-12T03:45:36.903115Z",
     "start_time": "2022-06-12T03:45:36.885168Z"
    },
    "id": "YjQXqEZFiIDD"
   },
   "outputs": [],
   "source": [
    "var2 = tf.Variable(43)"
   ]
  },
  {
   "cell_type": "code",
   "execution_count": 23,
   "metadata": {
    "ExecuteTime": {
     "end_time": "2022-06-12T03:45:37.354118Z",
     "start_time": "2022-06-12T03:45:37.340156Z"
    },
    "colab": {
     "base_uri": "https://localhost:8080/"
    },
    "id": "3aUquiktiS9k",
    "outputId": "702bcdd4-dc4d-4fb6-c011-49851ac4d95a"
   },
   "outputs": [
    {
     "data": {
      "text/plain": [
       "<tf.Variable 'UnreadVariable' shape=() dtype=int32, numpy=32>"
      ]
     },
     "execution_count": 23,
     "metadata": {},
     "output_type": "execute_result"
    }
   ],
   "source": [
    "var2.assign(32)"
   ]
  },
  {
   "cell_type": "code",
   "execution_count": 24,
   "metadata": {
    "ExecuteTime": {
     "end_time": "2022-06-12T03:45:37.716093Z",
     "start_time": "2022-06-12T03:45:37.711072Z"
    },
    "colab": {
     "base_uri": "https://localhost:8080/"
    },
    "id": "Oz3FmPAziXR6",
    "outputId": "6af31b08-9856-482d-96dc-bf7eed22cc67"
   },
   "outputs": [
    {
     "data": {
      "text/plain": [
       "<tf.Variable 'Variable:0' shape=() dtype=int32, numpy=32>"
      ]
     },
     "execution_count": 24,
     "metadata": {},
     "output_type": "execute_result"
    }
   ],
   "source": [
    "var2"
   ]
  },
  {
   "cell_type": "code",
   "execution_count": 25,
   "metadata": {
    "ExecuteTime": {
     "end_time": "2022-06-12T03:45:38.046539Z",
     "start_time": "2022-06-12T03:45:38.036568Z"
    },
    "colab": {
     "base_uri": "https://localhost:8080/"
    },
    "id": "ru3TJzCNjbfu",
    "outputId": "2c93cca0-dd6f-4a0c-99bf-d68362ac83a6"
   },
   "outputs": [
    {
     "data": {
      "text/plain": [
       "tensorflow.python.ops.resource_variable_ops.ResourceVariable"
      ]
     },
     "execution_count": 25,
     "metadata": {},
     "output_type": "execute_result"
    }
   ],
   "source": [
    "type(var2)"
   ]
  },
  {
   "cell_type": "code",
   "execution_count": 26,
   "metadata": {
    "ExecuteTime": {
     "end_time": "2022-06-12T03:45:38.392163Z",
     "start_time": "2022-06-12T03:45:38.378202Z"
    },
    "id": "1_QNnnX4iYe7"
   },
   "outputs": [],
   "source": [
    "var2 = 33"
   ]
  },
  {
   "cell_type": "code",
   "execution_count": 27,
   "metadata": {
    "ExecuteTime": {
     "end_time": "2022-06-12T03:45:38.717861Z",
     "start_time": "2022-06-12T03:45:38.711913Z"
    },
    "colab": {
     "base_uri": "https://localhost:8080/"
    },
    "id": "7nv06z8xiljW",
    "outputId": "763a9e62-b2ae-4bdb-b0ba-b5b92328b1a7"
   },
   "outputs": [
    {
     "data": {
      "text/plain": [
       "int"
      ]
     },
     "execution_count": 27,
     "metadata": {},
     "output_type": "execute_result"
    }
   ],
   "source": [
    "type(var2)"
   ]
  },
  {
   "cell_type": "code",
   "execution_count": 28,
   "metadata": {
    "ExecuteTime": {
     "end_time": "2022-06-12T03:45:38.997211Z",
     "start_time": "2022-06-12T03:45:38.987238Z"
    },
    "colab": {
     "base_uri": "https://localhost:8080/"
    },
    "id": "5SBYUhbLjVdw",
    "outputId": "38aec454-a605-430c-ed36-d23f1bcba03c"
   },
   "outputs": [
    {
     "data": {
      "text/plain": [
       "<tf.Variable 'UnreadVariable' shape=(2, 3) dtype=int32, numpy=\n",
       "array([[22,  2,  3],\n",
       "       [ 4,  5,  6]])>"
      ]
     },
     "execution_count": 28,
     "metadata": {},
     "output_type": "execute_result"
    }
   ],
   "source": [
    "var1.assign([[22,2,3],[4,5,6]])"
   ]
  },
  {
   "cell_type": "code",
   "execution_count": 29,
   "metadata": {
    "ExecuteTime": {
     "end_time": "2022-06-12T03:45:39.435817Z",
     "start_time": "2022-06-12T03:45:39.323500Z"
    },
    "colab": {
     "base_uri": "https://localhost:8080/"
    },
    "id": "qhc9mELIj4YV",
    "outputId": "2b82f759-c557-4bb4-f49d-c7413dafb3c1"
   },
   "outputs": [
    {
     "data": {
      "text/plain": [
       "<tf.Variable 'Variable:0' shape=(2, 3) dtype=int32, numpy=\n",
       "array([[22,  2,  3],\n",
       "       [ 4, 34,  6]])>"
      ]
     },
     "execution_count": 29,
     "metadata": {},
     "output_type": "execute_result"
    }
   ],
   "source": [
    "var1[1,1].assign(34)\n",
    "\n",
    "var1"
   ]
  },
  {
   "cell_type": "code",
   "execution_count": 30,
   "metadata": {
    "ExecuteTime": {
     "end_time": "2022-06-12T03:45:39.688647Z",
     "start_time": "2022-06-12T03:45:39.651709Z"
    },
    "colab": {
     "base_uri": "https://localhost:8080/",
     "height": 288
    },
    "id": "tnqBS6cMkDCZ",
    "outputId": "42b75996-8ad8-4102-d0c1-5a54b859a32a"
   },
   "outputs": [
    {
     "ename": "AttributeError",
     "evalue": "'tensorflow.python.framework.ops.EagerTensor' object has no attribute 'assign'",
     "output_type": "error",
     "traceback": [
      "\u001b[1;31m---------------------------------------------------------------------------\u001b[0m",
      "\u001b[1;31mAttributeError\u001b[0m                            Traceback (most recent call last)",
      "\u001b[1;32m~\\AppData\\Local\\Temp/ipykernel_13384/4285610532.py\u001b[0m in \u001b[0;36m<module>\u001b[1;34m\u001b[0m\n\u001b[1;32m----> 1\u001b[1;33m \u001b[0mvar1\u001b[0m\u001b[1;33m[\u001b[0m\u001b[1;36m1\u001b[0m\u001b[1;33m]\u001b[0m\u001b[1;33m[\u001b[0m\u001b[1;36m1\u001b[0m\u001b[1;33m]\u001b[0m\u001b[1;33m.\u001b[0m\u001b[0massign\u001b[0m\u001b[1;33m(\u001b[0m\u001b[1;36m34\u001b[0m\u001b[1;33m)\u001b[0m\u001b[1;33m\u001b[0m\u001b[1;33m\u001b[0m\u001b[0m\n\u001b[0m",
      "\u001b[1;32mD:\\IDEs\\Anaconda\\lib\\site-packages\\tensorflow\\python\\framework\\ops.py\u001b[0m in \u001b[0;36m__getattr__\u001b[1;34m(self, name)\u001b[0m\n\u001b[0;32m    511\u001b[0m         \u001b[1;32mfrom\u001b[0m \u001b[0mtensorflow\u001b[0m\u001b[1;33m.\u001b[0m\u001b[0mpython\u001b[0m\u001b[1;33m.\u001b[0m\u001b[0mops\u001b[0m\u001b[1;33m.\u001b[0m\u001b[0mnumpy_ops\u001b[0m \u001b[1;32mimport\u001b[0m \u001b[0mnp_config\u001b[0m\u001b[1;33m\u001b[0m\u001b[1;33m\u001b[0m\u001b[0m\n\u001b[0;32m    512\u001b[0m         np_config.enable_numpy_behavior()\"\"\".format(type(self).__name__, name))\n\u001b[1;32m--> 513\u001b[1;33m     \u001b[0mself\u001b[0m\u001b[1;33m.\u001b[0m\u001b[0m__getattribute__\u001b[0m\u001b[1;33m(\u001b[0m\u001b[0mname\u001b[0m\u001b[1;33m)\u001b[0m\u001b[1;33m\u001b[0m\u001b[1;33m\u001b[0m\u001b[0m\n\u001b[0m\u001b[0;32m    514\u001b[0m \u001b[1;33m\u001b[0m\u001b[0m\n\u001b[0;32m    515\u001b[0m   \u001b[1;33m@\u001b[0m\u001b[0mstaticmethod\u001b[0m\u001b[1;33m\u001b[0m\u001b[1;33m\u001b[0m\u001b[0m\n",
      "\u001b[1;31mAttributeError\u001b[0m: 'tensorflow.python.framework.ops.EagerTensor' object has no attribute 'assign'"
     ]
    }
   ],
   "source": [
    "var1[1][1].assign(34)\n"
   ]
  },
  {
   "cell_type": "code",
   "execution_count": 31,
   "metadata": {
    "ExecuteTime": {
     "end_time": "2022-06-12T03:45:40.017593Z",
     "start_time": "2022-06-12T03:45:39.982653Z"
    },
    "colab": {
     "base_uri": "https://localhost:8080/",
     "height": 305
    },
    "id": "lIUa4lK4jqDp",
    "outputId": "85a2f38d-ad11-47f0-e52d-08294e3838ac"
   },
   "outputs": [
    {
     "ename": "ValueError",
     "evalue": "Cannot assign value to variable ' Variable:0': Shape mismatch.The variable shape (2, 3), and the assigned value shape (3, 3) are incompatible.",
     "output_type": "error",
     "traceback": [
      "\u001b[1;31m---------------------------------------------------------------------------\u001b[0m",
      "\u001b[1;31mValueError\u001b[0m                                Traceback (most recent call last)",
      "\u001b[1;32m~\\AppData\\Local\\Temp/ipykernel_13384/4067126483.py\u001b[0m in \u001b[0;36m<module>\u001b[1;34m\u001b[0m\n\u001b[1;32m----> 1\u001b[1;33m \u001b[0mvar1\u001b[0m\u001b[1;33m.\u001b[0m\u001b[0massign\u001b[0m\u001b[1;33m(\u001b[0m\u001b[1;33m[\u001b[0m\u001b[1;33m[\u001b[0m\u001b[1;36m22\u001b[0m\u001b[1;33m,\u001b[0m\u001b[1;36m2\u001b[0m\u001b[1;33m,\u001b[0m\u001b[1;36m3\u001b[0m\u001b[1;33m]\u001b[0m\u001b[1;33m,\u001b[0m\u001b[1;33m[\u001b[0m\u001b[1;36m4\u001b[0m\u001b[1;33m,\u001b[0m\u001b[1;36m5\u001b[0m\u001b[1;33m,\u001b[0m\u001b[1;36m6\u001b[0m\u001b[1;33m]\u001b[0m\u001b[1;33m,\u001b[0m\u001b[1;33m[\u001b[0m\u001b[1;36m3\u001b[0m\u001b[1;33m,\u001b[0m\u001b[1;36m4\u001b[0m\u001b[1;33m,\u001b[0m\u001b[1;36m5\u001b[0m\u001b[1;33m]\u001b[0m\u001b[1;33m]\u001b[0m\u001b[1;33m)\u001b[0m\u001b[1;33m\u001b[0m\u001b[1;33m\u001b[0m\u001b[0m\n\u001b[0m",
      "\u001b[1;32mD:\\IDEs\\Anaconda\\lib\\site-packages\\tensorflow\\python\\ops\\resource_variable_ops.py\u001b[0m in \u001b[0;36massign\u001b[1;34m(self, value, use_locking, name, read_value)\u001b[0m\n\u001b[0;32m    939\u001b[0m           \u001b[0mtensor_name\u001b[0m \u001b[1;33m=\u001b[0m \u001b[1;34m\" \"\u001b[0m \u001b[1;33m+\u001b[0m \u001b[0mstr\u001b[0m\u001b[1;33m(\u001b[0m\u001b[0mself\u001b[0m\u001b[1;33m.\u001b[0m\u001b[0mname\u001b[0m\u001b[1;33m)\u001b[0m\u001b[1;33m\u001b[0m\u001b[1;33m\u001b[0m\u001b[0m\n\u001b[0;32m    940\u001b[0m         raise ValueError(\n\u001b[1;32m--> 941\u001b[1;33m             (f\"Cannot assign value to variable '{tensor_name}': Shape mismatch.\"\n\u001b[0m\u001b[0;32m    942\u001b[0m              \u001b[1;34mf\"The variable shape {self._shape}, and the \"\u001b[0m\u001b[1;33m\u001b[0m\u001b[1;33m\u001b[0m\u001b[0m\n\u001b[0;32m    943\u001b[0m              f\"assigned value shape {value_tensor.shape} are incompatible.\"))\n",
      "\u001b[1;31mValueError\u001b[0m: Cannot assign value to variable ' Variable:0': Shape mismatch.The variable shape (2, 3), and the assigned value shape (3, 3) are incompatible."
     ]
    }
   ],
   "source": [
    "var1.assign([[22,2,3],[4,5,6],[3,4,5]])\n"
   ]
  },
  {
   "cell_type": "markdown",
   "metadata": {
    "id": "rSwjWNoSkYP7"
   },
   "source": [
    "## reshaping operation"
   ]
  },
  {
   "cell_type": "code",
   "execution_count": 32,
   "metadata": {
    "ExecuteTime": {
     "end_time": "2022-06-12T03:45:40.660730Z",
     "start_time": "2022-06-12T03:45:40.652751Z"
    },
    "colab": {
     "base_uri": "https://localhost:8080/"
    },
    "id": "e314JN9pjtYF",
    "outputId": "9a834f0c-02b8-4dcb-d576-914f0bfa70c7"
   },
   "outputs": [
    {
     "data": {
      "text/plain": [
       "TensorShape([2, 3])"
      ]
     },
     "execution_count": 32,
     "metadata": {},
     "output_type": "execute_result"
    }
   ],
   "source": [
    "tensor = tf.Variable([[22,2,3],[4,5,6]])\n",
    "\n",
    "tensor.shape"
   ]
  },
  {
   "cell_type": "code",
   "execution_count": 33,
   "metadata": {
    "ExecuteTime": {
     "end_time": "2022-06-12T03:45:41.161257Z",
     "start_time": "2022-06-12T03:45:41.035958Z"
    },
    "colab": {
     "base_uri": "https://localhost:8080/"
    },
    "id": "nBdiGl_PklW2",
    "outputId": "094d80a6-0026-47f4-acac-6708f437cc98"
   },
   "outputs": [
    {
     "data": {
      "text/plain": [
       "<tf.Tensor: shape=(3, 2), dtype=int32, numpy=\n",
       "array([[22,  2],\n",
       "       [ 3,  4],\n",
       "       [ 5,  6]])>"
      ]
     },
     "execution_count": 33,
     "metadata": {},
     "output_type": "execute_result"
    }
   ],
   "source": [
    "tf.reshape(tensor, [3,2])"
   ]
  },
  {
   "cell_type": "code",
   "execution_count": 34,
   "metadata": {
    "ExecuteTime": {
     "end_time": "2022-06-12T03:45:41.364500Z",
     "start_time": "2022-06-12T03:45:41.348544Z"
    },
    "colab": {
     "base_uri": "https://localhost:8080/"
    },
    "id": "U9rIN5n_ktXp",
    "outputId": "f8199e24-c665-46bc-b6da-34dd503baf0f"
   },
   "outputs": [
    {
     "data": {
      "text/plain": [
       "<tf.Tensor: shape=(1, 6), dtype=int32, numpy=array([[22,  2,  3,  4,  5,  6]])>"
      ]
     },
     "execution_count": 34,
     "metadata": {},
     "output_type": "execute_result"
    }
   ],
   "source": [
    "tf.reshape(tensor, [1,6])\n"
   ]
  },
  {
   "cell_type": "code",
   "execution_count": 35,
   "metadata": {
    "ExecuteTime": {
     "end_time": "2022-06-12T03:45:41.727153Z",
     "start_time": "2022-06-12T03:45:41.711205Z"
    },
    "colab": {
     "base_uri": "https://localhost:8080/"
    },
    "id": "EwBnYdeMkxIR",
    "outputId": "1e6c364a-365f-4deb-efbc-ffc31cea30f7"
   },
   "outputs": [
    {
     "data": {
      "text/plain": [
       "<tf.Tensor: shape=(6, 1), dtype=int32, numpy=\n",
       "array([[22],\n",
       "       [ 2],\n",
       "       [ 3],\n",
       "       [ 4],\n",
       "       [ 5],\n",
       "       [ 6]])>"
      ]
     },
     "execution_count": 35,
     "metadata": {},
     "output_type": "execute_result"
    }
   ],
   "source": [
    "tf.reshape(tensor, [6,1])\n"
   ]
  },
  {
   "cell_type": "markdown",
   "metadata": {
    "id": "v5gYdlJIlAtz"
   },
   "source": [
    "## other mathematical ops"
   ]
  },
  {
   "cell_type": "code",
   "execution_count": 36,
   "metadata": {
    "ExecuteTime": {
     "end_time": "2022-06-12T03:45:42.390661Z",
     "start_time": "2022-06-12T03:45:42.373672Z"
    },
    "colab": {
     "base_uri": "https://localhost:8080/"
    },
    "id": "DaNHbSGZkz7O",
    "outputId": "cd553b7f-3ca2-474f-83ff-05143f57ee18"
   },
   "outputs": [
    {
     "data": {
      "text/plain": [
       "<tf.Variable 'Variable:0' shape=(2, 3) dtype=int32, numpy=\n",
       "array([[22,  2,  3],\n",
       "       [ 4, 34,  6]])>"
      ]
     },
     "execution_count": 36,
     "metadata": {},
     "output_type": "execute_result"
    }
   ],
   "source": [
    "var1"
   ]
  },
  {
   "cell_type": "code",
   "execution_count": 37,
   "metadata": {
    "ExecuteTime": {
     "end_time": "2022-06-12T03:45:42.721354Z",
     "start_time": "2022-06-12T03:45:42.682424Z"
    },
    "colab": {
     "base_uri": "https://localhost:8080/"
    },
    "id": "HnVU_JxilD34",
    "outputId": "9a3352e5-8d50-4fe2-b0f1-8be99aca9936"
   },
   "outputs": [
    {
     "data": {
      "text/plain": [
       "<tf.Tensor: shape=(2, 3), dtype=int32, numpy=\n",
       "array([[ 484,    4,    9],\n",
       "       [  16, 1156,   36]])>"
      ]
     },
     "execution_count": 37,
     "metadata": {},
     "output_type": "execute_result"
    }
   ],
   "source": [
    "tf.square(var1)"
   ]
  },
  {
   "cell_type": "markdown",
   "metadata": {
    "id": "DtCZYB8xl9Kn"
   },
   "source": [
    "## [detailed link of the demo of all the funcitons in tensorflow ](https://colab.research.google.com/drive/12sBvm2ON-gAWNisJD1dpoNTdFri3dEjE?usp=sharing)"
   ]
  },
  {
   "cell_type": "markdown",
   "metadata": {
    "id": "EdzniccgmR1h"
   },
   "source": [
    "## Broadcasting in TF"
   ]
  },
  {
   "cell_type": "code",
   "execution_count": 38,
   "metadata": {
    "ExecuteTime": {
     "end_time": "2022-06-12T03:45:43.529094Z",
     "start_time": "2022-06-12T03:45:43.520118Z"
    },
    "colab": {
     "base_uri": "https://localhost:8080/"
    },
    "id": "ACsR0-WSmaEY",
    "outputId": "5da0f221-5b17-4ab6-a85e-d7fd905cf31e"
   },
   "outputs": [
    {
     "data": {
      "text/plain": [
       "<tf.Variable 'Variable:0' shape=(2, 3) dtype=int32, numpy=\n",
       "array([[22,  2,  3],\n",
       "       [ 4,  5,  6]])>"
      ]
     },
     "execution_count": 38,
     "metadata": {},
     "output_type": "execute_result"
    }
   ],
   "source": [
    "tensor"
   ]
  },
  {
   "cell_type": "code",
   "execution_count": 39,
   "metadata": {
    "ExecuteTime": {
     "end_time": "2022-06-12T03:45:43.890000Z",
     "start_time": "2022-06-12T03:45:43.803203Z"
    },
    "colab": {
     "base_uri": "https://localhost:8080/"
    },
    "id": "huV2ZAtjlvUb",
    "outputId": "13d56294-0c99-491a-bb6e-48161e69ea26"
   },
   "outputs": [
    {
     "data": {
      "text/plain": [
       "<tf.Tensor: shape=(2, 3), dtype=int32, numpy=\n",
       "array([[88,  8, 12],\n",
       "       [16, 20, 24]])>"
      ]
     },
     "execution_count": 39,
     "metadata": {},
     "output_type": "execute_result"
    }
   ],
   "source": [
    "scaler = 4\n",
    "\n",
    "scaler * tensor"
   ]
  },
  {
   "cell_type": "code",
   "execution_count": 40,
   "metadata": {
    "ExecuteTime": {
     "end_time": "2022-06-12T03:45:44.094382Z",
     "start_time": "2022-06-12T03:45:44.081385Z"
    },
    "colab": {
     "base_uri": "https://localhost:8080/"
    },
    "id": "XE1X41ncmdkd",
    "outputId": "211843c7-bc18-45e0-d4da-54e786c53670"
   },
   "outputs": [
    {
     "data": {
      "text/plain": [
       "<tf.Tensor: shape=(2, 3), dtype=int32, numpy=\n",
       "array([[26,  6,  7],\n",
       "       [ 8,  9, 10]])>"
      ]
     },
     "execution_count": 40,
     "metadata": {},
     "output_type": "execute_result"
    }
   ],
   "source": [
    "scaler + tensor"
   ]
  },
  {
   "cell_type": "code",
   "execution_count": null,
   "metadata": {
    "id": "8xPgxuQvENe9"
   },
   "outputs": [],
   "source": []
  },
  {
   "cell_type": "markdown",
   "metadata": {
    "id": "pqhfxArqnHhR"
   },
   "source": [
    "## Matrix Multiplication"
   ]
  },
  {
   "cell_type": "code",
   "execution_count": 41,
   "metadata": {
    "ExecuteTime": {
     "end_time": "2022-06-12T03:45:44.819109Z",
     "start_time": "2022-06-12T03:45:44.804114Z"
    },
    "id": "NaMDFsYynFAS"
   },
   "outputs": [],
   "source": [
    "mat_u = tf.constant([[6,7,7]])\n",
    "mat_v = tf.constant([[3,4,3]])"
   ]
  },
  {
   "cell_type": "code",
   "execution_count": 42,
   "metadata": {
    "ExecuteTime": {
     "end_time": "2022-06-12T03:45:45.084602Z",
     "start_time": "2022-06-12T03:45:45.066650Z"
    },
    "colab": {
     "base_uri": "https://localhost:8080/"
    },
    "id": "EOSqMEkfnLag",
    "outputId": "78acbb07-ae7c-46e9-c432-44c4536e5688"
   },
   "outputs": [
    {
     "data": {
      "text/plain": [
       "TensorShape([1, 3])"
      ]
     },
     "execution_count": 42,
     "metadata": {},
     "output_type": "execute_result"
    }
   ],
   "source": [
    "mat_u.shape"
   ]
  },
  {
   "cell_type": "code",
   "execution_count": 43,
   "metadata": {
    "ExecuteTime": {
     "end_time": "2022-06-12T03:45:45.351901Z",
     "start_time": "2022-06-12T03:45:45.331956Z"
    },
    "colab": {
     "base_uri": "https://localhost:8080/"
    },
    "id": "V41yml_mnNj8",
    "outputId": "33dfc60f-fb89-4317-d49f-40f633422580"
   },
   "outputs": [
    {
     "data": {
      "text/plain": [
       "TensorShape([1, 3])"
      ]
     },
     "execution_count": 43,
     "metadata": {},
     "output_type": "execute_result"
    }
   ],
   "source": [
    "mat_v.shape"
   ]
  },
  {
   "cell_type": "markdown",
   "metadata": {
    "id": "dA9B2vHjnUzH"
   },
   "source": [
    "Rule: column of mat A = row of matrix B. If you are multiplying AB"
   ]
  },
  {
   "cell_type": "code",
   "execution_count": 44,
   "metadata": {
    "ExecuteTime": {
     "end_time": "2022-06-12T03:45:46.122261Z",
     "start_time": "2022-06-12T03:45:46.028522Z"
    },
    "colab": {
     "base_uri": "https://localhost:8080/",
     "height": 312
    },
    "id": "RS4UDhxrnPKX",
    "outputId": "fb13821c-899d-4791-f3f8-704c805dad73"
   },
   "outputs": [
    {
     "ename": "InvalidArgumentError",
     "evalue": "Matrix size-incompatible: In[0]: [1,3], In[1]: [1,3] [Op:MatMul]",
     "output_type": "error",
     "traceback": [
      "\u001b[1;31m---------------------------------------------------------------------------\u001b[0m",
      "\u001b[1;31mInvalidArgumentError\u001b[0m                      Traceback (most recent call last)",
      "\u001b[1;32m~\\AppData\\Local\\Temp/ipykernel_13384/1835449172.py\u001b[0m in \u001b[0;36m<module>\u001b[1;34m\u001b[0m\n\u001b[1;32m----> 1\u001b[1;33m \u001b[0mtf\u001b[0m\u001b[1;33m.\u001b[0m\u001b[0mmatmul\u001b[0m\u001b[1;33m(\u001b[0m\u001b[0mmat_u\u001b[0m\u001b[1;33m,\u001b[0m \u001b[0mmat_v\u001b[0m\u001b[1;33m)\u001b[0m\u001b[1;33m\u001b[0m\u001b[1;33m\u001b[0m\u001b[0m\n\u001b[0m",
      "\u001b[1;32mD:\\IDEs\\Anaconda\\lib\\site-packages\\tensorflow\\python\\util\\traceback_utils.py\u001b[0m in \u001b[0;36merror_handler\u001b[1;34m(*args, **kwargs)\u001b[0m\n\u001b[0;32m    151\u001b[0m     \u001b[1;32mexcept\u001b[0m \u001b[0mException\u001b[0m \u001b[1;32mas\u001b[0m \u001b[0me\u001b[0m\u001b[1;33m:\u001b[0m\u001b[1;33m\u001b[0m\u001b[1;33m\u001b[0m\u001b[0m\n\u001b[0;32m    152\u001b[0m       \u001b[0mfiltered_tb\u001b[0m \u001b[1;33m=\u001b[0m \u001b[0m_process_traceback_frames\u001b[0m\u001b[1;33m(\u001b[0m\u001b[0me\u001b[0m\u001b[1;33m.\u001b[0m\u001b[0m__traceback__\u001b[0m\u001b[1;33m)\u001b[0m\u001b[1;33m\u001b[0m\u001b[1;33m\u001b[0m\u001b[0m\n\u001b[1;32m--> 153\u001b[1;33m       \u001b[1;32mraise\u001b[0m \u001b[0me\u001b[0m\u001b[1;33m.\u001b[0m\u001b[0mwith_traceback\u001b[0m\u001b[1;33m(\u001b[0m\u001b[0mfiltered_tb\u001b[0m\u001b[1;33m)\u001b[0m \u001b[1;32mfrom\u001b[0m \u001b[1;32mNone\u001b[0m\u001b[1;33m\u001b[0m\u001b[1;33m\u001b[0m\u001b[0m\n\u001b[0m\u001b[0;32m    154\u001b[0m     \u001b[1;32mfinally\u001b[0m\u001b[1;33m:\u001b[0m\u001b[1;33m\u001b[0m\u001b[1;33m\u001b[0m\u001b[0m\n\u001b[0;32m    155\u001b[0m       \u001b[1;32mdel\u001b[0m \u001b[0mfiltered_tb\u001b[0m\u001b[1;33m\u001b[0m\u001b[1;33m\u001b[0m\u001b[0m\n",
      "\u001b[1;32mD:\\IDEs\\Anaconda\\lib\\site-packages\\tensorflow\\python\\framework\\ops.py\u001b[0m in \u001b[0;36mraise_from_not_ok_status\u001b[1;34m(e, name)\u001b[0m\n\u001b[0;32m   7184\u001b[0m \u001b[1;32mdef\u001b[0m \u001b[0mraise_from_not_ok_status\u001b[0m\u001b[1;33m(\u001b[0m\u001b[0me\u001b[0m\u001b[1;33m,\u001b[0m \u001b[0mname\u001b[0m\u001b[1;33m)\u001b[0m\u001b[1;33m:\u001b[0m\u001b[1;33m\u001b[0m\u001b[1;33m\u001b[0m\u001b[0m\n\u001b[0;32m   7185\u001b[0m   \u001b[0me\u001b[0m\u001b[1;33m.\u001b[0m\u001b[0mmessage\u001b[0m \u001b[1;33m+=\u001b[0m \u001b[1;33m(\u001b[0m\u001b[1;34m\" name: \"\u001b[0m \u001b[1;33m+\u001b[0m \u001b[0mname\u001b[0m \u001b[1;32mif\u001b[0m \u001b[0mname\u001b[0m \u001b[1;32mis\u001b[0m \u001b[1;32mnot\u001b[0m \u001b[1;32mNone\u001b[0m \u001b[1;32melse\u001b[0m \u001b[1;34m\"\"\u001b[0m\u001b[1;33m)\u001b[0m\u001b[1;33m\u001b[0m\u001b[1;33m\u001b[0m\u001b[0m\n\u001b[1;32m-> 7186\u001b[1;33m   \u001b[1;32mraise\u001b[0m \u001b[0mcore\u001b[0m\u001b[1;33m.\u001b[0m\u001b[0m_status_to_exception\u001b[0m\u001b[1;33m(\u001b[0m\u001b[0me\u001b[0m\u001b[1;33m)\u001b[0m \u001b[1;32mfrom\u001b[0m \u001b[1;32mNone\u001b[0m  \u001b[1;31m# pylint: disable=protected-access\u001b[0m\u001b[1;33m\u001b[0m\u001b[1;33m\u001b[0m\u001b[0m\n\u001b[0m\u001b[0;32m   7187\u001b[0m \u001b[1;33m\u001b[0m\u001b[0m\n\u001b[0;32m   7188\u001b[0m \u001b[1;33m\u001b[0m\u001b[0m\n",
      "\u001b[1;31mInvalidArgumentError\u001b[0m: Matrix size-incompatible: In[0]: [1,3], In[1]: [1,3] [Op:MatMul]"
     ]
    }
   ],
   "source": [
    "tf.matmul(mat_u, mat_v)"
   ]
  },
  {
   "cell_type": "code",
   "execution_count": 45,
   "metadata": {
    "ExecuteTime": {
     "end_time": "2022-06-12T03:45:46.324648Z",
     "start_time": "2022-06-12T03:45:46.284723Z"
    },
    "colab": {
     "base_uri": "https://localhost:8080/"
    },
    "id": "EiQfLYbtniSY",
    "outputId": "54874cff-5874-4830-f1d7-575d41ad420e"
   },
   "outputs": [
    {
     "data": {
      "text/plain": [
       "<tf.Tensor: shape=(1, 1), dtype=int32, numpy=array([[67]])>"
      ]
     },
     "execution_count": 45,
     "metadata": {},
     "output_type": "execute_result"
    }
   ],
   "source": [
    "tf.matmul(mat_u, tf.transpose(mat_v))"
   ]
  },
  {
   "cell_type": "code",
   "execution_count": 46,
   "metadata": {
    "ExecuteTime": {
     "end_time": "2022-06-12T03:45:46.543962Z",
     "start_time": "2022-06-12T03:45:46.522983Z"
    },
    "colab": {
     "base_uri": "https://localhost:8080/"
    },
    "id": "EOOTxICDn5w7",
    "outputId": "a5051fea-fd07-41c7-b4f5-0cb988c7c6e3"
   },
   "outputs": [
    {
     "data": {
      "text/plain": [
       "<tf.Tensor: shape=(1, 1), dtype=int32, numpy=array([[67]])>"
      ]
     },
     "execution_count": 46,
     "metadata": {},
     "output_type": "execute_result"
    }
   ],
   "source": [
    "## alternative to above\n",
    "\n",
    "mat_u @ tf.transpose(mat_v)"
   ]
  },
  {
   "cell_type": "code",
   "execution_count": 47,
   "metadata": {
    "ExecuteTime": {
     "end_time": "2022-06-12T03:45:47.185401Z",
     "start_time": "2022-06-12T03:45:47.164458Z"
    },
    "colab": {
     "base_uri": "https://localhost:8080/"
    },
    "id": "zaC139UbnqEY",
    "outputId": "9709529b-c4cf-423c-cb7f-1a646f93587b"
   },
   "outputs": [
    {
     "data": {
      "text/plain": [
       "<tf.Tensor: shape=(3, 3), dtype=int32, numpy=\n",
       "array([[18, 24, 18],\n",
       "       [21, 28, 21],\n",
       "       [21, 28, 21]])>"
      ]
     },
     "execution_count": 47,
     "metadata": {},
     "output_type": "execute_result"
    }
   ],
   "source": [
    "tf.matmul(tf.transpose(mat_u), mat_v)"
   ]
  },
  {
   "cell_type": "code",
   "execution_count": 48,
   "metadata": {
    "ExecuteTime": {
     "end_time": "2022-06-12T03:45:47.481238Z",
     "start_time": "2022-06-12T03:45:47.427379Z"
    },
    "colab": {
     "base_uri": "https://localhost:8080/"
    },
    "id": "HREUXEtNnzRQ",
    "outputId": "37a5f053-db16-47bd-dd5f-996d0824a254"
   },
   "outputs": [
    {
     "data": {
      "text/plain": [
       "<tf.Tensor: shape=(1, 3), dtype=int32, numpy=array([[18, 28, 21]])>"
      ]
     },
     "execution_count": 48,
     "metadata": {},
     "output_type": "execute_result"
    }
   ],
   "source": [
    "mat_u * mat_v # element wise multiplication\n",
    "# shape of both should be same"
   ]
  },
  {
   "cell_type": "markdown",
   "metadata": {
    "id": "p18KORyPoSos"
   },
   "source": [
    "## Casting method in tf to change the data type "
   ]
  },
  {
   "cell_type": "code",
   "execution_count": 49,
   "metadata": {
    "ExecuteTime": {
     "end_time": "2022-06-12T03:45:48.090959Z",
     "start_time": "2022-06-12T03:45:48.079990Z"
    },
    "colab": {
     "base_uri": "https://localhost:8080/"
    },
    "id": "fwxDsyHSoDbv",
    "outputId": "0a67e614-7a0c-4245-d2d0-5c583d24fbde"
   },
   "outputs": [
    {
     "data": {
      "text/plain": [
       "tf.int32"
      ]
     },
     "execution_count": 49,
     "metadata": {},
     "output_type": "execute_result"
    }
   ],
   "source": [
    "mat_u.dtype"
   ]
  },
  {
   "cell_type": "code",
   "execution_count": 50,
   "metadata": {
    "ExecuteTime": {
     "end_time": "2022-06-12T03:45:48.437191Z",
     "start_time": "2022-06-12T03:45:48.331432Z"
    },
    "colab": {
     "base_uri": "https://localhost:8080/"
    },
    "id": "s3l3utrYoa9h",
    "outputId": "5a41d298-f610-4f1a-ae1d-44950304f41b"
   },
   "outputs": [
    {
     "data": {
      "text/plain": [
       "<tf.Tensor: shape=(1, 3), dtype=int16, numpy=array([[6, 7, 7]], dtype=int16)>"
      ]
     },
     "execution_count": 50,
     "metadata": {},
     "output_type": "execute_result"
    }
   ],
   "source": [
    "tf.cast(mat_u, dtype=tf.int16) ## can be used in quantizing a model to save the space in the memory allocation\n"
   ]
  },
  {
   "cell_type": "code",
   "execution_count": 51,
   "metadata": {
    "ExecuteTime": {
     "end_time": "2022-06-12T03:45:48.608910Z",
     "start_time": "2022-06-12T03:45:48.594948Z"
    },
    "id": "m5VbyvGioftA"
   },
   "outputs": [
    {
     "data": {
      "text/plain": [
       "34.34"
      ]
     },
     "execution_count": 51,
     "metadata": {},
     "output_type": "execute_result"
    }
   ],
   "source": [
    "34.34343434 ## <<< THis will be more precise\n",
    "34.34"
   ]
  },
  {
   "cell_type": "markdown",
   "metadata": {
    "id": "jj1zVVbKpqnk"
   },
   "source": [
    "## Ragged tensors\n",
    "nested variable length arrays"
   ]
  },
  {
   "cell_type": "code",
   "execution_count": 52,
   "metadata": {
    "ExecuteTime": {
     "end_time": "2022-06-12T03:45:49.266200Z",
     "start_time": "2022-06-12T03:45:49.253236Z"
    },
    "id": "bYF-7TogpvVN"
   },
   "outputs": [],
   "source": [
    "ragged = tf.ragged.constant([[1,2,4,5,6], [1], [135,1]])"
   ]
  },
  {
   "cell_type": "code",
   "execution_count": 53,
   "metadata": {
    "ExecuteTime": {
     "end_time": "2022-06-12T03:45:49.565425Z",
     "start_time": "2022-06-12T03:45:49.556449Z"
    },
    "colab": {
     "base_uri": "https://localhost:8080/"
    },
    "id": "WtoKcYpLqG58",
    "outputId": "18364831-a310-40f0-e92a-ee937c1c24b7"
   },
   "outputs": [
    {
     "data": {
      "text/plain": [
       "TensorShape([3, None])"
      ]
     },
     "execution_count": 53,
     "metadata": {},
     "output_type": "execute_result"
    }
   ],
   "source": [
    "ragged.shape"
   ]
  },
  {
   "cell_type": "code",
   "execution_count": 54,
   "metadata": {
    "ExecuteTime": {
     "end_time": "2022-06-12T03:45:50.004581Z",
     "start_time": "2022-06-12T03:45:49.915509Z"
    },
    "colab": {
     "base_uri": "https://localhost:8080/"
    },
    "id": "kTGK17eAqI0d",
    "outputId": "cf046329-2a06-4afe-f2ce-8dfa097d47e2"
   },
   "outputs": [
    {
     "data": {
      "text/plain": [
       "TensorShape([5])"
      ]
     },
     "execution_count": 54,
     "metadata": {},
     "output_type": "execute_result"
    }
   ],
   "source": [
    "ragged[0].shape"
   ]
  },
  {
   "cell_type": "code",
   "execution_count": 55,
   "metadata": {
    "ExecuteTime": {
     "end_time": "2022-06-12T03:45:50.494704Z",
     "start_time": "2022-06-12T03:45:50.475720Z"
    },
    "colab": {
     "base_uri": "https://localhost:8080/"
    },
    "id": "E8NZsLNcql3w",
    "outputId": "a91c2d5b-164c-4a9f-af8b-43e1d500805f"
   },
   "outputs": [
    {
     "data": {
      "text/plain": [
       "TensorShape([1])"
      ]
     },
     "execution_count": 55,
     "metadata": {},
     "output_type": "execute_result"
    }
   ],
   "source": [
    "ragged[1].shape\n"
   ]
  },
  {
   "cell_type": "code",
   "execution_count": null,
   "metadata": {
    "id": "ZqZWsSERqqjn"
   },
   "outputs": [],
   "source": []
  },
  {
   "cell_type": "markdown",
   "metadata": {
    "id": "qAT-uLabv5nj"
   },
   "source": [
    "## Checkpointing to restore the matrix vals"
   ]
  },
  {
   "cell_type": "code",
   "execution_count": 56,
   "metadata": {
    "ExecuteTime": {
     "end_time": "2022-06-12T03:45:51.547765Z",
     "start_time": "2022-06-12T03:45:51.468300Z"
    },
    "colab": {
     "base_uri": "https://localhost:8080/"
    },
    "id": "rLV5-4Upv6Hu",
    "outputId": "83485539-bdde-41f9-9074-8abb1e0254f4"
   },
   "outputs": [
    {
     "data": {
      "text/plain": [
       "<tf.Variable 'Variable:0' shape=(5, 5) dtype=float32, numpy=\n",
       "array([[5., 5., 5., 5., 5.],\n",
       "       [5., 5., 5., 5., 5.],\n",
       "       [5., 5., 5., 5., 5.],\n",
       "       [5., 5., 5., 5., 5.],\n",
       "       [5., 5., 5., 5., 5.]], dtype=float32)>"
      ]
     },
     "execution_count": 56,
     "metadata": {},
     "output_type": "execute_result"
    }
   ],
   "source": [
    "var1 = tf.Variable(5*tf.ones((5,5)))\n",
    "\n",
    "var1"
   ]
  },
  {
   "cell_type": "code",
   "execution_count": 57,
   "metadata": {
    "ExecuteTime": {
     "end_time": "2022-06-12T03:45:52.377641Z",
     "start_time": "2022-06-12T03:45:51.778740Z"
    },
    "id": "XSI1knpIwAi0"
   },
   "outputs": [],
   "source": [
    "ckpt = tf.train.Checkpoint(var=var1)\n",
    "# check point file\n",
    "savepath = ckpt.save(\"./vars.ckpt\")"
   ]
  },
  {
   "cell_type": "code",
   "execution_count": 58,
   "metadata": {
    "ExecuteTime": {
     "end_time": "2022-06-12T03:45:52.549201Z",
     "start_time": "2022-06-12T03:45:52.529255Z"
    },
    "colab": {
     "base_uri": "https://localhost:8080/"
    },
    "id": "an6n07dQwTyW",
    "outputId": "63c7b146-f8d1-4f76-f9b7-2a70e2feb363"
   },
   "outputs": [
    {
     "data": {
      "text/plain": [
       "<tf.Variable 'UnreadVariable' shape=(5, 5) dtype=float32, numpy=\n",
       "array([[0., 0., 0., 0., 0.],\n",
       "       [0., 0., 0., 0., 0.],\n",
       "       [0., 0., 0., 0., 0.],\n",
       "       [0., 0., 0., 0., 0.],\n",
       "       [0., 0., 0., 0., 0.]], dtype=float32)>"
      ]
     },
     "execution_count": 58,
     "metadata": {},
     "output_type": "execute_result"
    }
   ],
   "source": [
    "# update variable\n",
    "var1.assign(tf.zeros((5,5)))"
   ]
  },
  {
   "cell_type": "code",
   "execution_count": 59,
   "metadata": {
    "ExecuteTime": {
     "end_time": "2022-06-12T03:46:29.669337Z",
     "start_time": "2022-06-12T03:46:29.652350Z"
    },
    "colab": {
     "base_uri": "https://localhost:8080/"
    },
    "id": "9gGRqL7dwhPI",
    "outputId": "a9fff089-6a84-4dde-80a9-671ecf8b7bb1"
   },
   "outputs": [
    {
     "data": {
      "text/plain": [
       "<tf.Variable 'Variable:0' shape=(5, 5) dtype=float32, numpy=\n",
       "array([[0., 0., 0., 0., 0.],\n",
       "       [0., 0., 0., 0., 0.],\n",
       "       [0., 0., 0., 0., 0.],\n",
       "       [0., 0., 0., 0., 0.],\n",
       "       [0., 0., 0., 0., 0.]], dtype=float32)>"
      ]
     },
     "execution_count": 59,
     "metadata": {},
     "output_type": "execute_result"
    }
   ],
   "source": [
    "var1"
   ]
  },
  {
   "cell_type": "code",
   "execution_count": 60,
   "metadata": {
    "ExecuteTime": {
     "end_time": "2022-06-12T03:46:30.590599Z",
     "start_time": "2022-06-12T03:46:30.348795Z"
    },
    "colab": {
     "base_uri": "https://localhost:8080/"
    },
    "id": "yCoyeJpAwiUi",
    "outputId": "91dfc77e-902d-47c7-f2db-a61bd36303c8"
   },
   "outputs": [
    {
     "data": {
      "text/plain": [
       "<tensorflow.python.training.tracking.util.CheckpointLoadStatus at 0x1f88b0aa3c8>"
      ]
     },
     "execution_count": 60,
     "metadata": {},
     "output_type": "execute_result"
    }
   ],
   "source": [
    "# restore the old values \n",
    "\n",
    "ckpt.restore(savepath)"
   ]
  },
  {
   "cell_type": "code",
   "execution_count": 61,
   "metadata": {
    "ExecuteTime": {
     "end_time": "2022-06-12T03:46:30.731682Z",
     "start_time": "2022-06-12T03:46:30.714731Z"
    },
    "colab": {
     "base_uri": "https://localhost:8080/"
    },
    "id": "l-P_BslPwnCR",
    "outputId": "f4539b26-e295-4ac1-d8f1-693469a3ef17"
   },
   "outputs": [
    {
     "data": {
      "text/plain": [
       "<tf.Variable 'Variable:0' shape=(5, 5) dtype=float32, numpy=\n",
       "array([[5., 5., 5., 5., 5.],\n",
       "       [5., 5., 5., 5., 5.],\n",
       "       [5., 5., 5., 5., 5.],\n",
       "       [5., 5., 5., 5., 5.],\n",
       "       [5., 5., 5., 5., 5.]], dtype=float32)>"
      ]
     },
     "execution_count": 61,
     "metadata": {},
     "output_type": "execute_result"
    }
   ],
   "source": [
    "var1"
   ]
  },
  {
   "cell_type": "markdown",
   "metadata": {},
   "source": [
    "**This is the how the model saves the weights and biases during the model training**"
   ]
  },
  {
   "cell_type": "markdown",
   "metadata": {
    "id": "J2M7RpwYxl_A"
   },
   "source": [
    "## tf.function"
   ]
  },
  {
   "cell_type": "markdown",
   "metadata": {
    "id": "rg2SL5goxpFa"
   },
   "source": [
    "$z = x^3 * 6 + y^3$"
   ]
  },
  {
   "cell_type": "code",
   "execution_count": 62,
   "metadata": {
    "ExecuteTime": {
     "end_time": "2022-06-12T03:48:02.907811Z",
     "start_time": "2022-06-12T03:48:02.894848Z"
    },
    "id": "8F64OaDywoDs"
   },
   "outputs": [],
   "source": [
    "def f1(x, y):\n",
    "    input_var = tf.multiply(x ** 3, 6) + y ** 3\n",
    "    return tf.reduce_mean(input_tensor=input_var)"
   ]
  },
  {
   "cell_type": "code",
   "execution_count": 63,
   "metadata": {
    "ExecuteTime": {
     "end_time": "2022-06-12T03:48:03.252526Z",
     "start_time": "2022-06-12T03:48:03.237534Z"
    },
    "id": "-IySBRVUyGEf"
   },
   "outputs": [],
   "source": [
    "# f1 is treated as tensorflow function\n",
    "\n",
    "func = tf.function(f1)"
   ]
  },
  {
   "cell_type": "code",
   "execution_count": 64,
   "metadata": {
    "ExecuteTime": {
     "end_time": "2022-06-12T03:48:04.001628Z",
     "start_time": "2022-06-12T03:48:03.982676Z"
    },
    "id": "6ZCpqKLwyKVh"
   },
   "outputs": [],
   "source": [
    "x = tf.constant([3.,-4.])\n",
    "y = tf.constant([1.,4.])"
   ]
  },
  {
   "cell_type": "code",
   "execution_count": 65,
   "metadata": {
    "ExecuteTime": {
     "end_time": "2022-06-12T03:48:04.467443Z",
     "start_time": "2022-06-12T03:48:04.332757Z"
    },
    "colab": {
     "base_uri": "https://localhost:8080/"
    },
    "id": "4kamzCA4yZFz",
    "outputId": "89dd5980-2ee8-4636-92b0-e712cb5ed1af"
   },
   "outputs": [
    {
     "data": {
      "text/plain": [
       "<tf.Tensor: shape=(), dtype=float32, numpy=-78.5>"
      ]
     },
     "execution_count": 65,
     "metadata": {},
     "output_type": "execute_result"
    }
   ],
   "source": [
    "f1(x,y) ## using a simple python function"
   ]
  },
  {
   "cell_type": "code",
   "execution_count": 66,
   "metadata": {
    "ExecuteTime": {
     "end_time": "2022-06-12T03:48:08.003032Z",
     "start_time": "2022-06-12T03:48:05.502201Z"
    },
    "colab": {
     "base_uri": "https://localhost:8080/"
    },
    "id": "9Bvfw7pjybpX",
    "outputId": "3451f775-78d1-4242-f7b7-583a5763bd6c"
   },
   "outputs": [
    {
     "data": {
      "text/plain": [
       "<tf.Tensor: shape=(), dtype=float32, numpy=-78.5>"
      ]
     },
     "execution_count": 66,
     "metadata": {},
     "output_type": "execute_result"
    }
   ],
   "source": [
    "\n",
    "func(x, y)"
   ]
  },
  {
   "cell_type": "code",
   "execution_count": 67,
   "metadata": {
    "ExecuteTime": {
     "end_time": "2022-06-12T03:48:13.278569Z",
     "start_time": "2022-06-12T03:48:13.261616Z"
    },
    "id": "g55tgSuhym4_"
   },
   "outputs": [],
   "source": [
    "@tf.function ## tf decorator function\n",
    "\n",
    "def f2(x, y):\n",
    "    input_var = tf.multiply(x ** 3, 6) + y ** 3\n",
    "    return tf.reduce_mean(input_tensor=input_var)"
   ]
  },
  {
   "cell_type": "code",
   "execution_count": 76,
   "metadata": {
    "ExecuteTime": {
     "end_time": "2022-06-12T03:54:43.670524Z",
     "start_time": "2022-06-12T03:54:43.650583Z"
    },
    "colab": {
     "base_uri": "https://localhost:8080/"
    },
    "id": "GPU5St1Wzjp9",
    "outputId": "3fc85d0c-a52b-4b3b-cd2c-ef8e986a9687"
   },
   "outputs": [
    {
     "data": {
      "text/plain": [
       "<tf.Tensor: shape=(), dtype=float32, numpy=-78.5>"
      ]
     },
     "execution_count": 76,
     "metadata": {},
     "output_type": "execute_result"
    }
   ],
   "source": [
    "# this is treated as tensorflow function since we havew writen @tf.function on top of it\n",
    "f2(x,y)"
   ]
  },
  {
   "cell_type": "markdown",
   "metadata": {
    "id": "-_v_LMbGzuPs"
   },
   "source": [
    "## Example of decorator\n",
    "\n",
    "\n",
    "Used to add extra functionality to the method"
   ]
  },
  {
   "cell_type": "code",
   "execution_count": 77,
   "metadata": {
    "ExecuteTime": {
     "end_time": "2022-06-12T03:54:46.240379Z",
     "start_time": "2022-06-12T03:54:46.234425Z"
    },
    "id": "Tpy9lAAzzmd-"
   },
   "outputs": [],
   "source": [
    "def print_me():\n",
    "    print(\"Hi FSDS\")"
   ]
  },
  {
   "cell_type": "code",
   "execution_count": 70,
   "metadata": {
    "ExecuteTime": {
     "end_time": "2022-06-12T03:48:20.343245Z",
     "start_time": "2022-06-12T03:48:20.333275Z"
    },
    "colab": {
     "base_uri": "https://localhost:8080/"
    },
    "id": "ljMsYpd1z2mR",
    "outputId": "6a81ca4d-2938-4e32-dce1-aca4d38dd37b"
   },
   "outputs": [
    {
     "name": "stdout",
     "output_type": "stream",
     "text": [
      "Hi FSDS\n"
     ]
    }
   ],
   "source": [
    "print_me()"
   ]
  },
  {
   "cell_type": "code",
   "execution_count": 71,
   "metadata": {
    "ExecuteTime": {
     "end_time": "2022-06-12T03:48:20.669395Z",
     "start_time": "2022-06-12T03:48:20.659405Z"
    },
    "colab": {
     "base_uri": "https://localhost:8080/"
    },
    "id": "b5dD9LUsz6Vu",
    "outputId": "aeafbe7d-1a01-4e63-9801-a252cd00e26e"
   },
   "outputs": [
    {
     "name": "stdout",
     "output_type": "stream",
     "text": [
      "****************************************\n",
      "Hi FSDS\n",
      "****************************************\n"
     ]
    }
   ],
   "source": [
    "# simple aprroach\n",
    "print(\"**\"*20)\n",
    "print_me()\n",
    "print(\"**\"*20)"
   ]
  },
  {
   "cell_type": "code",
   "execution_count": 74,
   "metadata": {
    "ExecuteTime": {
     "end_time": "2022-06-12T03:48:54.347518Z",
     "start_time": "2022-06-12T03:48:54.336551Z"
    },
    "id": "VncvEoMt0Aka"
   },
   "outputs": [],
   "source": [
    "# we can do the same thing as above with decorate function\n",
    "def decorate_it(input_func):\n",
    "    def decorated_func():\n",
    "        print(\"**\"*20)\n",
    "        input_func()\n",
    "        print(\"**\"*20)\n",
    "\n",
    "    return decorated_func"
   ]
  },
  {
   "cell_type": "code",
   "execution_count": 75,
   "metadata": {
    "ExecuteTime": {
     "end_time": "2022-06-12T03:48:55.438623Z",
     "start_time": "2022-06-12T03:48:55.425658Z"
    },
    "colab": {
     "base_uri": "https://localhost:8080/"
    },
    "id": "KA5UZUs20YF_",
    "outputId": "20a47793-b013-4632-9f7b-460338e3273c"
   },
   "outputs": [
    {
     "name": "stdout",
     "output_type": "stream",
     "text": [
      "****************************************\n",
      "Hi FSDS\n",
      "****************************************\n"
     ]
    }
   ],
   "source": [
    "decorated_func = decorate_it(print_me)\n",
    "\n",
    "decorated_func()"
   ]
  },
  {
   "cell_type": "markdown",
   "metadata": {},
   "source": [
    "**The above appraoch not the best way to call decorator function. Instead add @decorator_function_name on top of your method**"
   ]
  },
  {
   "cell_type": "code",
   "execution_count": 78,
   "metadata": {
    "ExecuteTime": {
     "end_time": "2022-06-12T03:57:53.277177Z",
     "start_time": "2022-06-12T03:57:53.255241Z"
    },
    "id": "XHS0wqQw0gR1"
   },
   "outputs": [],
   "source": [
    "# best approch\n",
    "\n",
    "@decorate_it\n",
    "def print_me2():\n",
    "  print(\"Hi FSDS\")"
   ]
  },
  {
   "cell_type": "code",
   "execution_count": 79,
   "metadata": {
    "ExecuteTime": {
     "end_time": "2022-06-12T03:57:58.314603Z",
     "start_time": "2022-06-12T03:57:58.308619Z"
    },
    "colab": {
     "base_uri": "https://localhost:8080/"
    },
    "id": "vVfJKwph0tt4",
    "outputId": "4bbdd622-605a-4d3c-e0c4-61e896a73c97"
   },
   "outputs": [
    {
     "name": "stdout",
     "output_type": "stream",
     "text": [
      "****************************************\n",
      "Hi FSDS\n",
      "****************************************\n"
     ]
    }
   ],
   "source": [
    "print_me2()"
   ]
  },
  {
   "cell_type": "code",
   "execution_count": 82,
   "metadata": {
    "ExecuteTime": {
     "end_time": "2022-06-12T03:58:06.025357Z",
     "start_time": "2022-06-12T03:58:06.007372Z"
    },
    "id": "ZINfTl460vJP"
   },
   "outputs": [],
   "source": [
    "@decorate_it\n",
    "def print_my_name():\n",
    "  print(\"Maverick\")"
   ]
  },
  {
   "cell_type": "code",
   "execution_count": 83,
   "metadata": {
    "ExecuteTime": {
     "end_time": "2022-06-12T03:58:06.510100Z",
     "start_time": "2022-06-12T03:58:06.497575Z"
    },
    "colab": {
     "base_uri": "https://localhost:8080/"
    },
    "id": "s3GgJKU905JF",
    "outputId": "8a651e08-701d-45b3-a917-3c07c4f8a373"
   },
   "outputs": [
    {
     "name": "stdout",
     "output_type": "stream",
     "text": [
      "****************************************\n",
      "Maverick\n",
      "****************************************\n"
     ]
    }
   ],
   "source": [
    "print_my_name()"
   ]
  },
  {
   "cell_type": "markdown",
   "metadata": {
    "id": "S8rmVScp1d8b"
   },
   "source": [
    "# Calculation of Gradients in tf"
   ]
  },
  {
   "cell_type": "code",
   "execution_count": null,
   "metadata": {
    "id": "PR-iXxml066Y"
   },
   "outputs": [],
   "source": [
    "x = tf.random.normal(shape=(2,2)) ## this creates a const by default\n",
    "y = tf.random.normal(shape=(2,2))"
   ]
  },
  {
   "cell_type": "markdown",
   "metadata": {
    "id": "uEp1aP4w1pJJ"
   },
   "source": [
    "$f(x,y) = \\sqrt{(x^2 + y^2)}$\n",
    "\n",
    "$\\nabla f(x,y) = \\frac{\\partial f}{\\partial x} \\hat{\\imath} + \\frac{\\partial f}{\\partial y} \\hat{\\jmath}$"
   ]
  },
  {
   "cell_type": "code",
   "execution_count": 85,
   "metadata": {
    "ExecuteTime": {
     "end_time": "2022-06-12T04:04:10.233570Z",
     "start_time": "2022-06-12T04:04:10.216621Z"
    },
    "colab": {
     "base_uri": "https://localhost:8080/"
    },
    "id": "svzN56yi1oRJ",
    "outputId": "0d475ae5-bbab-4261-ce8d-0f482d205207",
    "run_control": {
     "marked": true
    }
   },
   "outputs": [
    {
     "name": "stdout",
     "output_type": "stream",
     "text": [
      "tf.Tensor([ 0.94868326 -0.70710677], shape=(2,), dtype=float32)\n"
     ]
    }
   ],
   "source": [
    "# for calculating gradient use tf.GradientTape\n",
    "\n",
    "with tf.GradientTape() as tape:\n",
    "    tape.watch(x) ### <<< I want to calculate gradient wrt x\n",
    "    # define  f\n",
    "    f = tf.sqrt(tf.square(x) + tf.square(y))\n",
    "    # gradient of f w.r.t x\n",
    "    df_dx = tape.gradient(f, x)\n",
    "\n",
    "    print(df_dx)"
   ]
  },
  {
   "cell_type": "code",
   "execution_count": 86,
   "metadata": {
    "ExecuteTime": {
     "end_time": "2022-06-12T04:04:10.499386Z",
     "start_time": "2022-06-12T04:04:10.473462Z"
    },
    "colab": {
     "base_uri": "https://localhost:8080/"
    },
    "id": "TEdK3IHc2nlN",
    "outputId": "b44eb4f2-d55b-45be-8408-ccbd8eebb5ba"
   },
   "outputs": [
    {
     "name": "stdout",
     "output_type": "stream",
     "text": [
      "tf.Tensor([0.31622776 0.70710677], shape=(2,), dtype=float32)\n"
     ]
    }
   ],
   "source": [
    "with tf.GradientTape() as tape:\n",
    "    tape.watch(y) ### <<< I want to calculate grad wrt y\n",
    "    f = tf.sqrt(tf.square(x) + tf.square(y))\n",
    "\n",
    "    df_dy = tape.gradient(f, y)\n",
    "\n",
    "    print(df_dy)"
   ]
  },
  {
   "cell_type": "code",
   "execution_count": 87,
   "metadata": {
    "ExecuteTime": {
     "end_time": "2022-06-12T04:04:10.781790Z",
     "start_time": "2022-06-12T04:04:10.766831Z"
    },
    "colab": {
     "base_uri": "https://localhost:8080/"
    },
    "id": "cUOQFNY0262l",
    "outputId": "707178eb-1b93-4250-f263-93ca6823b7ea"
   },
   "outputs": [
    {
     "name": "stdout",
     "output_type": "stream",
     "text": [
      "tf.Tensor([ 0.94868326 -0.70710677], shape=(2,), dtype=float32)\n",
      "tf.Tensor([0.31622776 0.70710677], shape=(2,), dtype=float32)\n"
     ]
    }
   ],
   "source": [
    "# differentite both x and y in same function\n",
    "## tf.watch is only needed when X and Y are not variables\n",
    "\n",
    "with tf.GradientTape() as tape:\n",
    "    tape.watch(y) ### <<< I want to calculate grad wrt y\n",
    "    tape.watch(x) ### <<< I want to calculate grad wrt x\n",
    "    #define your function\n",
    "    f = tf.sqrt(tf.square(x) + tf.square(y))\n",
    "\n",
    "    df_dx, df_dy = tape.gradient(f, [x, y]) ## partial diff wrt x and y\n",
    "\n",
    "    print(df_dx)\n",
    "    print(df_dy)"
   ]
  },
  {
   "cell_type": "code",
   "execution_count": 92,
   "metadata": {
    "ExecuteTime": {
     "end_time": "2022-06-12T04:07:49.434194Z",
     "start_time": "2022-06-12T04:07:49.413212Z"
    },
    "colab": {
     "base_uri": "https://localhost:8080/"
    },
    "id": "_VEsoD9A3LDV",
    "outputId": "f4006af5-85cc-4e4c-dbd3-eae5e12ca78b"
   },
   "outputs": [
    {
     "name": "stdout",
     "output_type": "stream",
     "text": [
      "tf.Tensor(\n",
      "[[ 0.6782976   0.99999964]\n",
      " [-0.67022717 -0.7783319 ]], shape=(2, 2), dtype=float32)\n",
      "tf.Tensor(\n",
      "[[-0.7347873   0.00091801]\n",
      " [ 0.742156   -0.62785304]], shape=(2, 2), dtype=float32)\n"
     ]
    }
   ],
   "source": [
    "# since watch is not use it'll give None becoz we didn;t define what grad we want\n",
    "with tf.GradientTape() as tape:\n",
    "    #define your function\n",
    "    f = tf.sqrt(tf.square(x) + tf.square(y))\n",
    "\n",
    "    df_dx, df_dy = tape.gradient(f, [x, y]) ## partial diff wrt x and y\n",
    "\n",
    "    print(df_dx)\n",
    "    print(df_dy)"
   ]
  },
  {
   "cell_type": "code",
   "execution_count": 93,
   "metadata": {
    "ExecuteTime": {
     "end_time": "2022-06-12T04:07:49.762280Z",
     "start_time": "2022-06-12T04:07:49.737368Z"
    },
    "id": "StiJ6jBT3fbN"
   },
   "outputs": [],
   "source": [
    "x = tf.Variable(tf.random.normal(shape=(2,2))) # this is will create a variable\n",
    "y = tf.Variable(tf.random.normal(shape=(2,2)))"
   ]
  },
  {
   "cell_type": "code",
   "execution_count": 94,
   "metadata": {
    "ExecuteTime": {
     "end_time": "2022-06-12T04:07:50.092874Z",
     "start_time": "2022-06-12T04:07:50.002121Z"
    },
    "colab": {
     "base_uri": "https://localhost:8080/"
    },
    "id": "Q3WEHsa23uGy",
    "outputId": "cce05447-1885-4657-f73d-1eeb00bf56fb"
   },
   "outputs": [
    {
     "name": "stdout",
     "output_type": "stream",
     "text": [
      "tf.Tensor(\n",
      "[[ 0.6553638  -0.8487272 ]\n",
      " [ 0.3475067   0.28271398]], shape=(2, 2), dtype=float32)\n",
      "tf.Tensor(\n",
      "[[-0.7553134   0.5288308 ]\n",
      " [ 0.9376775  -0.95920426]], shape=(2, 2), dtype=float32)\n"
     ]
    }
   ],
   "source": [
    "# we don't need watch here as x and y are variable\n",
    "with tf.GradientTape() as tape:\n",
    "    #define your function\n",
    "    f = tf.sqrt(tf.square(x) + tf.square(y))\n",
    "\n",
    "    df_dx, df_dy = tape.gradient(f, [x, y]) ## partial diff wrt x and y\n",
    "\n",
    "    print(df_dx)\n",
    "    print(df_dy)"
   ]
  },
  {
   "cell_type": "code",
   "execution_count": 95,
   "metadata": {
    "ExecuteTime": {
     "end_time": "2022-06-12T04:07:50.328151Z",
     "start_time": "2022-06-12T04:07:50.315186Z"
    },
    "id": "CVIcc6tr3v9s"
   },
   "outputs": [],
   "source": [
    "# another example\n",
    "\n",
    "x = tf.Variable(3.)\n",
    "y = tf.Variable(2.)"
   ]
  },
  {
   "cell_type": "code",
   "execution_count": 96,
   "metadata": {
    "ExecuteTime": {
     "end_time": "2022-06-12T04:07:55.879524Z",
     "start_time": "2022-06-12T04:07:55.805720Z"
    },
    "colab": {
     "base_uri": "https://localhost:8080/"
    },
    "id": "VUxyhzQh37L3",
    "outputId": "37f186df-1ead-4243-cd99-d1dde99228a7"
   },
   "outputs": [
    {
     "name": "stdout",
     "output_type": "stream",
     "text": [
      "tf.Tensor(0.8320503, shape=(), dtype=float32)\n",
      "tf.Tensor(0.5547002, shape=(), dtype=float32)\n"
     ]
    }
   ],
   "source": [
    "with tf.GradientTape() as tape:\n",
    "    #define your function\n",
    "    f = tf.sqrt(tf.square(x) + tf.square(y))\n",
    "\n",
    "    df_dx, df_dy = tape.gradient(f, [x, y]) ## partial diff wrt x and y\n",
    "\n",
    "    print(df_dx)\n",
    "    print(df_dy)"
   ]
  },
  {
   "cell_type": "code",
   "execution_count": 97,
   "metadata": {
    "ExecuteTime": {
     "end_time": "2022-06-12T04:07:56.717125Z",
     "start_time": "2022-06-12T04:07:56.613370Z"
    },
    "colab": {
     "base_uri": "https://localhost:8080/"
    },
    "id": "YmODoIjV5Ari",
    "outputId": "897b41e4-9b39-47b4-fadc-19d9e2c55e1d"
   },
   "outputs": [
    {
     "data": {
      "text/plain": [
       "<tf.Tensor: shape=(), dtype=float32, numpy=0.8320503>"
      ]
     },
     "execution_count": 97,
     "metadata": {},
     "output_type": "execute_result"
    }
   ],
   "source": [
    "# verify the ablove answer\n",
    "\n",
    "# this is df_dx of function f\n",
    "x/tf.sqrt(tf.square(x) + tf.square(y))"
   ]
  },
  {
   "cell_type": "code",
   "execution_count": 98,
   "metadata": {
    "ExecuteTime": {
     "end_time": "2022-06-12T04:07:56.980019Z",
     "start_time": "2022-06-12T04:07:56.967090Z"
    },
    "colab": {
     "base_uri": "https://localhost:8080/"
    },
    "id": "pYDdE_iK5REh",
    "outputId": "5000d79c-147d-4072-f055-02c2d199ad19"
   },
   "outputs": [
    {
     "data": {
      "text/plain": [
       "<tf.Tensor: shape=(), dtype=float32, numpy=0.5547002>"
      ]
     },
     "execution_count": 98,
     "metadata": {},
     "output_type": "execute_result"
    }
   ],
   "source": [
    "# this is df_dy of function f\n",
    "y/tf.sqrt(tf.square(x) + tf.square(y))"
   ]
  },
  {
   "cell_type": "markdown",
   "metadata": {
    "id": "IpkKw1yb5c6p"
   },
   "source": [
    "## Simple linear regression example"
   ]
  },
  {
   "cell_type": "markdown",
   "metadata": {
    "id": "pw46VlPA5nfh"
   },
   "source": [
    "$f(x) = W.x + b$"
   ]
  },
  {
   "cell_type": "code",
   "execution_count": 100,
   "metadata": {
    "ExecuteTime": {
     "end_time": "2022-06-12T04:12:46.855883Z",
     "start_time": "2022-06-12T04:12:46.846973Z"
    },
    "id": "oajRhzIU5Ucm"
   },
   "outputs": [],
   "source": [
    "TRUE_W = 3.0\n",
    "TRUE_B = 2.0\n",
    "\n",
    "NUM_EXAMPLES = 1000\n",
    "\n",
    "x = tf.random.normal(shape=[NUM_EXAMPLES])"
   ]
  },
  {
   "cell_type": "code",
   "execution_count": 101,
   "metadata": {
    "ExecuteTime": {
     "end_time": "2022-06-12T04:12:47.136540Z",
     "start_time": "2022-06-12T04:12:47.124531Z"
    },
    "id": "xuZ4DFU857ng",
    "run_control": {
     "marked": true
    }
   },
   "outputs": [],
   "source": [
    "# we use noise so that data is spread and not a straight line to simulate more realistic data\n",
    "\n",
    "noise = tf.random.normal(shape=[NUM_EXAMPLES])"
   ]
  },
  {
   "cell_type": "code",
   "execution_count": 102,
   "metadata": {
    "ExecuteTime": {
     "end_time": "2022-06-12T04:12:47.356843Z",
     "start_time": "2022-06-12T04:12:47.344878Z"
    },
    "id": "hIzgxmVN6FXo"
   },
   "outputs": [],
   "source": [
    "y = x * TRUE_W + TRUE_B + noise"
   ]
  },
  {
   "cell_type": "code",
   "execution_count": 103,
   "metadata": {
    "ExecuteTime": {
     "end_time": "2022-06-12T04:12:52.160045Z",
     "start_time": "2022-06-12T04:12:47.550327Z"
    },
    "colab": {
     "base_uri": "https://localhost:8080/",
     "height": 265
    },
    "id": "UNOKYHp96KL1",
    "outputId": "acdb80ef-73d1-4e41-8280-9ec04f12777f"
   },
   "outputs": [
    {
     "data": {
      "image/png": "[encoded data removed]",
      "text/plain": [
       "<Figure size 432x288 with 1 Axes>"
      ]
     },
     "metadata": {
      "needs_background": "light"
     },
     "output_type": "display_data"
    }
   ],
   "source": [
    "import matplotlib.pyplot as plt\n",
    "\n",
    "plt.scatter(x, y, c=\"b\")\n",
    "plt.show()"
   ]
  },
  {
   "cell_type": "markdown",
   "metadata": {
    "id": "WcYrKlHM6f58"
   },
   "source": [
    "### Lets define a model"
   ]
  },
  {
   "cell_type": "code",
   "execution_count": 112,
   "metadata": {
    "ExecuteTime": {
     "end_time": "2022-06-12T04:16:43.373749Z",
     "start_time": "2022-06-12T04:16:43.360750Z"
    },
    "id": "ACGiBJHw6VQp"
   },
   "outputs": [],
   "source": [
    "class MyModel(tf.Module):\n",
    "    def __init__(self, **kwargs):\n",
    "        super().__init__(**kwargs)\n",
    "\n",
    "        # set initial weights\n",
    "        self.w = tf.Variable(5.0)\n",
    "        self.b = tf.Variable(0.0)\n",
    "\n",
    "    def __call__(self, x):\n",
    "        return self.w*x + self.b"
   ]
  },
  {
   "cell_type": "code",
   "execution_count": 113,
   "metadata": {
    "ExecuteTime": {
     "end_time": "2022-06-12T04:16:43.610531Z",
     "start_time": "2022-06-12T04:16:43.605545Z"
    },
    "id": "m4R6I0lT7Ajd"
   },
   "outputs": [],
   "source": [
    "# example to test __call__ funtion\n",
    "\n",
    "class Test:\n",
    "    def __init__(self, x):\n",
    "        self.x = x\n",
    "\n",
    "    def __call__(self):\n",
    "        return self.x ** 3"
   ]
  },
  {
   "cell_type": "code",
   "execution_count": 114,
   "metadata": {
    "ExecuteTime": {
     "end_time": "2022-06-12T04:16:43.843521Z",
     "start_time": "2022-06-12T04:16:43.836542Z"
    },
    "colab": {
     "base_uri": "https://localhost:8080/"
    },
    "id": "abzFnvhd7NTz",
    "outputId": "6409963a-98e7-4dbb-cad0-f92b0ef62d4c"
   },
   "outputs": [
    {
     "data": {
      "text/plain": [
       "<__main__.Test at 0x1f98b2604c8>"
      ]
     },
     "execution_count": 114,
     "metadata": {},
     "output_type": "execute_result"
    }
   ],
   "source": [
    "# we we object here\n",
    "obj = Test(2)\n",
    "obj"
   ]
  },
  {
   "cell_type": "code",
   "execution_count": 115,
   "metadata": {
    "ExecuteTime": {
     "end_time": "2022-06-12T04:16:44.047580Z",
     "start_time": "2022-06-12T04:16:44.039595Z"
    },
    "colab": {
     "base_uri": "https://localhost:8080/"
    },
    "id": "xzJUOt6F7QYW",
    "outputId": "e081e71d-f54b-40e8-bcb3-6ec92a96f37f"
   },
   "outputs": [
    {
     "data": {
      "text/plain": [
       "8"
      ]
     },
     "execution_count": 115,
     "metadata": {},
     "output_type": "execute_result"
    }
   ],
   "source": [
    "# to get exact value add () after the object\n",
    "obj()"
   ]
  },
  {
   "cell_type": "code",
   "execution_count": 116,
   "metadata": {
    "ExecuteTime": {
     "end_time": "2022-06-12T04:16:44.420456Z",
     "start_time": "2022-06-12T04:16:44.405496Z"
    },
    "id": "mQVSyWXV7Syo"
   },
   "outputs": [],
   "source": [
    "# coming to our method\n",
    "model = MyModel()"
   ]
  },
  {
   "cell_type": "code",
   "execution_count": 117,
   "metadata": {
    "ExecuteTime": {
     "end_time": "2022-06-12T04:16:45.451905Z",
     "start_time": "2022-06-12T04:16:45.428932Z"
    },
    "colab": {
     "base_uri": "https://localhost:8080/"
    },
    "id": "wubS1NxS7cQv",
    "outputId": "2c521ca6-64c8-46c5-bdb9-bd45455c64f4"
   },
   "outputs": [
    {
     "data": {
      "text/plain": [
       "<tf.Tensor: shape=(), dtype=float32, numpy=15.0>"
      ]
     },
     "execution_count": 117,
     "metadata": {},
     "output_type": "execute_result"
    }
   ],
   "source": [
    "# 3 * weight + bias = 3 * 5 + 0 = 15\n",
    "model(3)"
   ]
  },
  {
   "cell_type": "code",
   "execution_count": 118,
   "metadata": {
    "ExecuteTime": {
     "end_time": "2022-06-12T04:16:45.687430Z",
     "start_time": "2022-06-12T04:16:45.668478Z"
    },
    "colab": {
     "base_uri": "https://localhost:8080/"
    },
    "id": "9OBNo2RQ7djt",
    "outputId": "7c1ee0ac-57c5-426e-b3f7-f4ee5ab7febd"
   },
   "outputs": [
    {
     "data": {
      "text/plain": [
       "<tf.Variable 'Variable:0' shape=() dtype=float32, numpy=5.0>"
      ]
     },
     "execution_count": 118,
     "metadata": {},
     "output_type": "execute_result"
    }
   ],
   "source": [
    "# weight  = 5\n",
    "model.w"
   ]
  },
  {
   "cell_type": "code",
   "execution_count": 119,
   "metadata": {
    "ExecuteTime": {
     "end_time": "2022-06-12T04:16:45.891880Z",
     "start_time": "2022-06-12T04:16:45.877920Z"
    },
    "colab": {
     "base_uri": "https://localhost:8080/"
    },
    "id": "pECICIjf7ok-",
    "outputId": "15c034cd-89a6-47f1-f7fc-af81a4005026"
   },
   "outputs": [
    {
     "data": {
      "text/plain": [
       "<tf.Variable 'Variable:0' shape=() dtype=float32, numpy=0.0>"
      ]
     },
     "execution_count": 119,
     "metadata": {},
     "output_type": "execute_result"
    }
   ],
   "source": [
    "# bias = 0\n",
    "model.b"
   ]
  },
  {
   "cell_type": "code",
   "execution_count": 120,
   "metadata": {
    "ExecuteTime": {
     "end_time": "2022-06-12T04:16:46.093343Z",
     "start_time": "2022-06-12T04:16:46.080381Z"
    },
    "colab": {
     "base_uri": "https://localhost:8080/"
    },
    "id": "zs_4v_dA7p-Y",
    "outputId": "b5b5d0e6-dc90-4af7-968d-7846c1fc7562"
   },
   "outputs": [
    {
     "data": {
      "text/plain": [
       "(<tf.Variable 'Variable:0' shape=() dtype=float32, numpy=0.0>,\n",
       " <tf.Variable 'Variable:0' shape=() dtype=float32, numpy=5.0>)"
      ]
     },
     "execution_count": 120,
     "metadata": {},
     "output_type": "execute_result"
    }
   ],
   "source": [
    "model.variables"
   ]
  },
  {
   "cell_type": "markdown",
   "metadata": {
    "id": "GhIp3fZo7xMZ"
   },
   "source": [
    "### Define loss function"
   ]
  },
  {
   "cell_type": "code",
   "execution_count": 121,
   "metadata": {
    "ExecuteTime": {
     "end_time": "2022-06-12T04:16:53.984934Z",
     "start_time": "2022-06-12T04:16:53.965985Z"
    },
    "id": "_EE5h0WG7tky"
   },
   "outputs": [],
   "source": [
    "def MSE_loss(target_y, predicted_y):\n",
    "    error = target_y - predicted_y\n",
    "    squared_error = tf.square(error)\n",
    "    mse = tf.reduce_mean(squared_error)\n",
    "    return mse"
   ]
  },
  {
   "cell_type": "code",
   "execution_count": 122,
   "metadata": {
    "ExecuteTime": {
     "end_time": "2022-06-12T04:16:54.604991Z",
     "start_time": "2022-06-12T04:16:54.415984Z"
    },
    "colab": {
     "base_uri": "https://localhost:8080/",
     "height": 265
    },
    "id": "YBL05AZP8DGz",
    "outputId": "46f22ab5-caa8-4254-fa32-1a91def5442b"
   },
   "outputs": [
    {
     "data": {
      "image/png": "[encoded data removed]",
      "text/plain": [
       "<Figure size 432x288 with 1 Axes>"
      ]
     },
     "metadata": {
      "needs_background": "light"
     },
     "output_type": "display_data"
    }
   ],
   "source": [
    "\n",
    "plt.scatter(x, y, c=\"b\")\n",
    "\n",
    "pred_y = model(x) ## without training\n",
    "plt.scatter(x, pred_y, c=\"r\") \n",
    "\n",
    "plt.show()"
   ]
  },
  {
   "cell_type": "code",
   "execution_count": 123,
   "metadata": {
    "ExecuteTime": {
     "end_time": "2022-06-12T04:17:55.534433Z",
     "start_time": "2022-06-12T04:17:55.454615Z"
    },
    "colab": {
     "base_uri": "https://localhost:8080/"
    },
    "id": "QnbPsj348Q83",
    "outputId": "50bb16a7-934d-46e3-8719-ad176362ca03"
   },
   "outputs": [
    {
     "data": {
      "text/plain": [
       "8.842401"
      ]
     },
     "execution_count": 123,
     "metadata": {},
     "output_type": "execute_result"
    }
   ],
   "source": [
    "current_loss  = MSE_loss(y, model(x))\n",
    "current_loss.numpy()"
   ]
  },
  {
   "cell_type": "markdown",
   "metadata": {
    "id": "g1G_PZ318miA"
   },
   "source": [
    "### training function def"
   ]
  },
  {
   "cell_type": "code",
   "execution_count": 125,
   "metadata": {
    "ExecuteTime": {
     "end_time": "2022-06-12T04:25:07.657611Z",
     "start_time": "2022-06-12T04:25:07.645646Z"
    },
    "id": "rt2_p-Rk8ggk"
   },
   "outputs": [],
   "source": [
    "def train(model, x, y, learning_rate):\n",
    "\n",
    "    with tf.GradientTape() as tape:\n",
    "        # define your function loss\n",
    "        current_loss = MSE_loss(y, model(x))\n",
    "    \n",
    "    # cost function w.r.t weight and cost w.r.t. bias\n",
    "    dc_dw, dc_db = tape.gradient(current_loss, [model.w, model.b]) ## partial diff wrt w and b\n",
    "    \n",
    "    # update weight and bias\n",
    "    # old_weight = new_weight - Learninf_rate * dc_dw\n",
    "    model.w.assign_sub(learning_rate * dc_dw)\n",
    "    model.b.assign_sub(learning_rate * dc_db)"
   ]
  },
  {
   "cell_type": "code",
   "execution_count": 126,
   "metadata": {
    "ExecuteTime": {
     "end_time": "2022-06-12T04:26:09.162693Z",
     "start_time": "2022-06-12T04:26:09.142750Z"
    },
    "colab": {
     "base_uri": "https://localhost:8080/"
    },
    "id": "5estg-TG9UHr",
    "outputId": "835ef3b5-82c7-4bf8-aa6a-b7a58bdbe7d2"
   },
   "outputs": [
    {
     "name": "stdout",
     "output_type": "stream",
     "text": [
      "Initial W: 5.0, initial bias: 0.0, initial_loss: 8.842400550842285\n"
     ]
    }
   ],
   "source": [
    "model = MyModel()\n",
    "\n",
    "# store weights and lias in list\n",
    "Ws, bs = [], []\n",
    "\n",
    "epochs = 10*2\n",
    "\n",
    "learning_rate = 0.1\n",
    "\n",
    "w = model.w.numpy()\n",
    "b = model.b.numpy()\n",
    "\n",
    "init_loss = MSE_loss(y, model(x)).numpy()\n",
    "\n",
    "print(f\"Initial W: {w}, initial bias: {b}, initial_loss: {init_loss}\")"
   ]
  },
  {
   "cell_type": "code",
   "execution_count": 127,
   "metadata": {
    "ExecuteTime": {
     "end_time": "2022-06-12T04:27:28.420465Z",
     "start_time": "2022-06-12T04:27:27.758863Z"
    },
    "colab": {
     "base_uri": "https://localhost:8080/"
    },
    "id": "LO7TnnHy9y3G",
    "outputId": "4c90c88a-fcd3-46de-9d95-1e5064794286"
   },
   "outputs": [
    {
     "name": "stdout",
     "output_type": "stream",
     "text": [
      "For epoch: 0, W: 4.629356384277344, b: 0.40205618739128113, current_loss: 6.13776159286499\n",
      "For epoch: 1, W: 4.327208995819092, b: 0.7251774668693542, current_loss: 4.367605686187744\n",
      "For epoch: 2, W: 4.080918312072754, b: 0.9848779439926147, current_loss: 3.2088284492492676\n",
      "For epoch: 3, W: 3.8801727294921875, b: 1.1936192512512207, current_loss: 2.450122356414795\n",
      "For epoch: 4, W: 3.716561794281006, b: 1.3614119291305542, current_loss: 1.953266978263855\n",
      "For epoch: 5, W: 3.5832252502441406, b: 1.4962977170944214, current_loss: 1.62782883644104\n",
      "For epoch: 6, W: 3.4745688438415527, b: 1.6047375202178955, current_loss: 1.4146289825439453\n",
      "For epoch: 7, W: 3.3860301971435547, b: 1.6919220685958862, current_loss: 1.2749329805374146\n",
      "For epoch: 8, W: 3.3138890266418457, b: 1.7620223760604858, current_loss: 1.1833828687667847\n",
      "For epoch: 9, W: 3.255112409591675, b: 1.8183900117874146, current_loss: 1.1233750581741333\n",
      "For epoch: 10, W: 3.2072272300720215, b: 1.8637181520462036, current_loss: 1.0840352773666382\n",
      "For epoch: 11, W: 3.168217897415161, b: 1.9001713991165161, current_loss: 1.0582408905029297\n",
      "For epoch: 12, W: 3.1364409923553467, b: 1.9294893741607666, current_loss: 1.0413248538970947\n",
      "For epoch: 13, W: 3.1105570793151855, b: 1.9530704021453857, current_loss: 1.0302296876907349\n",
      "For epoch: 14, W: 3.0894744396209717, b: 1.9720382690429688, current_loss: 1.022951364517212\n",
      "For epoch: 15, W: 3.072303533554077, b: 1.9872965812683105, current_loss: 1.0181760787963867\n",
      "For epoch: 16, W: 3.058319330215454, b: 1.9995715618133545, current_loss: 1.0150424242019653\n",
      "For epoch: 17, W: 3.046931028366089, b: 2.0094473361968994, current_loss: 1.0129859447479248\n",
      "For epoch: 18, W: 3.0376572608947754, b: 2.0173933506011963, current_loss: 1.0116358995437622\n",
      "For epoch: 19, W: 3.0301055908203125, b: 2.023787021636963, current_loss: 1.0107499361038208\n"
     ]
    }
   ],
   "source": [
    "for epoch in range(epochs):\n",
    "    train(model, x, y, learning_rate)\n",
    "\n",
    "    Ws.append(model.w.numpy())\n",
    "    bs.append(model.b.numpy())\n",
    "    \n",
    "    # calc current loss at every epoch\n",
    "    current_loss = MSE_loss(y, model(x))\n",
    "    \n",
    "    # printing the latest value which is stored at last index in list\n",
    "    print(f\"For epoch: {epoch}, W: {Ws[-1]}, b: {bs[-1]}, current_loss: {current_loss}\")"
   ]
  },
  {
   "cell_type": "code",
   "execution_count": 128,
   "metadata": {
    "ExecuteTime": {
     "end_time": "2022-06-12T04:27:31.292741Z",
     "start_time": "2022-06-12T04:27:31.108635Z"
    },
    "colab": {
     "base_uri": "https://localhost:8080/",
     "height": 265
    },
    "id": "N0xFi-9i-WEk",
    "outputId": "c6953812-9b80-4474-e7bf-371c43cc5ab6"
   },
   "outputs": [
    {
     "data": {
      "image/png": "[encoded data removed]",
      "text/plain": [
       "<Figure size 432x288 with 1 Axes>"
      ]
     },
     "metadata": {
      "needs_background": "light"
     },
     "output_type": "display_data"
    }
   ],
   "source": [
    "plt.plot(range(epochs), Ws, 'r', range(epochs), bs, \"b\")\n",
    "\n",
    "plt.plot([TRUE_W] * epochs, \"r--\", [TRUE_B] * epochs, \"b--\")\n",
    "\n",
    "plt.legend([\"W\", \"b\", \"True W\", \"True B\"])\n",
    "\n",
    "plt.show()"
   ]
  },
  {
   "cell_type": "code",
   "execution_count": 129,
   "metadata": {
    "ExecuteTime": {
     "end_time": "2022-06-12T04:27:32.816054Z",
     "start_time": "2022-06-12T04:27:32.558195Z"
    },
    "colab": {
     "base_uri": "https://localhost:8080/",
     "height": 265
    },
    "id": "ELZIh7Zq-9M3",
    "outputId": "fbdc21d6-abda-4c23-c689-da5113bf7b56"
   },
   "outputs": [
    {
     "data": {
      "image/png": "[encoded data removed]",
      "text/plain": [
       "<Figure size 432x288 with 1 Axes>"
      ]
     },
     "metadata": {
      "needs_background": "light"
     },
     "output_type": "display_data"
    }
   ],
   "source": [
    "plt.scatter(x, y, c=\"b\")\n",
    "\n",
    "pred_y = model(x) ## after training\n",
    "plt.scatter(x, pred_y, c=\"r\") \n",
    "\n",
    "plt.show()"
   ]
  },
  {
   "cell_type": "code",
   "execution_count": null,
   "metadata": {
    "id": "YlVzgx_-_Gcy"
   },
   "outputs": [],
   "source": []
  }
 ],
 "metadata": {
  "accelerator": "GPU",
  "colab": {
   "collapsed_sections": [],
   "name": "TensorFlow.ipynb",
   "provenance": [],
   "toc_visible": true
  },
  "kernelspec": {
   "display_name": "Python 3 (ipykernel)",
   "language": "python",
   "name": "python3"
  },
  "language_info": {
   "codemirror_mode": {
    "name": "ipython",
    "version": 3
   },
   "file_extension": ".py",
   "mimetype": "text/x-python",
   "name": "python",
   "nbconvert_exporter": "python",
   "pygments_lexer": "ipython3",
   "version": "3.7.11"
  },
  "latex_envs": {
   "LaTeX_envs_menu_present": true,
   "autoclose": false,
   "autocomplete": true,
   "bibliofile": "biblio.bib",
   "cite_by": "apalike",
   "current_citInitial": 1,
   "eqLabelWithNumbers": true,
   "eqNumInitial": 1,
   "hotkeys": {
    "equation": "Ctrl-E",
    "itemize": "Ctrl-I"
   },
   "labels_anchors": false,
   "latex_user_defs": false,
   "report_style_numbering": false,
   "user_envs_cfg": false
  },
  "toc": {
   "base_numbering": 1,
   "nav_menu": {},
   "number_sections": true,
   "sideBar": true,
   "skip_h1_title": false,
   "title_cell": "Table of Contents",
   "title_sidebar": "Contents",
   "toc_cell": false,
   "toc_position": {},
   "toc_section_display": true,
   "toc_window_display": false
  },
  "varInspector": {
   "cols": {
    "lenName": 16,
    "lenType": 16,
    "lenVar": 40
   },
   "kernels_config": {
    "python": {
     "delete_cmd_postfix": "",
     "delete_cmd_prefix": "del ",
     "library": "var_list.py",
     "varRefreshCmd": "print(var_dic_list())"
    },
    "r": {
     "delete_cmd_postfix": ") ",
     "delete_cmd_prefix": "rm(",
     "library": "var_list.r",
     "varRefreshCmd": "cat(var_dic_list()) "
    }
   },
   "types_to_exclude": [
    "module",
    "function",
    "builtin_function_or_method",
    "instance",
    "_Feature"
   ],
   "window_display": false
  }
 },
 "nbformat": 4,
 "nbformat_minor": 1
}
